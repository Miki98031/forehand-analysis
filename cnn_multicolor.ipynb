{
 "cells": [
  {
   "cell_type": "code",
   "execution_count": 1,
   "id": "0e7dbe91",
   "metadata": {},
   "outputs": [
    {
     "name": "stderr",
     "output_type": "stream",
     "text": [
      "C:\\Users\\mihai\\anaconda3\\envs\\gpu_env\\Lib\\site-packages\\transformers\\utils\\generic.py:441: UserWarning: torch.utils._pytree._register_pytree_node is deprecated. Please use torch.utils._pytree.register_pytree_node instead.\n",
      "  _torch_pytree._register_pytree_node(\n"
     ]
    }
   ],
   "source": [
    "import torch\n",
    "from torch import nn\n",
    "from torch.nn import CrossEntropyLoss, BCEWithLogitsLoss\n",
    "from torch.optim import Adam\n",
    "from torch.utils.data import DataLoader, Subset\n",
    "from torchvision import datasets, transforms \n",
    "from PIL import Image \n",
    "import os\n",
    "from tqdm import tqdm\n",
    "import random\n",
    "import numpy as np\n",
    "from matplotlib import pyplot as plt\n",
    "from sklearn.model_selection import train_test_split"
   ]
  },
  {
   "cell_type": "code",
   "execution_count": 2,
   "id": "d3d73147",
   "metadata": {},
   "outputs": [],
   "source": [
    "videos_path = r'C:\\Users\\mihai\\Desktop\\forehand-analysis\\Images_datasets\\images_dataset_cnn_multi'"
   ]
  },
  {
   "cell_type": "code",
   "execution_count": 3,
   "id": "34cb6849",
   "metadata": {},
   "outputs": [
    {
     "data": {
      "text/plain": [
       "Dataset ImageFolder\n",
       "    Number of datapoints: 110\n",
       "    Root location: C:\\Users\\mihai\\Desktop\\forehand-analysis\\images_datasets\\images_dataset_cnn_multi\n",
       "    StandardTransform\n",
       "Transform: Compose(\n",
       "               Resize(size=(385, 422), interpolation=bilinear, max_size=None, antialias=True)\n",
       "               ToTensor()\n",
       "           )"
      ]
     },
     "execution_count": 3,
     "metadata": {},
     "output_type": "execute_result"
    }
   ],
   "source": [
    "transform = transforms.Compose([\n",
    "    transforms.Resize((385, 422)),\n",
    "    transforms.ToTensor()\n",
    "])\n",
    "\n",
    "dataset = datasets.ImageFolder(root=videos_path, transform=transform)\n",
    "dataset"
   ]
  },
  {
   "cell_type": "code",
   "execution_count": 4,
   "id": "7a6e51e7",
   "metadata": {},
   "outputs": [],
   "source": [
    "# img, label = dataset[124]\n",
    "# img_height = img.shape[1]\n",
    "# img_width = img.shape[2]\n",
    "# print(img.shape)\n",
    "# plt.imshow(img.permute(1, 2, 0))"
   ]
  },
  {
   "cell_type": "code",
   "execution_count": 5,
   "id": "ebfa2b78",
   "metadata": {},
   "outputs": [],
   "source": [
    "class ConvNet(nn.Module):\n",
    "    def __init__(self):\n",
    "        super().__init__()\n",
    "        \n",
    "        self.layer1 = nn.Conv2d(3, 16, 3) \n",
    "        self.layer2 = nn.Conv2d(16, 32, 3)\n",
    "        self.pool = nn.MaxPool2d(2)\n",
    "        self.flatten = nn.Flatten(start_dim=1)\n",
    "        self.activation = nn.ReLU()\n",
    "        self.layer3 = nn.Linear(312832, 128)\n",
    "        self.fc = nn.Linear(128, 1)\n",
    "        self.dropout = nn.Dropout(p=0.2)\n",
    "\n",
    "    def forward(self, x):\n",
    "        #print(x.shape)\n",
    "        x = self.activation(self.layer1(x))\n",
    "        #print(x.shape)\n",
    "        x = self.pool(x)\n",
    "        #print(x.shape)\n",
    "        x = self.activation(self.layer2(x))\n",
    "        #print(x.shape)\n",
    "        x = self.pool(x)\n",
    "        #print(x.shape)\n",
    "        x = self.flatten(x)\n",
    "        #print(x.shape)\n",
    "        x = self.activation(self.layer3(x))\n",
    "        #print(x.shape)\n",
    "        x = self.fc(x)\n",
    "        return x.squeeze(1)"
   ]
  },
  {
   "cell_type": "code",
   "execution_count": 6,
   "id": "323ac48c",
   "metadata": {},
   "outputs": [],
   "source": [
    "model = ConvNet()"
   ]
  },
  {
   "cell_type": "code",
   "execution_count": 7,
   "id": "e7414ccf",
   "metadata": {},
   "outputs": [],
   "source": [
    "#model(img.reshape(1,3,img_height,img_width)) # dodajemo batch_size=1"
   ]
  },
  {
   "cell_type": "code",
   "execution_count": 8,
   "id": "5667a193",
   "metadata": {},
   "outputs": [
    {
     "data": {
      "text/plain": [
       "ConvNet(\n",
       "  (layer1): Conv2d(3, 16, kernel_size=(3, 3), stride=(1, 1))\n",
       "  (layer2): Conv2d(16, 32, kernel_size=(3, 3), stride=(1, 1))\n",
       "  (pool): MaxPool2d(kernel_size=2, stride=2, padding=0, dilation=1, ceil_mode=False)\n",
       "  (flatten): Flatten(start_dim=1, end_dim=-1)\n",
       "  (activation): ReLU()\n",
       "  (layer3): Linear(in_features=312832, out_features=128, bias=True)\n",
       "  (fc): Linear(in_features=128, out_features=1, bias=True)\n",
       "  (dropout): Dropout(p=0.2, inplace=False)\n",
       ")"
      ]
     },
     "execution_count": 8,
     "metadata": {},
     "output_type": "execute_result"
    }
   ],
   "source": [
    "loss_fn = BCEWithLogitsLoss()\n",
    "optimizer = Adam(model.parameters())\n",
    "device = 'gpu' if torch.cuda.is_available() else 'cpu'\n",
    "model.to(device)"
   ]
  },
  {
   "cell_type": "code",
   "execution_count": 9,
   "id": "ec33eed3-9882-4e7d-976a-ac2b97b0f03c",
   "metadata": {},
   "outputs": [],
   "source": [
    "#other_test_indices = list(range(43, 53)) + list(range(101, 108)) + list(range(156, 163))"
   ]
  },
  {
   "cell_type": "code",
   "execution_count": 10,
   "id": "ffdfbd48",
   "metadata": {},
   "outputs": [],
   "source": [
    "other_test_indices = list(range(48, 55)) + list(range(103, 110))\n",
    "dataset_indices = [x for x in range(len(dataset)) if x not in other_test_indices]\n",
    "dataset_labels = [dataset.targets[i] for i in dataset_indices]\n",
    "\n",
    "#dataset_indices"
   ]
  },
  {
   "cell_type": "code",
   "execution_count": 11,
   "id": "bf924e79",
   "metadata": {},
   "outputs": [],
   "source": [
    "random_state=42"
   ]
  },
  {
   "cell_type": "code",
   "execution_count": 12,
   "id": "d5d47179",
   "metadata": {},
   "outputs": [
    {
     "data": {
      "text/plain": [
       "30"
      ]
     },
     "execution_count": 12,
     "metadata": {},
     "output_type": "execute_result"
    }
   ],
   "source": [
    "whole_train_idx, test_idx = train_test_split(dataset_indices, test_size=30, stratify=dataset_labels, random_state=random_state)\n",
    "test_dataset = Subset(dataset, test_idx)\n",
    "len(test_dataset)"
   ]
  },
  {
   "cell_type": "code",
   "execution_count": 13,
   "id": "9862c8e8",
   "metadata": {},
   "outputs": [
    {
     "data": {
      "text/plain": [
       "15"
      ]
     },
     "execution_count": 13,
     "metadata": {},
     "output_type": "execute_result"
    }
   ],
   "source": [
    "whole_train_dataset = Subset(dataset, whole_train_idx)\n",
    "wtd_labels = [dataset.targets[i] for i in whole_train_idx]\n",
    "#print(wtd_labels)\n",
    "train_idx, val_idx = train_test_split(whole_train_idx, test_size=15, stratify=wtd_labels, random_state=random_state)\n",
    "val_dataset = Subset(dataset, val_idx)\n",
    "len(val_dataset)"
   ]
  },
  {
   "cell_type": "code",
   "execution_count": 14,
   "id": "c945cb1b",
   "metadata": {},
   "outputs": [
    {
     "data": {
      "text/plain": [
       "51"
      ]
     },
     "execution_count": 14,
     "metadata": {},
     "output_type": "execute_result"
    }
   ],
   "source": [
    "train_dataset = Subset(dataset, train_idx)\n",
    "len(train_dataset)"
   ]
  },
  {
   "cell_type": "code",
   "execution_count": 15,
   "id": "8b77d370",
   "metadata": {},
   "outputs": [
    {
     "data": {
      "text/plain": [
       "14"
      ]
     },
     "execution_count": 15,
     "metadata": {},
     "output_type": "execute_result"
    }
   ],
   "source": [
    "other_test_dataset = Subset(dataset, other_test_indices)\n",
    "len(other_test_dataset)"
   ]
  },
  {
   "cell_type": "code",
   "execution_count": 16,
   "id": "3c56f082",
   "metadata": {},
   "outputs": [],
   "source": [
    "train_loader = DataLoader(train_dataset, batch_size=4, shuffle=True)\n",
    "val_loader = DataLoader(val_dataset, batch_size=4)\n",
    "test_loader = DataLoader(test_dataset, batch_size=4)\n",
    "other_test_loader = DataLoader(other_test_dataset, batch_size=4)"
   ]
  },
  {
   "cell_type": "code",
   "execution_count": 17,
   "id": "2bbc2c9c",
   "metadata": {},
   "outputs": [],
   "source": [
    "def train_loop(dataloader, model, loss_fn, optimizer, device):\n",
    "    model.train()\n",
    "    \n",
    "    total_loss = 0\n",
    "    num_same = 0\n",
    "    \n",
    "    for X, y in dataloader:\n",
    "        X, y = X.to(device), y.to(device, dtype=torch.float32) \n",
    "        \n",
    "        #forward pass\n",
    "        outputs = model(X)\n",
    "        loss = loss_fn(outputs, y)\n",
    "        total_loss += loss.item()\n",
    "        \n",
    "        if len(outputs.shape) == 1: # accuracy - dve klase\n",
    "            preds = outputs > 0\n",
    "            num_same += sum(preds == y).item()\n",
    "                \n",
    "        else: # accuracy - vise klasa\n",
    "            _, indices = torch.max(outputs, 1)\n",
    "            num_same += sum(indices == y).item()\n",
    "        \n",
    "        #backward pass\n",
    "        loss.backward()\n",
    "        optimizer.step()\n",
    "        optimizer.zero_grad()\n",
    "    \n",
    "    avg_loss = total_loss / len(dataloader.dataset)\n",
    "    acc = num_same / len(dataloader.dataset)\n",
    "    return avg_loss, acc"
   ]
  },
  {
   "cell_type": "code",
   "execution_count": 18,
   "id": "49a8e638",
   "metadata": {},
   "outputs": [],
   "source": [
    "def test_loop(dataloader, model, loss_fn, device):\n",
    "    model.eval()\n",
    "    \n",
    "    with torch.no_grad():\n",
    "        total_loss = 0\n",
    "        num_same = 0\n",
    "        \n",
    "        for X, y in dataloader:\n",
    "            X, y = X.to(device), y.to(device, dtype=torch.float32) \n",
    "            \n",
    "            outputs = model(X)\n",
    "            loss = loss_fn(outputs, y)\n",
    "            total_loss += loss.item()\n",
    "\n",
    "            if len(outputs.shape) == 1: # accuracy - dve klase\n",
    "                preds = outputs > 0\n",
    "                print(outputs)\n",
    "                print(preds, \" : \", y)\n",
    "                num_same += sum(preds == y).item()\n",
    "                \n",
    "            else: # accuracy - vise klasa\n",
    "                _, indices = torch.max(outputs, 1)\n",
    "                print(outputs)\n",
    "                print(indices, \" : \", y)\n",
    "                num_same += sum(indices == y).item()\n",
    "        \n",
    "        avg_loss = total_loss / len(dataloader.dataset)\n",
    "        acc = num_same / len(dataloader.dataset)\n",
    "        print(f'Average loss: {avg_loss}')\n",
    "        print(f'Accuracy: {acc}')\n",
    "        print()\n",
    "        \n",
    "        return avg_loss, acc"
   ]
  },
  {
   "cell_type": "code",
   "execution_count": 19,
   "id": "82130565",
   "metadata": {
    "scrolled": true
   },
   "outputs": [
    {
     "name": "stderr",
     "output_type": "stream",
     "text": [
      "  0%|                                                                                           | 0/20 [00:00<?, ?it/s]"
     ]
    },
    {
     "name": "stdout",
     "output_type": "stream",
     "text": [
      "tensor([1.4114, 1.8187, 1.3339, 1.3677])\n",
      "tensor([True, True, True, True])  :  tensor([0., 1., 0., 0.])\n",
      "tensor([1.4684, 1.4365, 1.6408, 1.4574])\n",
      "tensor([True, True, True, True])  :  tensor([0., 1., 1., 0.])\n",
      "tensor([1.6651, 1.4548, 1.4490, 1.5334])\n",
      "tensor([True, True, True, True])  :  tensor([1., 1., 0., 1.])\n"
     ]
    },
    {
     "name": "stderr",
     "output_type": "stream",
     "text": [
      "  5%|████▏                                                                              | 1/20 [00:05<01:53,  5.99s/it]"
     ]
    },
    {
     "name": "stdout",
     "output_type": "stream",
     "text": [
      "tensor([1.4092, 1.6759, 1.5548])\n",
      "tensor([True, True, True])  :  tensor([0., 1., 0.])\n",
      "Average loss: 0.2606862862904867\n",
      "Accuracy: 0.4666666666666667\n",
      "\n",
      "tensor([-0.5234,  4.3853, -0.2531, -1.4295])\n",
      "tensor([False,  True, False, False])  :  tensor([0., 1., 0., 0.])\n",
      "tensor([2.6722, 1.6392, 0.2157, 0.3731])\n",
      "tensor([True, True, True, True])  :  tensor([0., 1., 1., 0.])\n"
     ]
    },
    {
     "name": "stderr",
     "output_type": "stream",
     "text": [
      " 10%|████████▎                                                                          | 2/20 [00:11<01:42,  5.70s/it]"
     ]
    },
    {
     "name": "stdout",
     "output_type": "stream",
     "text": [
      "tensor([1.0923, 2.0244, 0.4612, 2.7730])\n",
      "tensor([True, True, True, True])  :  tensor([1., 1., 0., 1.])\n",
      "tensor([ 0.0735,  1.4977, -0.5667])\n",
      "tensor([ True,  True, False])  :  tensor([0., 1., 0.])\n",
      "Average loss: 0.148963862657547\n",
      "Accuracy: 0.7333333333333333\n",
      "\n",
      "tensor([-5.1756,  3.6625, -5.1072, -5.5399])\n",
      "tensor([False,  True, False, False])  :  tensor([0., 1., 0., 0.])\n",
      "tensor([-2.3453, -3.4362, -1.1872, -3.0741])\n",
      "tensor([False, False, False, False])  :  tensor([0., 1., 1., 0.])\n",
      "tensor([ 0.4025, -4.0559, -3.6338,  0.0927])\n",
      "tensor([ True, False, False,  True])  :  tensor([1., 1., 0., 1.])\n"
     ]
    },
    {
     "name": "stderr",
     "output_type": "stream",
     "text": [
      " 15%|████████████▍                                                                      | 3/20 [00:17<01:36,  5.69s/it]"
     ]
    },
    {
     "name": "stdout",
     "output_type": "stream",
     "text": [
      "tensor([-4.6979,  0.8697, -3.0647])\n",
      "tensor([False,  True, False])  :  tensor([0., 1., 0.])\n",
      "Average loss: 0.1816242997845014\n",
      "Accuracy: 0.8\n",
      "\n",
      "tensor([-9.0161,  9.5290, -8.4361, -8.5068])\n",
      "tensor([False,  True, False, False])  :  tensor([0., 1., 0., 0.])\n",
      "tensor([-1.5420, -2.6376,  5.9926, -3.4187])\n",
      "tensor([False, False,  True, False])  :  tensor([0., 1., 1., 0.])\n",
      "tensor([ 7.0796, -5.9288, -4.5480,  3.7104])\n",
      "tensor([ True, False, False,  True])  :  tensor([1., 1., 0., 1.])\n"
     ]
    },
    {
     "name": "stderr",
     "output_type": "stream",
     "text": [
      " 20%|████████████████▌                                                                  | 4/20 [00:22<01:31,  5.71s/it]"
     ]
    },
    {
     "name": "stdout",
     "output_type": "stream",
     "text": [
      "tensor([-7.3425,  6.8610, -4.7961])\n",
      "tensor([False,  True, False])  :  tensor([0., 1., 0.])\n",
      "Average loss: 0.1486023442489871\n",
      "Accuracy: 0.8666666666666667\n",
      "\n",
      "tensor([-9.6676, 11.0283, -9.1377, -8.5187])\n",
      "tensor([False,  True, False, False])  :  tensor([0., 1., 0., 0.])\n",
      "tensor([-0.8556, -2.1068,  9.2076, -2.9196])\n",
      "tensor([False, False,  True, False])  :  tensor([0., 1., 1., 0.])\n",
      "tensor([ 9.8209, -5.8091, -4.4552,  4.3966])\n",
      "tensor([ True, False, False,  True])  :  tensor([1., 1., 0., 1.])\n",
      "tensor([-8.1464,  9.6705, -4.6708])\n",
      "tensor([False,  True, False])  :  tensor([0., 1., 0.])\n",
      "Average loss: 0.14129501873297462\n",
      "Accuracy: 0.8666666666666667\n",
      "\n"
     ]
    },
    {
     "name": "stderr",
     "output_type": "stream",
     "text": [
      " 25%|████████████████████▊                                                              | 5/20 [00:28<01:26,  5.75s/it]"
     ]
    },
    {
     "name": "stdout",
     "output_type": "stream",
     "text": [
      "tensor([-12.2465,  10.4537, -11.7366, -10.9214])\n",
      "tensor([False,  True, False, False])  :  tensor([0., 1., 0., 0.])\n",
      "tensor([-3.0865, -4.3205,  7.8839, -5.0704])\n",
      "tensor([False, False,  True, False])  :  tensor([0., 1., 1., 0.])\n",
      "tensor([ 8.6619, -8.1131, -6.6210,  3.0931])\n",
      "tensor([ True, False, False,  True])  :  tensor([1., 1., 0., 1.])\n"
     ]
    },
    {
     "name": "stderr",
     "output_type": "stream",
     "text": [
      " 30%|████████████████████████▉                                                          | 6/20 [00:34<01:19,  5.69s/it]"
     ]
    },
    {
     "name": "stdout",
     "output_type": "stream",
     "text": [
      "tensor([-10.7026,   8.2621,  -7.0506])\n",
      "tensor([False,  True, False])  :  tensor([0., 1., 0.])\n",
      "Average loss: 0.2090969071690779\n",
      "Accuracy: 0.8666666666666667\n",
      "\n",
      "tensor([-12.9665,  10.4376, -12.4484, -11.5754])\n",
      "tensor([False,  True, False, False])  :  tensor([0., 1., 0., 0.])\n",
      "tensor([-3.6422, -4.9194,  7.5119, -5.7310])\n",
      "tensor([False, False,  True, False])  :  tensor([0., 1., 1., 0.])\n",
      "tensor([ 8.3127, -8.6948, -7.1969,  2.7208])\n",
      "tensor([ True, False, False,  True])  :  tensor([1., 1., 0., 1.])\n"
     ]
    },
    {
     "name": "stderr",
     "output_type": "stream",
     "text": [
      " 35%|█████████████████████████████                                                      | 7/20 [00:40<01:16,  5.91s/it]"
     ]
    },
    {
     "name": "stdout",
     "output_type": "stream",
     "text": [
      "tensor([-11.3576,   7.8934,  -7.8546])\n",
      "tensor([False,  True, False])  :  tensor([0., 1., 0.])\n",
      "Average loss: 0.2286178571526155\n",
      "Accuracy: 0.8666666666666667\n",
      "\n",
      "tensor([-12.9188,  10.8226, -12.3918, -11.4810])\n",
      "tensor([False,  True, False, False])  :  tensor([0., 1., 0., 0.])\n",
      "tensor([-3.4461, -4.7951,  7.7439, -5.6175])\n",
      "tensor([False, False,  True, False])  :  tensor([0., 1., 1., 0.])\n",
      "tensor([ 8.5444, -8.5870, -7.0677,  2.9618])\n",
      "tensor([ True, False, False,  True])  :  tensor([1., 1., 0., 1.])\n"
     ]
    },
    {
     "name": "stderr",
     "output_type": "stream",
     "text": [
      " 40%|█████████████████████████████████▏                                                 | 8/20 [00:46<01:10,  5.88s/it]"
     ]
    },
    {
     "name": "stdout",
     "output_type": "stream",
     "text": [
      "tensor([-11.2731,   8.1260,  -7.7578])\n",
      "tensor([False,  True, False])  :  tensor([0., 1., 0.])\n",
      "Average loss: 0.22464042507914808\n",
      "Accuracy: 0.8666666666666667\n",
      "\n",
      "tensor([-12.5157,  11.4844, -12.0097, -11.1743])\n",
      "tensor([False,  True, False, False])  :  tensor([0., 1., 0., 0.])\n",
      "tensor([-2.9520, -4.2867,  8.2592, -5.2086])\n",
      "tensor([False, False,  True, False])  :  tensor([0., 1., 1., 0.])\n",
      "tensor([ 9.0765, -8.2634, -6.5709,  3.5046])\n",
      "tensor([ True, False, False,  True])  :  tensor([1., 1., 0., 1.])\n"
     ]
    },
    {
     "name": "stderr",
     "output_type": "stream",
     "text": [
      " 45%|█████████████████████████████████████▎                                             | 9/20 [00:52<01:05,  5.91s/it]"
     ]
    },
    {
     "name": "stdout",
     "output_type": "stream",
     "text": [
      "tensor([-10.8238,   8.6702,  -7.3528])\n",
      "tensor([False,  True, False])  :  tensor([0., 1., 0.])\n",
      "Average loss: 0.21088115467755414\n",
      "Accuracy: 0.8666666666666667\n",
      "\n",
      "tensor([-12.1778,  11.9794, -11.6663, -10.8143])\n",
      "tensor([False,  True, False, False])  :  tensor([0., 1., 0., 0.])\n",
      "tensor([-2.5598, -3.9031,  8.6727, -4.8492])\n",
      "tensor([False, False,  True, False])  :  tensor([0., 1., 1., 0.])\n",
      "tensor([ 9.4753, -7.8878, -6.1804,  3.9234])\n",
      "tensor([ True, False, False,  True])  :  tensor([1., 1., 0., 1.])\n"
     ]
    },
    {
     "name": "stderr",
     "output_type": "stream",
     "text": [
      " 50%|█████████████████████████████████████████                                         | 10/20 [00:58<00:58,  5.85s/it]"
     ]
    },
    {
     "name": "stdout",
     "output_type": "stream",
     "text": [
      "tensor([-10.4533,   9.0656,  -7.0126])\n",
      "tensor([False,  True, False])  :  tensor([0., 1., 0.])\n",
      "Average loss: 0.1986144514417295\n",
      "Accuracy: 0.8666666666666667\n",
      "\n",
      "tensor([-12.1742,  12.0694, -11.6615, -10.8117])\n",
      "tensor([False,  True, False, False])  :  tensor([0., 1., 0., 0.])\n",
      "tensor([-2.5272, -3.8855,  8.6816, -4.8483])\n",
      "tensor([False, False,  True, False])  :  tensor([0., 1., 1., 0.])\n",
      "tensor([ 9.4877, -7.8735, -6.1523,  3.9584])\n",
      "tensor([ True, False, False,  True])  :  tensor([1., 1., 0., 1.])\n"
     ]
    },
    {
     "name": "stderr",
     "output_type": "stream",
     "text": [
      " 55%|█████████████████████████████████████████████                                     | 11/20 [01:03<00:50,  5.64s/it]"
     ]
    },
    {
     "name": "stdout",
     "output_type": "stream",
     "text": [
      "tensor([-10.4334,   9.0731,  -7.0149])\n",
      "tensor([False,  True, False])  :  tensor([0., 1., 0.])\n",
      "Average loss: 0.1981184728470301\n",
      "Accuracy: 0.8666666666666667\n",
      "\n",
      "tensor([-12.1452,  12.1661, -11.6334, -10.7825])\n",
      "tensor([False,  True, False, False])  :  tensor([0., 1., 0., 0.])\n",
      "tensor([-2.4793, -3.8472,  8.7304, -4.8150])\n",
      "tensor([False, False,  True, False])  :  tensor([0., 1., 1., 0.])\n",
      "tensor([ 9.5356, -7.8423, -6.1041,  4.0065])\n",
      "tensor([ True, False, False,  True])  :  tensor([1., 1., 0., 1.])\n"
     ]
    },
    {
     "name": "stderr",
     "output_type": "stream",
     "text": [
      " 60%|█████████████████████████████████████████████████▏                                | 12/20 [01:09<00:45,  5.69s/it]"
     ]
    },
    {
     "name": "stdout",
     "output_type": "stream",
     "text": [
      "tensor([-10.4037,   9.1176,  -6.9880])\n",
      "tensor([False,  True, False])  :  tensor([0., 1., 0.])\n",
      "Average loss: 0.1970254024517999\n",
      "Accuracy: 0.8666666666666667\n",
      "\n",
      "tensor([-12.2515,  12.1401, -11.7474, -10.9110])\n",
      "tensor([False,  True, False, False])  :  tensor([0., 1., 0., 0.])\n",
      "tensor([-2.5681, -3.9468,  8.6307, -4.9241])\n",
      "tensor([False, False,  True, False])  :  tensor([0., 1., 1., 0.])\n",
      "tensor([ 9.4413, -7.9623, -6.1980,  3.9145])\n",
      "tensor([ True, False, False,  True])  :  tensor([1., 1., 0., 1.])\n"
     ]
    },
    {
     "name": "stderr",
     "output_type": "stream",
     "text": [
      " 65%|█████████████████████████████████████████████████████▎                            | 13/20 [01:14<00:39,  5.61s/it]"
     ]
    },
    {
     "name": "stdout",
     "output_type": "stream",
     "text": [
      "tensor([-10.5170,   9.0200,  -7.1031])\n",
      "tensor([False,  True, False])  :  tensor([0., 1., 0.])\n",
      "Average loss: 0.20055245361557658\n",
      "Accuracy: 0.8666666666666667\n",
      "\n",
      "tensor([-12.3330,  12.1264, -11.8422, -11.0115])\n",
      "tensor([False,  True, False, False])  :  tensor([0., 1., 0., 0.])\n",
      "tensor([-2.6363, -4.0334,  8.5571, -5.0083])\n",
      "tensor([False, False,  True, False])  :  tensor([0., 1., 1., 0.])\n",
      "tensor([ 9.3735, -8.0511, -6.2698,  3.8326])\n",
      "tensor([ True, False, False,  True])  :  tensor([1., 1., 0., 1.])\n"
     ]
    },
    {
     "name": "stderr",
     "output_type": "stream",
     "text": [
      " 70%|█████████████████████████████████████████████████████████▍                        | 14/20 [01:19<00:33,  5.51s/it]"
     ]
    },
    {
     "name": "stdout",
     "output_type": "stream",
     "text": [
      "tensor([-10.6045,   8.9476,  -7.1899])\n",
      "tensor([False,  True, False])  :  tensor([0., 1., 0.])\n",
      "Average loss: 0.20338394885008407\n",
      "Accuracy: 0.8666666666666667\n",
      "\n",
      "tensor([-12.3552,  12.1747, -11.8731, -11.0442])\n",
      "tensor([False,  True, False, False])  :  tensor([0., 1., 0., 0.])\n",
      "tensor([-2.6422, -4.0562,  8.5547, -5.0220])\n",
      "tensor([False, False,  True, False])  :  tensor([0., 1., 1., 0.])\n",
      "tensor([ 9.3720, -8.0657, -6.2788,  3.8148])\n",
      "tensor([ True, False, False,  True])  :  tensor([1., 1., 0., 1.])\n"
     ]
    },
    {
     "name": "stderr",
     "output_type": "stream",
     "text": [
      " 75%|█████████████████████████████████████████████████████████████▌                    | 15/20 [01:24<00:26,  5.38s/it]"
     ]
    },
    {
     "name": "stdout",
     "output_type": "stream",
     "text": [
      "tensor([-10.6273,   8.9417,  -7.2029])\n",
      "tensor([False,  True, False])  :  tensor([0., 1., 0.])\n",
      "Average loss: 0.20399779962420628\n",
      "Accuracy: 0.8666666666666667\n",
      "\n",
      "tensor([-12.3126,  12.2845, -11.8307, -11.0020])\n",
      "tensor([False,  True, False, False])  :  tensor([0., 1., 0., 0.])\n",
      "tensor([-2.5792, -4.0034,  8.6268, -4.9668])\n",
      "tensor([False, False,  True, False])  :  tensor([0., 1., 1., 0.])\n",
      "tensor([ 9.4434, -8.0069, -6.2208,  3.8765])\n",
      "tensor([ True, False, False,  True])  :  tensor([1., 1., 0., 1.])\n"
     ]
    },
    {
     "name": "stderr",
     "output_type": "stream",
     "text": [
      " 80%|█████████████████████████████████████████████████████████████████▌                | 16/20 [01:30<00:21,  5.37s/it]"
     ]
    },
    {
     "name": "stdout",
     "output_type": "stream",
     "text": [
      "tensor([-10.5746,   9.0098,  -7.1517])\n",
      "tensor([False,  True, False])  :  tensor([0., 1., 0.])\n",
      "Average loss: 0.20221342277121343\n",
      "Accuracy: 0.8666666666666667\n",
      "\n",
      "tensor([-12.2301,  12.4262, -11.7459, -10.9157])\n",
      "tensor([False,  True, False, False])  :  tensor([0., 1., 0., 0.])\n",
      "tensor([-2.4693, -3.9037,  8.7364, -4.8773])\n",
      "tensor([False, False,  True, False])  :  tensor([0., 1., 1., 0.])\n",
      "tensor([ 9.5507, -7.9105, -6.1251,  3.9880])\n",
      "tensor([ True, False, False,  True])  :  tensor([1., 1., 0., 1.])\n"
     ]
    },
    {
     "name": "stderr",
     "output_type": "stream",
     "text": [
      " 85%|█████████████████████████████████████████████████████████████████████▋            | 17/20 [01:35<00:16,  5.37s/it]"
     ]
    },
    {
     "name": "stdout",
     "output_type": "stream",
     "text": [
      "tensor([-10.4779,   9.1162,  -7.0614])\n",
      "tensor([False,  True, False])  :  tensor([0., 1., 0.])\n",
      "Average loss: 0.19909160098607875\n",
      "Accuracy: 0.8666666666666667\n",
      "\n",
      "tensor([-12.2971,  12.4246, -11.8149, -10.9895])\n",
      "tensor([False,  True, False, False])  :  tensor([0., 1., 0., 0.])\n",
      "tensor([-2.5179, -3.9651,  8.6831, -4.9445])\n",
      "tensor([False, False,  True, False])  :  tensor([0., 1., 1., 0.])\n",
      "tensor([ 9.5021, -7.9722, -6.1886,  3.9319])\n",
      "tensor([ True, False, False,  True])  :  tensor([1., 1., 0., 1.])\n"
     ]
    },
    {
     "name": "stderr",
     "output_type": "stream",
     "text": [
      " 90%|█████████████████████████████████████████████████████████████████████████▊        | 18/20 [01:41<00:11,  5.51s/it]"
     ]
    },
    {
     "name": "stdout",
     "output_type": "stream",
     "text": [
      "tensor([-10.5404,   9.0649,  -7.1220])\n",
      "tensor([False,  True, False])  :  tensor([0., 1., 0.])\n",
      "Average loss: 0.2010679520781802\n",
      "Accuracy: 0.8666666666666667\n",
      "\n",
      "tensor([-12.3339,  12.4529, -11.8532, -11.0330])\n",
      "tensor([False,  True, False, False])  :  tensor([0., 1., 0., 0.])\n",
      "tensor([-2.5339, -3.9950,  8.6745, -4.9771])\n",
      "tensor([False, False,  True, False])  :  tensor([0., 1., 1., 0.])\n",
      "tensor([ 9.4918, -8.0064, -6.2208,  3.9114])\n",
      "tensor([ True, False, False,  True])  :  tensor([1., 1., 0., 1.])\n"
     ]
    },
    {
     "name": "stderr",
     "output_type": "stream",
     "text": [
      " 95%|█████████████████████████████████████████████████████████████████████████████▉    | 19/20 [01:46<00:05,  5.50s/it]"
     ]
    },
    {
     "name": "stdout",
     "output_type": "stream",
     "text": [
      "tensor([-10.5739,   9.0524,  -7.1425])\n",
      "tensor([False,  True, False])  :  tensor([0., 1., 0.])\n",
      "Average loss: 0.20210884642813956\n",
      "Accuracy: 0.8666666666666667\n",
      "\n",
      "tensor([-12.3182,  12.5283, -11.8374, -11.0176])\n",
      "tensor([False,  True, False, False])  :  tensor([0., 1., 0., 0.])\n",
      "tensor([-2.5055, -3.9696,  8.7177, -4.9559])\n",
      "tensor([False, False,  True, False])  :  tensor([0., 1., 1., 0.])\n",
      "tensor([ 9.5296, -7.9832, -6.1924,  3.9439])\n",
      "tensor([ True, False, False,  True])  :  tensor([1., 1., 0., 1.])\n"
     ]
    },
    {
     "name": "stderr",
     "output_type": "stream",
     "text": [
      "100%|██████████████████████████████████████████████████████████████████████████████████| 20/20 [01:52<00:00,  5.62s/it]"
     ]
    },
    {
     "name": "stdout",
     "output_type": "stream",
     "text": [
      "tensor([-10.5489,   9.0876,  -7.1190])\n",
      "tensor([False,  True, False])  :  tensor([0., 1., 0.])\n",
      "Average loss: 0.2013355682115313\n",
      "Accuracy: 0.8666666666666667\n",
      "\n",
      "0.8666666666666667  :  0.8666666666666667\n"
     ]
    },
    {
     "name": "stderr",
     "output_type": "stream",
     "text": [
      "\n"
     ]
    }
   ],
   "source": [
    "num_epochs = 20\n",
    "train_losses, train_accs = [], []\n",
    "val_losses, val_accs = [], []\n",
    "\n",
    "best_val_acc = float('-inf')\n",
    "last_val_acc = float('-inf')\n",
    "best_model_weights = model.state_dict()\n",
    "best_epoch = -1\n",
    "\n",
    "for epoch in tqdm(range(num_epochs)):\n",
    "    train_loss, train_acc = train_loop(train_loader, model, loss_fn, optimizer, device)\n",
    "    train_losses.append(train_loss)\n",
    "    train_accs.append(train_acc)\n",
    "    \n",
    "    val_loss, val_acc = test_loop(val_loader, model, loss_fn, device)\n",
    "    val_losses.append(val_loss)\n",
    "    val_accs.append(val_acc)\n",
    "    \n",
    "    if val_acc > best_val_acc and val_acc == last_val_acc:\n",
    "        #print(val_acc)\n",
    "        best_val_acc = val_acc\n",
    "        best_model_weights = model.state_dict()\n",
    "        torch.save(best_model_weights, './Models/best_model_cnn_multi.pth')\n",
    "        best_epoch = epoch\n",
    "\n",
    "    last_val_acc = val_acc\n",
    "    \n",
    "print(val_acc, ' : ', best_val_acc)\n",
    "if best_val_acc < val_acc:\n",
    "    best_epoch = epoch\n",
    "    torch.save(model.state_dict(), './Models/best_model_cnn_multi.pth')"
   ]
  },
  {
   "cell_type": "code",
   "execution_count": 20,
   "id": "5c28c0e4",
   "metadata": {},
   "outputs": [
    {
     "name": "stdout",
     "output_type": "stream",
     "text": [
      "4\n"
     ]
    }
   ],
   "source": [
    "print(best_epoch)"
   ]
  },
  {
   "cell_type": "code",
   "execution_count": 21,
   "id": "0ad80288",
   "metadata": {},
   "outputs": [
    {
     "data": {
      "text/plain": [
       "[<matplotlib.lines.Line2D at 0x208ecab19d0>]"
      ]
     },
     "execution_count": 21,
     "metadata": {},
     "output_type": "execute_result"
    },
    {
     "data": {
      "image/png": "[encoded data removed]",
      "text/plain": [
       "<Figure size 640x480 with 1 Axes>"
      ]
     },
     "metadata": {},
     "output_type": "display_data"
    }
   ],
   "source": [
    "plt.plot(range(num_epochs), train_losses)\n",
    "plt.plot(range(num_epochs), val_losses, color='red')"
   ]
  },
  {
   "cell_type": "code",
   "execution_count": 22,
   "id": "e9c73cf3",
   "metadata": {},
   "outputs": [
    {
     "data": {
      "text/plain": [
       "<matplotlib.legend.Legend at 0x208ecc01f10>"
      ]
     },
     "execution_count": 22,
     "metadata": {},
     "output_type": "execute_result"
    },
    {
     "data": {
      "image/png": "[encoded data removed]",
      "text/plain": [
       "<Figure size 640x480 with 1 Axes>"
      ]
     },
     "metadata": {},
     "output_type": "display_data"
    }
   ],
   "source": [
    "plt.plot(range(num_epochs), train_accs, label='train')\n",
    "plt.plot(range(num_epochs), val_accs, color='red', label='val')\n",
    "plt.legend()"
   ]
  },
  {
   "cell_type": "code",
   "execution_count": 23,
   "id": "2686a49d",
   "metadata": {},
   "outputs": [
    {
     "data": {
      "text/plain": [
       "<All keys matched successfully>"
      ]
     },
     "execution_count": 23,
     "metadata": {},
     "output_type": "execute_result"
    }
   ],
   "source": [
    "model.load_state_dict(torch.load('./Models/best_model_cnn_multi.pth'))"
   ]
  },
  {
   "cell_type": "code",
   "execution_count": 24,
   "id": "4b3a368f",
   "metadata": {},
   "outputs": [
    {
     "name": "stdout",
     "output_type": "stream",
     "text": [
      "tensor([-8.7962, -7.8440, 11.2163, 13.4148])\n",
      "tensor([False, False,  True,  True])  :  tensor([0., 0., 1., 1.])\n",
      "tensor([ 4.8751, 10.4920, -8.6729, -6.1111])\n",
      "tensor([ True,  True, False, False])  :  tensor([0., 1., 0., 0.])\n",
      "tensor([-1.6497,  5.5684, -6.1991, 10.9773])\n",
      "tensor([False,  True, False,  True])  :  tensor([1., 1., 0., 1.])\n",
      "tensor([ 9.4208, -3.8261, 11.4973,  0.9116])\n",
      "tensor([ True, False,  True,  True])  :  tensor([1., 0., 1., 1.])\n",
      "tensor([ -1.8373, -12.4057,  -8.8778,   5.2602])\n",
      "tensor([False, False, False,  True])  :  tensor([0., 0., 0., 1.])\n",
      "tensor([-11.8247, -10.5078,  -1.0127, -13.6164])\n",
      "tensor([False, False, False, False])  :  tensor([0., 0., 1., 0.])\n",
      "tensor([ 8.8124,  6.0589, -5.8705, -1.5609])\n",
      "tensor([ True,  True, False, False])  :  tensor([1., 1., 0., 1.])\n",
      "tensor([ 9.5758, -2.6810])\n",
      "tensor([ True, False])  :  tensor([1., 0.])\n",
      "Average loss: 0.087012672048877\n",
      "Accuracy: 0.8666666666666667\n",
      "\n"
     ]
    }
   ],
   "source": [
    "test_loss, test_acc = test_loop(test_loader, model, loss_fn, device)"
   ]
  },
  {
   "cell_type": "code",
   "execution_count": 25,
   "id": "049dd079",
   "metadata": {},
   "outputs": [
    {
     "data": {
      "text/plain": [
       "[38,\n",
       " 28,\n",
       " 71,\n",
       " 98,\n",
       " 20,\n",
       " 56,\n",
       " 23,\n",
       " 36,\n",
       " 58,\n",
       " 74,\n",
       " 41,\n",
       " 90,\n",
       " 82,\n",
       " 18,\n",
       " 79,\n",
       " 62,\n",
       " 35,\n",
       " 47,\n",
       " 14,\n",
       " 89,\n",
       " 2,\n",
       " 22,\n",
       " 61,\n",
       " 7,\n",
       " 101,\n",
       " 80,\n",
       " 42,\n",
       " 68,\n",
       " 63,\n",
       " 10]"
      ]
     },
     "execution_count": 25,
     "metadata": {},
     "output_type": "execute_result"
    }
   ],
   "source": [
    "test_idx"
   ]
  },
  {
   "cell_type": "code",
   "execution_count": 26,
   "id": "3610aa0f",
   "metadata": {},
   "outputs": [
    {
     "name": "stdout",
     "output_type": "stream",
     "text": [
      "tensor([-9.4253, -9.3736, -7.8911, -7.7229])\n",
      "tensor([False, False, False, False])  :  tensor([0., 0., 0., 0.])\n",
      "tensor([-12.7313,   2.1120,  -2.9286,  10.9293])\n",
      "tensor([False,  True, False,  True])  :  tensor([0., 0., 0., 1.])\n",
      "tensor([ 2.9920,  7.5995, 12.7785, 12.5359])\n",
      "tensor([True, True, True, True])  :  tensor([1., 1., 1., 1.])\n",
      "tensor([ 4.2896, 13.1020])\n",
      "tensor([True, True])  :  tensor([1., 1.])\n",
      "Average loss: 0.04207130930652576\n",
      "Accuracy: 0.9285714285714286\n",
      "\n"
     ]
    }
   ],
   "source": [
    "other_test_loss, other_test_acc = test_loop(other_test_loader, model, loss_fn, device)"
   ]
  },
  {
   "cell_type": "code",
   "execution_count": 27,
   "id": "fcf3aacd",
   "metadata": {},
   "outputs": [
    {
     "data": {
      "text/plain": [
       "[48, 49, 50, 51, 52, 53, 54, 103, 104, 105, 106, 107, 108, 109]"
      ]
     },
     "execution_count": 27,
     "metadata": {},
     "output_type": "execute_result"
    }
   ],
   "source": [
    "other_test_indices"
   ]
  },
  {
   "cell_type": "code",
   "execution_count": null,
   "id": "386175d8",
   "metadata": {},
   "outputs": [],
   "source": []
  }
 ],
 "metadata": {
  "kernelspec": {
   "display_name": "Python 3 (ipykernel)",
   "language": "python",
   "name": "python3"
  },
  "language_info": {
   "codemirror_mode": {
    "name": "ipython",
    "version": 3
   },
   "file_extension": ".py",
   "mimetype": "text/x-python",
   "name": "python",
   "nbconvert_exporter": "python",
   "pygments_lexer": "ipython3",
   "version": "3.11.6"
  }
 },
 "nbformat": 4,
 "nbformat_minor": 5
}
