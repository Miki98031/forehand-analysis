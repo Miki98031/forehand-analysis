{
 "cells": [
  {
   "cell_type": "code",
   "execution_count": 1,
   "id": "5cc6f3db",
   "metadata": {},
   "outputs": [],
   "source": [
    "%store -r X"
   ]
  },
  {
   "cell_type": "code",
   "execution_count": 2,
   "id": "1e50607e",
   "metadata": {},
   "outputs": [],
   "source": [
    "%store -r y"
   ]
  },
  {
   "cell_type": "markdown",
   "id": "ef42db28",
   "metadata": {},
   "source": [
    "### Biblioteke"
   ]
  },
  {
   "cell_type": "code",
   "execution_count": 3,
   "id": "788f6395",
   "metadata": {},
   "outputs": [],
   "source": [
    "import torch\n",
    "from torch.nn import CrossEntropyLoss, BCEWithLogitsLoss\n",
    "from torch.optim import Adam\n",
    "from torch.utils.data import Dataset, DataLoader, Subset\n",
    "from torch import nn \n",
    "from tqdm import tqdm\n",
    "from sklearn.model_selection import train_test_split\n",
    "import numpy as np\n",
    "from matplotlib import pyplot as plt"
   ]
  },
  {
   "cell_type": "markdown",
   "id": "4ef8043b",
   "metadata": {},
   "source": [
    "### Ucitavanje skupa"
   ]
  },
  {
   "cell_type": "code",
   "execution_count": 4,
   "id": "866fd015",
   "metadata": {},
   "outputs": [],
   "source": [
    "class OurDataset(Dataset):\n",
    "    def __init__(self, X, y):\n",
    "        self.X = torch.tensor(X, dtype=torch.float32)\n",
    "        self.y = torch.tensor(y, dtype=torch.float32)\n",
    "\n",
    "    def __getitem__(self, i):\n",
    "        return self.X[i], self.y[i]\n",
    "\n",
    "    def __len__(self):\n",
    "        return len(self.X)"
   ]
  },
  {
   "cell_type": "code",
   "execution_count": 5,
   "id": "a65340f3",
   "metadata": {},
   "outputs": [
    {
     "name": "stderr",
     "output_type": "stream",
     "text": [
      "C:\\Users\\mihai\\AppData\\Local\\Temp\\ipykernel_125992\\1720111584.py:3: UserWarning: To copy construct from a tensor, it is recommended to use sourceTensor.clone().detach() or sourceTensor.clone().detach().requires_grad_(True), rather than torch.tensor(sourceTensor).\n",
      "  self.X = torch.tensor(X, dtype=torch.float32)\n"
     ]
    }
   ],
   "source": [
    "dataset = OurDataset(X, y)"
   ]
  },
  {
   "cell_type": "code",
   "execution_count": 6,
   "id": "50ac6fb2",
   "metadata": {},
   "outputs": [
    {
     "data": {
      "text/plain": [
       "(tensor([ 0.2240,  0.2064,  0.2203,  0.2278,  0.2234,  0.2468,  0.2322,  0.2234,\n",
       "          0.1647,  0.1098,  0.0618,  0.1230, -0.1513, -0.1194, -0.1181, -0.1640]),\n",
       " tensor(0.))"
      ]
     },
     "execution_count": 6,
     "metadata": {},
     "output_type": "execute_result"
    }
   ],
   "source": [
    "dataset[0]"
   ]
  },
  {
   "cell_type": "code",
   "execution_count": 7,
   "id": "09679c29",
   "metadata": {},
   "outputs": [
    {
     "data": {
      "text/plain": [
       "110"
      ]
     },
     "execution_count": 7,
     "metadata": {},
     "output_type": "execute_result"
    }
   ],
   "source": [
    "len(dataset)"
   ]
  },
  {
   "cell_type": "code",
   "execution_count": 8,
   "id": "4050a5cc",
   "metadata": {},
   "outputs": [
    {
     "data": {
      "text/plain": [
       "tensor([0., 0., 0., 0., 0., 0., 0., 0., 0., 0., 0., 0., 0., 0., 0., 0., 0., 0.,\n",
       "        0., 0., 0., 0., 0., 0., 0., 0., 0., 0., 0., 0., 0., 0., 0., 0., 0., 0.,\n",
       "        0., 0., 0., 0., 0., 0., 0., 0., 0., 0., 0., 0., 0., 0., 0., 0., 0., 0.,\n",
       "        0., 1., 1., 1., 1., 1., 1., 1., 1., 1., 1., 1., 1., 1., 1., 1., 1., 1.,\n",
       "        1., 1., 1., 1., 1., 1., 1., 1., 1., 1., 1., 1., 1., 1., 1., 1., 1., 1.,\n",
       "        1., 1., 1., 1., 1., 1., 1., 1., 1., 1., 1., 1., 1., 1., 1., 1., 1., 1.,\n",
       "        1., 1.])"
      ]
     },
     "execution_count": 8,
     "metadata": {},
     "output_type": "execute_result"
    }
   ],
   "source": [
    "dataset.y"
   ]
  },
  {
   "cell_type": "markdown",
   "id": "ec2d4b2e",
   "metadata": {},
   "source": [
    "### Podela na train, val i test"
   ]
  },
  {
   "cell_type": "code",
   "execution_count": 9,
   "id": "4cdb2ee9-0976-489e-af85-2e455e3673e7",
   "metadata": {},
   "outputs": [],
   "source": [
    "#other_test_indices = list(range(43, 53)) + list(range(101, 108)) + list(range(156, 163))"
   ]
  },
  {
   "cell_type": "code",
   "execution_count": 10,
   "id": "29598b85",
   "metadata": {
    "scrolled": true
   },
   "outputs": [],
   "source": [
    "other_test_indices = list(range(48, 55)) + list(range(103, 110))\n",
    "dataset_indices = [x for x in range(len(dataset)) if x not in other_test_indices]\n",
    "dataset_labels = [dataset.y[i] for i in dataset_indices]\n",
    "\n",
    "#dataset_indices"
   ]
  },
  {
   "cell_type": "code",
   "execution_count": 11,
   "id": "20db6653",
   "metadata": {},
   "outputs": [],
   "source": [
    "random_state=42"
   ]
  },
  {
   "cell_type": "code",
   "execution_count": 12,
   "id": "0d7afb27",
   "metadata": {},
   "outputs": [
    {
     "data": {
      "text/plain": [
       "30"
      ]
     },
     "execution_count": 12,
     "metadata": {},
     "output_type": "execute_result"
    }
   ],
   "source": [
    "whole_train_idx, test_idx = train_test_split(dataset_indices, test_size=30, stratify=dataset_labels, random_state=random_state)\n",
    "test_dataset = Subset(dataset, test_idx)\n",
    "len(test_dataset)"
   ]
  },
  {
   "cell_type": "code",
   "execution_count": 13,
   "id": "57d7c69c",
   "metadata": {},
   "outputs": [
    {
     "data": {
      "text/plain": [
       "15"
      ]
     },
     "execution_count": 13,
     "metadata": {},
     "output_type": "execute_result"
    }
   ],
   "source": [
    "whole_train_dataset = Subset(dataset, whole_train_idx)\n",
    "wtd_labels = [dataset.y[i] for i in whole_train_idx]\n",
    "#print(wtd_labels)\n",
    "train_idx, val_idx = train_test_split(whole_train_idx, test_size=15, stratify=wtd_labels, random_state=random_state)\n",
    "val_dataset = Subset(dataset, val_idx)\n",
    "len(val_dataset)"
   ]
  },
  {
   "cell_type": "code",
   "execution_count": 14,
   "id": "287af021",
   "metadata": {},
   "outputs": [
    {
     "data": {
      "text/plain": [
       "51"
      ]
     },
     "execution_count": 14,
     "metadata": {},
     "output_type": "execute_result"
    }
   ],
   "source": [
    "train_dataset = Subset(dataset, train_idx)\n",
    "len(train_dataset)"
   ]
  },
  {
   "cell_type": "code",
   "execution_count": 15,
   "id": "589e78a8",
   "metadata": {},
   "outputs": [
    {
     "data": {
      "text/plain": [
       "14"
      ]
     },
     "execution_count": 15,
     "metadata": {},
     "output_type": "execute_result"
    }
   ],
   "source": [
    "other_test_dataset = Subset(dataset, other_test_indices)\n",
    "len(other_test_dataset)"
   ]
  },
  {
   "cell_type": "markdown",
   "id": "2c5fa3fc",
   "metadata": {},
   "source": [
    "### Pravljenje dataloader-a"
   ]
  },
  {
   "cell_type": "code",
   "execution_count": 16,
   "id": "c0c783d5",
   "metadata": {},
   "outputs": [],
   "source": [
    "train_loader = DataLoader(train_dataset, batch_size=4, shuffle=True)\n",
    "val_loader = DataLoader(val_dataset, batch_size=4)\n",
    "test_loader = DataLoader(test_dataset, batch_size=4)\n",
    "other_test_loader = DataLoader(other_test_dataset, batch_size=4)"
   ]
  },
  {
   "cell_type": "markdown",
   "id": "7d35f2a7",
   "metadata": {},
   "source": [
    "### Konstrukcija neuronske mreze"
   ]
  },
  {
   "cell_type": "code",
   "execution_count": 17,
   "id": "06413ecb",
   "metadata": {},
   "outputs": [
    {
     "data": {
      "text/plain": [
       "16"
      ]
     },
     "execution_count": 17,
     "metadata": {},
     "output_type": "execute_result"
    }
   ],
   "source": [
    "num_attr = len(dataset.X[0])\n",
    "num_attr"
   ]
  },
  {
   "cell_type": "code",
   "execution_count": 18,
   "id": "6b4d8152",
   "metadata": {},
   "outputs": [],
   "source": [
    "class Net(nn.Module):\n",
    "    def __init__(self):\n",
    "        super().__init__()\n",
    "        self.layer1 = nn.Linear(num_attr, 64)\n",
    "        self.layer2 = nn.Linear(64, 32)\n",
    "        self.layer3 = nn.Linear(32, 16)\n",
    "        self.layer4 = nn.Linear(16, 1)\n",
    "        self.activation = nn.ReLU()\n",
    "    \n",
    "    def forward(self, x):\n",
    "        x = self.activation(self.layer1(x))\n",
    "        x = self.activation(self.layer2(x))\n",
    "        x = self.activation(self.layer3(x))\n",
    "        x = self.layer4(x)\n",
    "        return x.squeeze(1)"
   ]
  },
  {
   "cell_type": "code",
   "execution_count": 19,
   "id": "2ebb5cc7",
   "metadata": {},
   "outputs": [
    {
     "data": {
      "text/plain": [
       "Net(\n",
       "  (layer1): Linear(in_features=16, out_features=64, bias=True)\n",
       "  (layer2): Linear(in_features=64, out_features=32, bias=True)\n",
       "  (layer3): Linear(in_features=32, out_features=16, bias=True)\n",
       "  (layer4): Linear(in_features=16, out_features=1, bias=True)\n",
       "  (activation): ReLU()\n",
       ")"
      ]
     },
     "execution_count": 19,
     "metadata": {},
     "output_type": "execute_result"
    }
   ],
   "source": [
    "model = Net()\n",
    "device = 'gpu' if torch.cuda.is_available() else 'cpu'\n",
    "model.to(device)\n",
    "model"
   ]
  },
  {
   "cell_type": "code",
   "execution_count": 20,
   "id": "dc52f916",
   "metadata": {},
   "outputs": [
    {
     "data": {
      "text/plain": [
       "CrossEntropyLoss()"
      ]
     },
     "execution_count": 20,
     "metadata": {},
     "output_type": "execute_result"
    }
   ],
   "source": [
    "loss_fn = CrossEntropyLoss()\n",
    "loss_fn"
   ]
  },
  {
   "cell_type": "code",
   "execution_count": 21,
   "id": "bcbbcf03",
   "metadata": {},
   "outputs": [
    {
     "name": "stderr",
     "output_type": "stream",
     "text": [
      "C:\\Users\\mihai\\anaconda3\\envs\\gpu_env\\Lib\\site-packages\\transformers\\utils\\generic.py:441: UserWarning: torch.utils._pytree._register_pytree_node is deprecated. Please use torch.utils._pytree.register_pytree_node instead.\n",
      "  _torch_pytree._register_pytree_node(\n"
     ]
    },
    {
     "data": {
      "text/plain": [
       "Adam (\n",
       "Parameter Group 0\n",
       "    amsgrad: False\n",
       "    betas: (0.9, 0.999)\n",
       "    capturable: False\n",
       "    differentiable: False\n",
       "    eps: 1e-08\n",
       "    foreach: None\n",
       "    fused: None\n",
       "    lr: 0.001\n",
       "    maximize: False\n",
       "    weight_decay: 0\n",
       ")"
      ]
     },
     "execution_count": 21,
     "metadata": {},
     "output_type": "execute_result"
    }
   ],
   "source": [
    "optimizer = Adam(model.parameters(), lr=0.001)\n",
    "optimizer"
   ]
  },
  {
   "cell_type": "markdown",
   "id": "9e0e99eb",
   "metadata": {},
   "source": [
    "### Treniranje modela"
   ]
  },
  {
   "cell_type": "code",
   "execution_count": 22,
   "id": "e1c28162",
   "metadata": {},
   "outputs": [],
   "source": [
    "def train_loop(dataloader, model, loss_fn, optimizer, device):\n",
    "    model.train()\n",
    "    \n",
    "    total_loss = 0\n",
    "    num_same = 0\n",
    "    \n",
    "    for X, y in dataloader:\n",
    "        X, y = X.to(device), y.to(device)\n",
    "        \n",
    "        #forward pass\n",
    "        outputs = model(X)\n",
    "        loss = loss_fn(outputs, y)\n",
    "        total_loss += loss.item()\n",
    "        \n",
    "        if len(outputs.shape) == 1: # accuracy - dve klase\n",
    "            preds = outputs > 0\n",
    "            num_same += sum(preds == y).item()\n",
    "                \n",
    "        else: # accuracy - vise klasa\n",
    "            _, indices = torch.max(outputs, 1)\n",
    "            num_same += sum(indices == y).item()\n",
    "        \n",
    "        #backward pass\n",
    "        loss.backward()\n",
    "        optimizer.step()\n",
    "        optimizer.zero_grad()\n",
    "    \n",
    "    avg_loss = total_loss / len(dataloader.dataset)\n",
    "    acc = num_same / len(dataloader.dataset)\n",
    "    return avg_loss, acc"
   ]
  },
  {
   "cell_type": "markdown",
   "id": "e2c6049d",
   "metadata": {},
   "source": [
    "### Testiranje modela"
   ]
  },
  {
   "cell_type": "code",
   "execution_count": 23,
   "id": "a286f0d7",
   "metadata": {},
   "outputs": [],
   "source": [
    "def test_loop(dataloader, model, loss_fn, device):\n",
    "    model.eval()\n",
    "    \n",
    "    with torch.no_grad():\n",
    "        total_loss = 0\n",
    "        num_same = 0\n",
    "        \n",
    "        for X, y in dataloader:\n",
    "            X, y = X.to(device), y.to(device)\n",
    "            \n",
    "            outputs = model(X)\n",
    "            loss = loss_fn(outputs, y)\n",
    "            total_loss += loss.item()\n",
    "\n",
    "            if len(outputs.shape) == 1: # accuracy - dve klase\n",
    "                preds = outputs > 0\n",
    "                #print(outputs)\n",
    "                print(preds, \" : \", y)\n",
    "                num_same += sum(preds == y).item()\n",
    "                \n",
    "            else: # accuracy - vise klasa\n",
    "                _, indices = torch.max(outputs, 1)\n",
    "                #print(outputs)\n",
    "                print(indices, \" : \", y)\n",
    "                num_same += sum(indices == y).item()\n",
    "        \n",
    "        avg_loss = total_loss / len(dataloader.dataset)\n",
    "        acc = num_same / len(dataloader.dataset)\n",
    "        print(f'Average loss: {avg_loss}')\n",
    "        print(f'Accuracy: {acc}')\n",
    "        print()\n",
    "        \n",
    "        return avg_loss, acc"
   ]
  },
  {
   "cell_type": "markdown",
   "id": "730cab84",
   "metadata": {},
   "source": [
    "### Main code"
   ]
  },
  {
   "cell_type": "code",
   "execution_count": 24,
   "id": "4c07f266",
   "metadata": {
    "scrolled": true
   },
   "outputs": [
    {
     "name": "stderr",
     "output_type": "stream",
     "text": [
      "  2%|█▏                                                                                | 3/200 [00:00<00:09, 21.11it/s]"
     ]
    },
    {
     "name": "stdout",
     "output_type": "stream",
     "text": [
      "tensor([True, True, True, True])  :  tensor([0., 1., 0., 0.])\n",
      "tensor([True, True, True, True])  :  tensor([0., 1., 1., 0.])\n",
      "tensor([True, True, True, True])  :  tensor([1., 1., 0., 1.])\n",
      "tensor([True, True, True])  :  tensor([0., 1., 0.])\n",
      "Average loss: 0.6196665684382121\n",
      "Accuracy: 0.4666666666666667\n",
      "\n",
      "tensor([True, True, True, True])  :  tensor([0., 1., 0., 0.])\n",
      "tensor([True, True, True, True])  :  tensor([0., 1., 1., 0.])\n",
      "tensor([True, True, True, True])  :  tensor([1., 1., 0., 1.])\n",
      "tensor([True, True, True])  :  tensor([0., 1., 0.])\n",
      "Average loss: 0.6062543392181396\n",
      "Accuracy: 0.4666666666666667\n",
      "\n",
      "tensor([False,  True, False,  True])  :  tensor([0., 1., 0., 0.])\n",
      "tensor([True, True, True, True])  :  tensor([0., 1., 1., 0.])\n",
      "tensor([True, True, True, True])  :  tensor([1., 1., 0., 1.])\n",
      "tensor([True, True, True])  :  tensor([0., 1., 0.])\n",
      "Average loss: 0.5823466579119364\n",
      "Accuracy: 0.6\n",
      "\n",
      "tensor([False,  True, False, False])  :  tensor([0., 1., 0., 0.])\n",
      "tensor([False,  True,  True, False])  :  tensor([0., 1., 1., 0.])\n",
      "tensor([ True,  True, False,  True])  :  tensor([1., 1., 0., 1.])\n",
      "tensor([False,  True, False])  :  tensor([0., 1., 0.])\n",
      "Average loss: 0.5334332664807637\n",
      "Accuracy: 1.0\n",
      "\n",
      "tensor([False,  True, False, False])  :  tensor([0., 1., 0., 0.])\n",
      "tensor([False,  True,  True, False])  :  tensor([0., 1., 1., 0.])\n",
      "tensor([ True,  True, False,  True])  :  tensor([1., 1., 0., 1.])\n",
      "tensor([False,  True, False])  :  tensor([0., 1., 0.])\n",
      "Average loss: 0.46570395628611244\n",
      "Accuracy: 1.0\n",
      "\n"
     ]
    },
    {
     "name": "stderr",
     "output_type": "stream",
     "text": [
      "  4%|███▋                                                                              | 9/200 [00:00<00:07, 25.81it/s]"
     ]
    },
    {
     "name": "stdout",
     "output_type": "stream",
     "text": [
      "tensor([False,  True, False, False])  :  tensor([0., 1., 0., 0.])\n",
      "tensor([False,  True,  True, False])  :  tensor([0., 1., 1., 0.])\n",
      "tensor([ True,  True, False,  True])  :  tensor([1., 1., 0., 1.])\n",
      "tensor([False,  True, False])  :  tensor([0., 1., 0.])\n",
      "Average loss: 0.3989235003789266\n",
      "Accuracy: 1.0\n",
      "\n",
      "tensor([False,  True, False, False])  :  tensor([0., 1., 0., 0.])\n",
      "tensor([False,  True,  True, False])  :  tensor([0., 1., 1., 0.])\n",
      "tensor([ True,  True, False,  True])  :  tensor([1., 1., 0., 1.])\n",
      "tensor([False,  True, False])  :  tensor([0., 1., 0.])\n",
      "Average loss: 0.3541554977496465\n",
      "Accuracy: 1.0\n",
      "\n",
      "tensor([False,  True, False, False])  :  tensor([0., 1., 0., 0.])\n",
      "tensor([False,  True,  True, False])  :  tensor([0., 1., 1., 0.])\n",
      "tensor([ True,  True, False,  True])  :  tensor([1., 1., 0., 1.])\n",
      "tensor([False,  True, False])  :  tensor([0., 1., 0.])\n",
      "Average loss: 0.3335590933760007\n",
      "Accuracy: 1.0\n",
      "\n",
      "tensor([False,  True, False, False])  :  tensor([0., 1., 0., 0.])\n",
      "tensor([False,  True,  True, False])  :  tensor([0., 1., 1., 0.])\n",
      "tensor([ True,  True, False,  True])  :  tensor([1., 1., 0., 1.])\n",
      "tensor([False,  True, False])  :  tensor([0., 1., 0.])\n",
      "Average loss: 0.3262806231776873\n",
      "Accuracy: 1.0\n",
      "\n",
      "tensor([False,  True, False, False])  :  tensor([0., 1., 0., 0.])\n",
      "tensor([False,  True,  True, False])  :  tensor([0., 1., 1., 0.])\n",
      "tensor([ True,  True, False,  True])  :  tensor([1., 1., 0., 1.])\n",
      "tensor([False,  True, False])  :  tensor([0., 1., 0.])\n",
      "Average loss: 0.3223517663776875\n",
      "Accuracy: 1.0\n",
      "\n",
      "tensor([False,  True, False, False])  :  tensor([0., 1., 0., 0.])\n",
      "tensor([False,  True,  True, False])  :  tensor([0., 1., 1., 0.])\n",
      "tensor([ True,  True, False,  True])  :  tensor([1., 1., 0., 1.])\n",
      "tensor([False,  True, False])  :  tensor([0., 1., 0.])\n",
      "Average loss: 0.325962233543396\n",
      "Accuracy: 1.0\n",
      "\n"
     ]
    },
    {
     "name": "stderr",
     "output_type": "stream",
     "text": [
      "  8%|██████▍                                                                          | 16/200 [00:00<00:06, 28.74it/s]"
     ]
    },
    {
     "name": "stdout",
     "output_type": "stream",
     "text": [
      "tensor([False,  True, False, False])  :  tensor([0., 1., 0., 0.])\n",
      "tensor([False,  True,  True, False])  :  tensor([0., 1., 1., 0.])\n",
      "tensor([ True,  True, False,  True])  :  tensor([1., 1., 0., 1.])\n",
      "tensor([False,  True, False])  :  tensor([0., 1., 0.])\n",
      "Average loss: 0.32138334748645625\n",
      "Accuracy: 1.0\n",
      "\n",
      "tensor([False,  True, False, False])  :  tensor([0., 1., 0., 0.])\n",
      "tensor([False,  True,  True, False])  :  tensor([0., 1., 1., 0.])\n",
      "tensor([ True,  True, False,  True])  :  tensor([1., 1., 0., 1.])\n",
      "tensor([False,  True, False])  :  tensor([0., 1., 0.])\n",
      "Average loss: 0.32009506759544215\n",
      "Accuracy: 1.0\n",
      "\n",
      "tensor([False,  True, False, False])  :  tensor([0., 1., 0., 0.])\n",
      "tensor([False,  True,  True, False])  :  tensor([0., 1., 1., 0.])\n",
      "tensor([ True,  True, False,  True])  :  tensor([1., 1., 0., 1.])\n",
      "tensor([False,  True, False])  :  tensor([0., 1., 0.])\n",
      "Average loss: 0.3198050948480765\n",
      "Accuracy: 1.0\n",
      "\n",
      "tensor([False,  True, False, False])  :  tensor([0., 1., 0., 0.])\n",
      "tensor([False,  True,  True, False])  :  tensor([0., 1., 1., 0.])\n",
      "tensor([ True,  True, False,  True])  :  tensor([1., 1., 0., 1.])\n",
      "tensor([False,  True, False])  :  tensor([0., 1., 0.])\n",
      "Average loss: 0.3183042512585719\n",
      "Accuracy: 1.0\n",
      "\n",
      "tensor([False,  True, False, False])  :  tensor([0., 1., 0., 0.])\n",
      "tensor([False,  True,  True, False])  :  tensor([0., 1., 1., 0.])\n",
      "tensor([ True,  True, False,  True])  :  tensor([1., 1., 0., 1.])\n",
      "tensor([False,  True, False])  :  tensor([0., 1., 0.])\n",
      "Average loss: 0.3190983881553014\n",
      "Accuracy: 1.0\n",
      "\n",
      "tensor([False,  True, False, False])  :  tensor([0., 1., 0., 0.])\n",
      "tensor([False,  True,  True, False])  :  tensor([0., 1., 1., 0.])\n",
      "tensor([ True,  True, False,  True])  :  tensor([1., 1., 0., 1.])\n",
      "tensor([False,  True, False])  :  tensor([0., 1., 0.])\n",
      "Average loss: 0.316969865684708\n",
      "Accuracy: 1.0\n",
      "\n"
     ]
    },
    {
     "name": "stderr",
     "output_type": "stream",
     "text": [
      " 12%|█████████▎                                                                       | 23/200 [00:00<00:06, 29.43it/s]"
     ]
    },
    {
     "name": "stdout",
     "output_type": "stream",
     "text": [
      "tensor([False,  True, False, False])  :  tensor([0., 1., 0., 0.])\n",
      "tensor([False,  True,  True, False])  :  tensor([0., 1., 1., 0.])\n",
      "tensor([ True,  True, False,  True])  :  tensor([1., 1., 0., 1.])\n",
      "tensor([False,  True, False])  :  tensor([0., 1., 0.])\n",
      "Average loss: 0.31686760721107327\n",
      "Accuracy: 1.0\n",
      "\n",
      "tensor([False,  True, False, False])  :  tensor([0., 1., 0., 0.])\n",
      "tensor([False,  True,  True, False])  :  tensor([0., 1., 1., 0.])\n",
      "tensor([ True,  True, False,  True])  :  tensor([1., 1., 0., 1.])\n",
      "tensor([False,  True, False])  :  tensor([0., 1., 0.])\n",
      "Average loss: 0.31643275084594885\n",
      "Accuracy: 1.0\n",
      "\n",
      "tensor([False,  True, False, False])  :  tensor([0., 1., 0., 0.])\n",
      "tensor([False,  True,  True, False])  :  tensor([0., 1., 1., 0.])\n",
      "tensor([ True,  True, False,  True])  :  tensor([1., 1., 0., 1.])\n",
      "tensor([False,  True, False])  :  tensor([0., 1., 0.])\n",
      "Average loss: 0.31600225729246934\n",
      "Accuracy: 1.0\n",
      "\n",
      "tensor([False,  True, False, False])  :  tensor([0., 1., 0., 0.])\n",
      "tensor([False,  True,  True, False])  :  tensor([0., 1., 1., 0.])\n",
      "tensor([ True,  True, False,  True])  :  tensor([1., 1., 0., 1.])\n",
      "tensor([False,  True, False])  :  tensor([0., 1., 0.])\n",
      "Average loss: 0.3160302867181599\n",
      "Accuracy: 1.0\n",
      "\n",
      "tensor([False,  True, False, False])  :  tensor([0., 1., 0., 0.])\n",
      "tensor([False,  True,  True, False])  :  tensor([0., 1., 1., 0.])\n",
      "tensor([ True,  True, False,  True])  :  tensor([1., 1., 0., 1.])\n",
      "tensor([False,  True, False])  :  tensor([0., 1., 0.])\n",
      "Average loss: 0.3155224408954382\n",
      "Accuracy: 1.0\n",
      "\n",
      "tensor([False,  True, False, False])  :  tensor([0., 1., 0., 0.])\n",
      "tensor([False,  True,  True, False])  :  tensor([0., 1., 1., 0.])\n",
      "tensor([ True,  True, False,  True])  :  tensor([1., 1., 0., 1.])\n",
      "tensor([False,  True, False])  :  tensor([0., 1., 0.])\n",
      "Average loss: 0.3153288832089553\n",
      "Accuracy: 1.0\n",
      "\n"
     ]
    },
    {
     "name": "stderr",
     "output_type": "stream",
     "text": [
      " 13%|██████████▌                                                                      | 26/200 [00:00<00:06, 28.60it/s]"
     ]
    },
    {
     "name": "stdout",
     "output_type": "stream",
     "text": [
      "tensor([False,  True, False, False])  :  tensor([0., 1., 0., 0.])\n",
      "tensor([False,  True,  True, False])  :  tensor([0., 1., 1., 0.])\n",
      "tensor([ True,  True, False,  True])  :  tensor([1., 1., 0., 1.])\n",
      "tensor([False,  True, False])  :  tensor([0., 1., 0.])\n",
      "Average loss: 0.3152182094597568\n",
      "Accuracy: 1.0\n",
      "\n",
      "tensor([False,  True, False, False])  :  tensor([0., 1., 0., 0.])\n",
      "tensor([False,  True,  True, False])  :  tensor([0., 1., 1., 0.])\n",
      "tensor([ True,  True, False,  True])  :  tensor([1., 1., 0., 1.])\n",
      "tensor([False,  True, False])  :  tensor([0., 1., 0.])\n",
      "Average loss: 0.3148532345425338\n",
      "Accuracy: 1.0\n",
      "\n",
      "tensor([False,  True, False, False])  :  tensor([0., 1., 0., 0.])\n",
      "tensor([False,  True,  True, False])  :  tensor([0., 1., 1., 0.])\n",
      "tensor([ True,  True, False,  True])  :  tensor([1., 1., 0., 1.])\n",
      "tensor([False,  True, False])  :  tensor([0., 1., 0.])\n",
      "Average loss: 0.3146181845416625\n",
      "Accuracy: 1.0\n",
      "\n",
      "tensor([False,  True, False, False])  :  tensor([0., 1., 0., 0.])\n",
      "tensor([False,  True,  True, False])  :  tensor([0., 1., 1., 0.])\n",
      "tensor([ True,  True, False,  True])  :  tensor([1., 1., 0., 1.])\n",
      "tensor([False,  True, False])  :  tensor([0., 1., 0.])\n",
      "Average loss: 0.3145069923872749\n",
      "Accuracy: 1.0\n",
      "\n",
      "tensor([False,  True, False, False])  :  tensor([0., 1., 0., 0.])\n",
      "tensor([False,  True,  True, False])  :  tensor([0., 1., 1., 0.])\n",
      "tensor([ True,  True, False,  True])  :  tensor([1., 1., 0., 1.])\n",
      "tensor([False,  True, False])  :  tensor([0., 1., 0.])\n",
      "Average loss: 0.31439358276935914\n",
      "Accuracy: 1.0\n",
      "\n",
      "tensor([False,  True, False, False])  :  tensor([0., 1., 0., 0.])\n",
      "tensor([False,  True,  True, False])  :  tensor([0., 1., 1., 0.])\n",
      "tensor([ True,  True, False,  True])  :  tensor([1., 1., 0., 1.])\n",
      "tensor([False,  True, False])  :  tensor([0., 1., 0.])\n",
      "Average loss: 0.31420133733190597\n",
      "Accuracy: 1.0\n",
      "\n"
     ]
    },
    {
     "name": "stderr",
     "output_type": "stream",
     "text": [
      " 17%|█████████████▊                                                                   | 34/200 [00:01<00:05, 29.64it/s]"
     ]
    },
    {
     "name": "stdout",
     "output_type": "stream",
     "text": [
      "tensor([False,  True, False, False])  :  tensor([0., 1., 0., 0.])\n",
      "tensor([False,  True,  True, False])  :  tensor([0., 1., 1., 0.])\n",
      "tensor([ True,  True, False,  True])  :  tensor([1., 1., 0., 1.])\n",
      "tensor([False,  True, False])  :  tensor([0., 1., 0.])\n",
      "Average loss: 0.3140611642583584\n",
      "Accuracy: 1.0\n",
      "\n",
      "tensor([False,  True, False, False])  :  tensor([0., 1., 0., 0.])\n",
      "tensor([False,  True,  True, False])  :  tensor([0., 1., 1., 0.])\n",
      "tensor([ True,  True, False,  True])  :  tensor([1., 1., 0., 1.])\n",
      "tensor([False,  True, False])  :  tensor([0., 1., 0.])\n",
      "Average loss: 0.3139239754372587\n",
      "Accuracy: 1.0\n",
      "\n",
      "tensor([False,  True, False, False])  :  tensor([0., 1., 0., 0.])\n",
      "tensor([False,  True,  True, False])  :  tensor([0., 1., 1., 0.])\n",
      "tensor([ True,  True, False,  True])  :  tensor([1., 1., 0., 1.])\n",
      "tensor([False,  True, False])  :  tensor([0., 1., 0.])\n",
      "Average loss: 0.3136994681398695\n",
      "Accuracy: 1.0\n",
      "\n",
      "tensor([False,  True, False, False])  :  tensor([0., 1., 0., 0.])\n",
      "tensor([False,  True,  True, False])  :  tensor([0., 1., 1., 0.])\n",
      "tensor([ True,  True, False,  True])  :  tensor([1., 1., 0., 1.])\n",
      "tensor([False,  True, False])  :  tensor([0., 1., 0.])\n",
      "Average loss: 0.31355033818011485\n",
      "Accuracy: 1.0\n",
      "\n",
      "tensor([False,  True, False, False])  :  tensor([0., 1., 0., 0.])\n",
      "tensor([False,  True,  True, False])  :  tensor([0., 1., 1., 0.])\n",
      "tensor([ True,  True, False,  True])  :  tensor([1., 1., 0., 1.])\n",
      "tensor([False,  True, False])  :  tensor([0., 1., 0.])\n",
      "Average loss: 0.3134578804601915\n",
      "Accuracy: 1.0\n",
      "\n",
      "tensor([False,  True, False, False])  :  tensor([0., 1., 0., 0.])\n",
      "tensor([False,  True,  True, False])  :  tensor([0., 1., 1., 0.])\n",
      "tensor([ True,  True, False,  True])  :  tensor([1., 1., 0., 1.])\n",
      "tensor([False,  True, False])  :  tensor([0., 1., 0.])\n",
      "Average loss: 0.3133206327833856\n",
      "Accuracy: 1.0\n",
      "\n"
     ]
    },
    {
     "name": "stderr",
     "output_type": "stream",
     "text": [
      " 21%|█████████████████                                                                | 42/200 [00:01<00:05, 30.31it/s]"
     ]
    },
    {
     "name": "stdout",
     "output_type": "stream",
     "text": [
      "tensor([False,  True, False, False])  :  tensor([0., 1., 0., 0.])\n",
      "tensor([False,  True,  True, False])  :  tensor([0., 1., 1., 0.])\n",
      "tensor([ True,  True, False,  True])  :  tensor([1., 1., 0., 1.])\n",
      "tensor([False,  True, False])  :  tensor([0., 1., 0.])\n",
      "Average loss: 0.3132152296913167\n",
      "Accuracy: 1.0\n",
      "\n",
      "tensor([False,  True, False, False])  :  tensor([0., 1., 0., 0.])\n",
      "tensor([False,  True,  True, False])  :  tensor([0., 1., 1., 0.])\n",
      "tensor([ True,  True, False,  True])  :  tensor([1., 1., 0., 1.])\n",
      "tensor([False,  True, False])  :  tensor([0., 1., 0.])\n",
      "Average loss: 0.31305926808466517\n",
      "Accuracy: 1.0\n",
      "\n",
      "tensor([False,  True, False, False])  :  tensor([0., 1., 0., 0.])\n",
      "tensor([False,  True,  True, False])  :  tensor([0., 1., 1., 0.])\n",
      "tensor([ True,  True, False,  True])  :  tensor([1., 1., 0., 1.])\n",
      "tensor([False,  True, False])  :  tensor([0., 1., 0.])\n",
      "Average loss: 0.3129467925444866\n",
      "Accuracy: 1.0\n",
      "\n",
      "tensor([False,  True, False, False])  :  tensor([0., 1., 0., 0.])\n",
      "tensor([False,  True,  True, False])  :  tensor([0., 1., 1., 0.])\n",
      "tensor([ True,  True, False,  True])  :  tensor([1., 1., 0., 1.])\n",
      "tensor([False,  True, False])  :  tensor([0., 1., 0.])\n",
      "Average loss: 0.31287334592392047\n",
      "Accuracy: 1.0\n",
      "\n",
      "tensor([False,  True, False, False])  :  tensor([0., 1., 0., 0.])\n",
      "tensor([False,  True,  True, False])  :  tensor([0., 1., 1., 0.])\n",
      "tensor([ True,  True, False,  True])  :  tensor([1., 1., 0., 1.])\n",
      "tensor([False,  True, False])  :  tensor([0., 1., 0.])\n",
      "Average loss: 0.3128146816937563\n",
      "Accuracy: 1.0\n",
      "\n",
      "tensor([False,  True, False, False])  :  tensor([0., 1., 0., 0.])\n",
      "tensor([False,  True,  True, False])  :  tensor([0., 1., 1., 0.])\n",
      "tensor([ True,  True, False,  True])  :  tensor([1., 1., 0., 1.])\n",
      "tensor([False,  True, False])  :  tensor([0., 1., 0.])\n",
      "Average loss: 0.3127413271868136\n",
      "Accuracy: 1.0\n",
      "\n",
      "tensor([False,  True, False, False])  :  tensor([0., 1., 0., 0.])\n",
      "tensor([False,  True,  True, False])  :  tensor([0., 1., 1., 0.])\n",
      "tensor([ True,  True, False,  True])  :  tensor([1., 1., 0., 1.])\n",
      "tensor([False,  True, False])  :  tensor([0., 1., 0.])\n",
      "Average loss: 0.31271102087921465\n",
      "Accuracy: 1.0\n",
      "\n"
     ]
    },
    {
     "name": "stderr",
     "output_type": "stream",
     "text": [
      " 23%|██████████████████▋                                                              | 46/200 [00:01<00:04, 31.62it/s]"
     ]
    },
    {
     "name": "stdout",
     "output_type": "stream",
     "text": [
      "tensor([False,  True, False, False])  :  tensor([0., 1., 0., 0.])\n",
      "tensor([False,  True,  True, False])  :  tensor([0., 1., 1., 0.])\n",
      "tensor([ True,  True, False,  True])  :  tensor([1., 1., 0., 1.])\n",
      "tensor([False,  True, False])  :  tensor([0., 1., 0.])\n",
      "Average loss: 0.3126353555067908\n",
      "Accuracy: 1.0\n",
      "\n",
      "tensor([False,  True, False, False])  :  tensor([0., 1., 0., 0.])\n",
      "tensor([False,  True,  True, False])  :  tensor([0., 1., 1., 0.])\n",
      "tensor([ True,  True, False,  True])  :  tensor([1., 1., 0., 1.])\n",
      "tensor([False,  True, False])  :  tensor([0., 1., 0.])\n",
      "Average loss: 0.31261957389457773\n",
      "Accuracy: 1.0\n",
      "\n",
      "tensor([False,  True, False, False])  :  tensor([0., 1., 0., 0.])\n",
      "tensor([False,  True,  True, False])  :  tensor([0., 1., 1., 0.])\n",
      "tensor([ True,  True, False,  True])  :  tensor([1., 1., 0., 1.])\n",
      "tensor([False,  True, False])  :  tensor([0., 1., 0.])\n",
      "Average loss: 0.31258210421268207\n",
      "Accuracy: 1.0\n",
      "\n",
      "tensor([False,  True, False, False])  :  tensor([0., 1., 0., 0.])\n",
      "tensor([False,  True,  True, False])  :  tensor([0., 1., 1., 0.])\n",
      "tensor([ True,  True, False,  True])  :  tensor([1., 1., 0., 1.])\n",
      "tensor([False,  True, False])  :  tensor([0., 1., 0.])\n",
      "Average loss: 0.3125747910099259\n",
      "Accuracy: 1.0\n",
      "\n",
      "tensor([False,  True, False, False])  :  tensor([0., 1., 0., 0.])\n",
      "tensor([False,  True,  True, False])  :  tensor([0., 1., 1., 0.])\n",
      "tensor([ True,  True, False,  True])  :  tensor([1., 1., 0., 1.])\n",
      "tensor([False,  True, False])  :  tensor([0., 1., 0.])\n",
      "Average loss: 0.31256156154558995\n",
      "Accuracy: 1.0\n",
      "\n",
      "tensor([False,  True, False, False])  :  tensor([0., 1., 0., 0.])\n",
      "tensor([False,  True,  True, False])  :  tensor([0., 1., 1., 0.])\n",
      "tensor([ True,  True, False,  True])  :  tensor([1., 1., 0., 1.])\n",
      "tensor([False,  True, False])  :  tensor([0., 1., 0.])\n",
      "Average loss: 0.3125037226515512\n",
      "Accuracy: 1.0\n",
      "\n",
      "tensor([False,  True, False, False])  :  tensor([0., 1., 0., 0.])\n",
      "tensor([False,  True,  True, False])  :  tensor([0., 1., 1., 0.])\n",
      "tensor([ True,  True, False,  True])  :  tensor([1., 1., 0., 1.])\n",
      "tensor([False,  True, False])  :  tensor([0., 1., 0.])\n",
      "Average loss: 0.31246657531592065\n",
      "Accuracy: 1.0\n",
      "\n"
     ]
    },
    {
     "name": "stderr",
     "output_type": "stream",
     "text": [
      " 27%|█████████████████████▊                                                           | 54/200 [00:01<00:04, 30.38it/s]"
     ]
    },
    {
     "name": "stdout",
     "output_type": "stream",
     "text": [
      "tensor([False,  True, False, False])  :  tensor([0., 1., 0., 0.])\n",
      "tensor([False,  True,  True, False])  :  tensor([0., 1., 1., 0.])\n",
      "tensor([ True,  True, False,  True])  :  tensor([1., 1., 0., 1.])\n",
      "tensor([False,  True, False])  :  tensor([0., 1., 0.])\n",
      "Average loss: 0.3125032728518515\n",
      "Accuracy: 1.0\n",
      "\n",
      "tensor([False,  True, False, False])  :  tensor([0., 1., 0., 0.])\n",
      "tensor([False,  True,  True, False])  :  tensor([0., 1., 1., 0.])\n",
      "tensor([ True,  True, False,  True])  :  tensor([1., 1., 0., 1.])\n",
      "tensor([False,  True, False])  :  tensor([0., 1., 0.])\n",
      "Average loss: 0.3125672653540581\n",
      "Accuracy: 1.0\n",
      "\n",
      "tensor([False,  True, False, False])  :  tensor([0., 1., 0., 0.])\n",
      "tensor([False,  True,  True, False])  :  tensor([0., 1., 1., 0.])\n",
      "tensor([ True,  True, False,  True])  :  tensor([1., 1., 0., 1.])\n",
      "tensor([False,  True, False])  :  tensor([0., 1., 0.])\n",
      "Average loss: 0.3125013081211364\n",
      "Accuracy: 1.0\n",
      "\n",
      "tensor([False,  True, False, False])  :  tensor([0., 1., 0., 0.])\n",
      "tensor([False,  True,  True, False])  :  tensor([0., 1., 1., 0.])\n",
      "tensor([ True,  True, False,  True])  :  tensor([1., 1., 0., 1.])\n",
      "tensor([False,  True, False])  :  tensor([0., 1., 0.])\n",
      "Average loss: 0.3124365123163443\n",
      "Accuracy: 1.0\n",
      "\n",
      "tensor([False,  True, False, False])  :  tensor([0., 1., 0., 0.])\n",
      "tensor([False,  True,  True, False])  :  tensor([0., 1., 1., 0.])\n",
      "tensor([ True,  True, False,  True])  :  tensor([1., 1., 0., 1.])\n",
      "tensor([False,  True, False])  :  tensor([0., 1., 0.])\n",
      "Average loss: 0.3124044835669338\n",
      "Accuracy: 1.0\n",
      "\n",
      "tensor([False,  True, False, False])  :  tensor([0., 1., 0., 0.])\n",
      "tensor([False,  True,  True, False])  :  tensor([0., 1., 1., 0.])\n",
      "tensor([ True,  True, False,  True])  :  tensor([1., 1., 0., 1.])\n",
      "tensor([False,  True, False])  :  tensor([0., 1., 0.])\n",
      "Average loss: 0.3123924956225286\n",
      "Accuracy: 1.0\n",
      "\n"
     ]
    },
    {
     "name": "stderr",
     "output_type": "stream",
     "text": [
      " 31%|█████████████████████████                                                        | 62/200 [00:02<00:04, 31.62it/s]"
     ]
    },
    {
     "name": "stdout",
     "output_type": "stream",
     "text": [
      "tensor([False,  True, False, False])  :  tensor([0., 1., 0., 0.])\n",
      "tensor([False,  True,  True, False])  :  tensor([0., 1., 1., 0.])\n",
      "tensor([ True,  True, False,  True])  :  tensor([1., 1., 0., 1.])\n",
      "tensor([False,  True, False])  :  tensor([0., 1., 0.])\n",
      "Average loss: 0.31239318691077644\n",
      "Accuracy: 1.0\n",
      "\n",
      "tensor([False,  True, False, False])  :  tensor([0., 1., 0., 0.])\n",
      "tensor([False,  True,  True, False])  :  tensor([0., 1., 1., 0.])\n",
      "tensor([ True,  True, False,  True])  :  tensor([1., 1., 0., 1.])\n",
      "tensor([False,  True, False])  :  tensor([0., 1., 0.])\n",
      "Average loss: 0.31240292785611623\n",
      "Accuracy: 1.0\n",
      "\n",
      "tensor([False,  True, False, False])  :  tensor([0., 1., 0., 0.])\n",
      "tensor([False,  True,  True, False])  :  tensor([0., 1., 1., 0.])\n",
      "tensor([ True,  True, False,  True])  :  tensor([1., 1., 0., 1.])\n",
      "tensor([False,  True, False])  :  tensor([0., 1., 0.])\n",
      "Average loss: 0.3123846622135413\n",
      "Accuracy: 1.0\n",
      "\n",
      "tensor([False,  True, False, False])  :  tensor([0., 1., 0., 0.])\n",
      "tensor([False,  True,  True, False])  :  tensor([0., 1., 1., 0.])\n",
      "tensor([ True,  True, False,  True])  :  tensor([1., 1., 0., 1.])\n",
      "tensor([False,  True, False])  :  tensor([0., 1., 0.])\n",
      "Average loss: 0.3123630105723957\n",
      "Accuracy: 1.0\n",
      "\n",
      "tensor([False,  True, False, False])  :  tensor([0., 1., 0., 0.])\n",
      "tensor([False,  True,  True, False])  :  tensor([0., 1., 1., 0.])\n",
      "tensor([ True,  True, False,  True])  :  tensor([1., 1., 0., 1.])\n",
      "tensor([False,  True, False])  :  tensor([0., 1., 0.])\n",
      "Average loss: 0.3123734732696903\n",
      "Accuracy: 1.0\n",
      "\n",
      "tensor([False,  True, False, False])  :  tensor([0., 1., 0., 0.])\n",
      "tensor([False,  True,  True, False])  :  tensor([0., 1., 1., 0.])\n",
      "tensor([ True,  True, False,  True])  :  tensor([1., 1., 0., 1.])\n",
      "tensor([False,  True, False])  :  tensor([0., 1., 0.])\n",
      "Average loss: 0.3123706282422063\n",
      "Accuracy: 1.0\n",
      "\n",
      "tensor([False,  True, False, False])  :  tensor([0., 1., 0., 0.])\n",
      "tensor([False,  True,  True, False])  :  tensor([0., 1., 1., 0.])\n",
      "tensor([ True,  True, False,  True])  :  tensor([1., 1., 0., 1.])\n",
      "tensor([False,  True, False])  :  tensor([0., 1., 0.])\n",
      "Average loss: 0.3123511222220259\n",
      "Accuracy: 1.0\n",
      "\n"
     ]
    },
    {
     "name": "stderr",
     "output_type": "stream",
     "text": [
      " 33%|██████████████████████████▋                                                      | 66/200 [00:02<00:04, 30.53it/s]"
     ]
    },
    {
     "name": "stdout",
     "output_type": "stream",
     "text": [
      "tensor([False,  True, False, False])  :  tensor([0., 1., 0., 0.])\n",
      "tensor([False,  True,  True, False])  :  tensor([0., 1., 1., 0.])\n",
      "tensor([ True,  True, False,  True])  :  tensor([1., 1., 0., 1.])\n",
      "tensor([False,  True, False])  :  tensor([0., 1., 0.])\n",
      "Average loss: 0.3123397756038078\n",
      "Accuracy: 1.0\n",
      "\n",
      "tensor([False,  True, False, False])  :  tensor([0., 1., 0., 0.])\n",
      "tensor([False,  True,  True, False])  :  tensor([0., 1., 1., 0.])\n",
      "tensor([ True,  True, False,  True])  :  tensor([1., 1., 0., 1.])\n",
      "tensor([False,  True, False])  :  tensor([0., 1., 0.])\n",
      "Average loss: 0.31233587421593256\n",
      "Accuracy: 1.0\n",
      "\n",
      "tensor([False,  True, False, False])  :  tensor([0., 1., 0., 0.])\n",
      "tensor([False,  True,  True, False])  :  tensor([0., 1., 1., 0.])\n",
      "tensor([ True,  True, False,  True])  :  tensor([1., 1., 0., 1.])\n",
      "tensor([False,  True, False])  :  tensor([0., 1., 0.])\n",
      "Average loss: 0.31233745573238897\n",
      "Accuracy: 1.0\n",
      "\n",
      "tensor([False,  True, False, False])  :  tensor([0., 1., 0., 0.])\n",
      "tensor([False,  True,  True, False])  :  tensor([0., 1., 1., 0.])\n",
      "tensor([ True,  True, False,  True])  :  tensor([1., 1., 0., 1.])\n",
      "tensor([False,  True, False])  :  tensor([0., 1., 0.])\n",
      "Average loss: 0.3123306539913756\n",
      "Accuracy: 1.0\n",
      "\n",
      "tensor([False,  True, False, False])  :  tensor([0., 1., 0., 0.])\n",
      "tensor([False,  True,  True, False])  :  tensor([0., 1., 1., 0.])\n",
      "tensor([ True,  True, False,  True])  :  tensor([1., 1., 0., 1.])\n",
      "tensor([False,  True, False])  :  tensor([0., 1., 0.])\n",
      "Average loss: 0.31233500815772763\n",
      "Accuracy: 1.0\n",
      "\n"
     ]
    },
    {
     "name": "stderr",
     "output_type": "stream",
     "text": [
      " 37%|█████████████████████████████▉                                                   | 74/200 [00:02<00:04, 29.70it/s]"
     ]
    },
    {
     "name": "stdout",
     "output_type": "stream",
     "text": [
      "tensor([False,  True, False, False])  :  tensor([0., 1., 0., 0.])\n",
      "tensor([False,  True,  True, False])  :  tensor([0., 1., 1., 0.])\n",
      "tensor([ True,  True, False,  True])  :  tensor([1., 1., 0., 1.])\n",
      "tensor([False,  True, False])  :  tensor([0., 1., 0.])\n",
      "Average loss: 0.3123298664572455\n",
      "Accuracy: 1.0\n",
      "\n",
      "tensor([False,  True, False, False])  :  tensor([0., 1., 0., 0.])\n",
      "tensor([False,  True,  True, False])  :  tensor([0., 1., 1., 0.])\n",
      "tensor([ True,  True, False,  True])  :  tensor([1., 1., 0., 1.])\n",
      "tensor([False,  True, False])  :  tensor([0., 1., 0.])\n",
      "Average loss: 0.3123142837771108\n",
      "Accuracy: 1.0\n",
      "\n",
      "tensor([False,  True, False, False])  :  tensor([0., 1., 0., 0.])\n",
      "tensor([False,  True,  True, False])  :  tensor([0., 1., 1., 0.])\n",
      "tensor([ True,  True, False,  True])  :  tensor([1., 1., 0., 1.])\n",
      "tensor([False,  True, False])  :  tensor([0., 1., 0.])\n",
      "Average loss: 0.31231021457315367\n",
      "Accuracy: 1.0\n",
      "\n",
      "tensor([False,  True, False, False])  :  tensor([0., 1., 0., 0.])\n",
      "tensor([False,  True,  True, False])  :  tensor([0., 1., 1., 0.])\n",
      "tensor([ True,  True, False,  True])  :  tensor([1., 1., 0., 1.])\n",
      "tensor([False,  True, False])  :  tensor([0., 1., 0.])\n",
      "Average loss: 0.3123064870629605\n",
      "Accuracy: 1.0\n",
      "\n",
      "tensor([False,  True, False, False])  :  tensor([0., 1., 0., 0.])\n",
      "tensor([False,  True,  True, False])  :  tensor([0., 1., 1., 0.])\n",
      "tensor([ True,  True, False,  True])  :  tensor([1., 1., 0., 1.])\n",
      "tensor([False,  True, False])  :  tensor([0., 1., 0.])\n",
      "Average loss: 0.3122927790746568\n",
      "Accuracy: 1.0\n",
      "\n",
      "tensor([False,  True, False, False])  :  tensor([0., 1., 0., 0.])\n",
      "tensor([False,  True,  True, False])  :  tensor([0., 1., 1., 0.])\n",
      "tensor([ True,  True, False,  True])  :  tensor([1., 1., 0., 1.])\n",
      "tensor([False,  True, False])  :  tensor([0., 1., 0.])\n",
      "Average loss: 0.3122838391139036\n",
      "Accuracy: 1.0\n",
      "\n",
      "tensor([False,  True, False, False])  :  tensor([0., 1., 0., 0.])\n",
      "tensor([False,  True,  True, False])  :  tensor([0., 1., 1., 0.])\n",
      "tensor([ True,  True, False,  True])  :  tensor([1., 1., 0., 1.])\n",
      "tensor([False,  True, False])  :  tensor([0., 1., 0.])\n",
      "Average loss: 0.31227837985012835\n",
      "Accuracy: 1.0\n",
      "\n"
     ]
    },
    {
     "name": "stderr",
     "output_type": "stream",
     "text": [
      " 40%|████████████████████████████████▍                                                | 80/200 [00:02<00:04, 29.02it/s]"
     ]
    },
    {
     "name": "stdout",
     "output_type": "stream",
     "text": [
      "tensor([False,  True, False, False])  :  tensor([0., 1., 0., 0.])\n",
      "tensor([False,  True,  True, False])  :  tensor([0., 1., 1., 0.])\n",
      "tensor([ True,  True, False,  True])  :  tensor([1., 1., 0., 1.])\n",
      "tensor([False,  True, False])  :  tensor([0., 1., 0.])\n",
      "Average loss: 0.31227621018685264\n",
      "Accuracy: 1.0\n",
      "\n",
      "tensor([False,  True, False, False])  :  tensor([0., 1., 0., 0.])\n",
      "tensor([False,  True,  True, False])  :  tensor([0., 1., 1., 0.])\n",
      "tensor([ True,  True, False,  True])  :  tensor([1., 1., 0., 1.])\n",
      "tensor([False,  True, False])  :  tensor([0., 1., 0.])\n",
      "Average loss: 0.3122910620767167\n",
      "Accuracy: 1.0\n",
      "\n",
      "tensor([False,  True, False, False])  :  tensor([0., 1., 0., 0.])\n",
      "tensor([False,  True,  True, False])  :  tensor([0., 1., 1., 0.])\n",
      "tensor([ True,  True, False,  True])  :  tensor([1., 1., 0., 1.])\n",
      "tensor([False,  True, False])  :  tensor([0., 1., 0.])\n",
      "Average loss: 0.31227015407979103\n",
      "Accuracy: 1.0\n",
      "\n",
      "tensor([False,  True, False, False])  :  tensor([0., 1., 0., 0.])\n",
      "tensor([False,  True,  True, False])  :  tensor([0., 1., 1., 0.])\n",
      "tensor([ True,  True, False,  True])  :  tensor([1., 1., 0., 1.])\n",
      "tensor([False,  True, False])  :  tensor([0., 1., 0.])\n",
      "Average loss: 0.31225511060050243\n",
      "Accuracy: 1.0\n",
      "\n",
      "tensor([False,  True, False, False])  :  tensor([0., 1., 0., 0.])\n",
      "tensor([False,  True,  True, False])  :  tensor([0., 1., 1., 0.])\n",
      "tensor([ True,  True, False,  True])  :  tensor([1., 1., 0., 1.])\n",
      "tensor([False,  True, False])  :  tensor([0., 1., 0.])\n",
      "Average loss: 0.3122457094563894\n",
      "Accuracy: 1.0\n",
      "\n",
      "tensor([False,  True, False, False])  :  tensor([0., 1., 0., 0.])\n",
      "tensor([False,  True,  True, False])  :  tensor([0., 1., 1., 0.])\n",
      "tensor([ True,  True, False,  True])  :  tensor([1., 1., 0., 1.])\n",
      "tensor([False,  True, False])  :  tensor([0., 1., 0.])\n",
      "Average loss: 0.31224204578405385\n",
      "Accuracy: 1.0\n",
      "\n"
     ]
    },
    {
     "name": "stderr",
     "output_type": "stream",
     "text": [
      " 44%|███████████████████████████████████▏                                             | 87/200 [00:02<00:03, 29.89it/s]"
     ]
    },
    {
     "name": "stdout",
     "output_type": "stream",
     "text": [
      "tensor([False,  True, False, False])  :  tensor([0., 1., 0., 0.])\n",
      "tensor([False,  True,  True, False])  :  tensor([0., 1., 1., 0.])\n",
      "tensor([ True,  True, False,  True])  :  tensor([1., 1., 0., 1.])\n",
      "tensor([False,  True, False])  :  tensor([0., 1., 0.])\n",
      "Average loss: 0.3122396060687606\n",
      "Accuracy: 1.0\n",
      "\n",
      "tensor([False,  True, False, False])  :  tensor([0., 1., 0., 0.])\n",
      "tensor([False,  True,  True, False])  :  tensor([0., 1., 1., 0.])\n",
      "tensor([ True,  True, False,  True])  :  tensor([1., 1., 0., 1.])\n",
      "tensor([False,  True, False])  :  tensor([0., 1., 0.])\n",
      "Average loss: 0.3122379531348391\n",
      "Accuracy: 1.0\n",
      "\n",
      "tensor([False,  True, False, False])  :  tensor([0., 1., 0., 0.])\n",
      "tensor([False,  True,  True, False])  :  tensor([0., 1., 1., 0.])\n",
      "tensor([ True,  True, False,  True])  :  tensor([1., 1., 0., 1.])\n",
      "tensor([False,  True, False])  :  tensor([0., 1., 0.])\n",
      "Average loss: 0.31223504445855116\n",
      "Accuracy: 1.0\n",
      "\n",
      "tensor([False,  True, False, False])  :  tensor([0., 1., 0., 0.])\n",
      "tensor([False,  True,  True, False])  :  tensor([0., 1., 1., 0.])\n",
      "tensor([ True,  True, False,  True])  :  tensor([1., 1., 0., 1.])\n",
      "tensor([False,  True, False])  :  tensor([0., 1., 0.])\n",
      "Average loss: 0.31223296237888765\n",
      "Accuracy: 1.0\n",
      "\n",
      "tensor([False,  True, False, False])  :  tensor([0., 1., 0., 0.])\n",
      "tensor([False,  True,  True, False])  :  tensor([0., 1., 1., 0.])\n",
      "tensor([ True,  True, False,  True])  :  tensor([1., 1., 0., 1.])\n",
      "tensor([False,  True, False])  :  tensor([0., 1., 0.])\n",
      "Average loss: 0.31223355051903734\n",
      "Accuracy: 1.0\n",
      "\n",
      "tensor([False,  True, False, False])  :  tensor([0., 1., 0., 0.])\n",
      "tensor([False,  True,  True, False])  :  tensor([0., 1., 1., 0.])\n",
      "tensor([ True,  True, False,  True])  :  tensor([1., 1., 0., 1.])\n",
      "tensor([False,  True, False])  :  tensor([0., 1., 0.])\n",
      "Average loss: 0.3122310471785871\n",
      "Accuracy: 1.0\n",
      "\n",
      "tensor([False,  True, False, False])  :  tensor([0., 1., 0., 0.])\n",
      "tensor([False,  True,  True, False])  :  tensor([0., 1., 1., 0.])\n",
      "tensor([ True,  True, False,  True])  :  tensor([1., 1., 0., 1.])\n",
      "tensor([False,  True, False])  :  tensor([0., 1., 0.])\n",
      "Average loss: 0.3122258100321536\n",
      "Accuracy: 1.0\n",
      "\n"
     ]
    },
    {
     "name": "stderr",
     "output_type": "stream",
     "text": [
      " 45%|████████████████████████████████████▍                                            | 90/200 [00:03<00:03, 29.56it/s]"
     ]
    },
    {
     "name": "stdout",
     "output_type": "stream",
     "text": [
      "tensor([False,  True, False, False])  :  tensor([0., 1., 0., 0.])\n",
      "tensor([False,  True,  True, False])  :  tensor([0., 1., 1., 0.])\n",
      "tensor([ True,  True, False,  True])  :  tensor([1., 1., 0., 1.])\n",
      "tensor([False,  True, False])  :  tensor([0., 1., 0.])\n",
      "Average loss: 0.31223529081356294\n",
      "Accuracy: 1.0\n",
      "\n",
      "tensor([False,  True, False, False])  :  tensor([0., 1., 0., 0.])\n",
      "tensor([False,  True,  True, False])  :  tensor([0., 1., 1., 0.])\n",
      "tensor([ True,  True, False,  True])  :  tensor([1., 1., 0., 1.])\n",
      "tensor([False,  True, False])  :  tensor([0., 1., 0.])\n",
      "Average loss: 0.31222977533980156\n",
      "Accuracy: 1.0\n",
      "\n",
      "tensor([False,  True, False, False])  :  tensor([0., 1., 0., 0.])\n",
      "tensor([False,  True,  True, False])  :  tensor([0., 1., 1., 0.])\n",
      "tensor([ True,  True, False,  True])  :  tensor([1., 1., 0., 1.])\n",
      "tensor([False,  True, False])  :  tensor([0., 1., 0.])\n",
      "Average loss: 0.3122170995899675\n",
      "Accuracy: 1.0\n",
      "\n",
      "tensor([False,  True, False, False])  :  tensor([0., 1., 0., 0.])\n",
      "tensor([False,  True,  True, False])  :  tensor([0., 1., 1., 0.])\n",
      "tensor([ True,  True, False,  True])  :  tensor([1., 1., 0., 1.])\n",
      "tensor([False,  True, False])  :  tensor([0., 1., 0.])\n",
      "Average loss: 0.31220652994203796\n",
      "Accuracy: 1.0\n",
      "\n",
      "tensor([False,  True, False, False])  :  tensor([0., 1., 0., 0.])\n",
      "tensor([False,  True,  True, False])  :  tensor([0., 1., 1., 0.])\n",
      "tensor([ True,  True, False,  True])  :  tensor([1., 1., 0., 1.])\n",
      "tensor([False,  True, False])  :  tensor([0., 1., 0.])\n",
      "Average loss: 0.3122026438233661\n",
      "Accuracy: 1.0\n",
      "\n",
      "tensor([False,  True, False, False])  :  tensor([0., 1., 0., 0.])\n",
      "tensor([False,  True,  True, False])  :  tensor([0., 1., 1., 0.])\n",
      "tensor([ True,  True, False,  True])  :  tensor([1., 1., 0., 1.])\n",
      "tensor([False,  True, False])  :  tensor([0., 1., 0.])\n",
      "Average loss: 0.3122023020969209\n",
      "Accuracy: 1.0\n",
      "\n"
     ]
    },
    {
     "name": "stderr",
     "output_type": "stream",
     "text": [
      " 50%|████████████████████████████████████████                                        | 100/200 [00:03<00:03, 29.36it/s]"
     ]
    },
    {
     "name": "stdout",
     "output_type": "stream",
     "text": [
      "tensor([False,  True, False, False])  :  tensor([0., 1., 0., 0.])\n",
      "tensor([False,  True,  True, False])  :  tensor([0., 1., 1., 0.])\n",
      "tensor([ True,  True, False,  True])  :  tensor([1., 1., 0., 1.])\n",
      "tensor([False,  True, False])  :  tensor([0., 1., 0.])\n",
      "Average loss: 0.3121990755639975\n",
      "Accuracy: 1.0\n",
      "\n",
      "tensor([False,  True, False, False])  :  tensor([0., 1., 0., 0.])\n",
      "tensor([False,  True,  True, False])  :  tensor([0., 1., 1., 0.])\n",
      "tensor([ True,  True, False,  True])  :  tensor([1., 1., 0., 1.])\n",
      "tensor([False,  True, False])  :  tensor([0., 1., 0.])\n",
      "Average loss: 0.3121976689061133\n",
      "Accuracy: 1.0\n",
      "\n",
      "tensor([False,  True, False, False])  :  tensor([0., 1., 0., 0.])\n",
      "tensor([False,  True,  True, False])  :  tensor([0., 1., 1., 0.])\n",
      "tensor([ True,  True, False,  True])  :  tensor([1., 1., 0., 1.])\n",
      "tensor([False,  True, False])  :  tensor([0., 1., 0.])\n",
      "Average loss: 0.3121972794414736\n",
      "Accuracy: 1.0\n",
      "\n",
      "tensor([False,  True, False, False])  :  tensor([0., 1., 0., 0.])\n",
      "tensor([False,  True,  True, False])  :  tensor([0., 1., 1., 0.])\n",
      "tensor([ True,  True, False,  True])  :  tensor([1., 1., 0., 1.])\n",
      "tensor([False,  True, False])  :  tensor([0., 1., 0.])\n",
      "Average loss: 0.3121909296325612\n",
      "Accuracy: 1.0\n",
      "\n",
      "tensor([False,  True, False, False])  :  tensor([0., 1., 0., 0.])\n",
      "tensor([False,  True,  True, False])  :  tensor([0., 1., 1., 0.])\n",
      "tensor([ True,  True, False,  True])  :  tensor([1., 1., 0., 1.])\n",
      "tensor([False,  True, False])  :  tensor([0., 1., 0.])\n",
      "Average loss: 0.3121861295730014\n",
      "Accuracy: 1.0\n",
      "\n",
      "tensor([False,  True, False, False])  :  tensor([0., 1., 0., 0.])\n",
      "tensor([False,  True,  True, False])  :  tensor([0., 1., 1., 0.])\n",
      "tensor([ True,  True, False,  True])  :  tensor([1., 1., 0., 1.])\n",
      "tensor([False,  True, False])  :  tensor([0., 1., 0.])\n",
      "Average loss: 0.3121893004307518\n",
      "Accuracy: 1.0\n",
      "\n",
      "tensor([False,  True, False, False])  :  tensor([0., 1., 0., 0.])\n",
      "tensor([False,  True,  True, False])  :  tensor([0., 1., 1., 0.])\n",
      "tensor([ True,  True, False,  True])  :  tensor([1., 1., 0., 1.])\n",
      "tensor([False,  True, False])  :  tensor([0., 1., 0.])\n",
      "Average loss: 0.31218810041345935\n",
      "Accuracy: 1.0\n",
      "\n"
     ]
    },
    {
     "name": "stderr",
     "output_type": "stream",
     "text": [
      " 52%|█████████████████████████████████████████▌                                      | 104/200 [00:03<00:03, 30.02it/s]"
     ]
    },
    {
     "name": "stdout",
     "output_type": "stream",
     "text": [
      "tensor([False,  True, False, False])  :  tensor([0., 1., 0., 0.])\n",
      "tensor([False,  True,  True, False])  :  tensor([0., 1., 1., 0.])\n",
      "tensor([ True,  True, False,  True])  :  tensor([1., 1., 0., 1.])\n",
      "tensor([False,  True, False])  :  tensor([0., 1., 0.])\n",
      "Average loss: 0.3121845718846392\n",
      "Accuracy: 1.0\n",
      "\n",
      "tensor([False,  True, False, False])  :  tensor([0., 1., 0., 0.])\n",
      "tensor([False,  True,  True, False])  :  tensor([0., 1., 1., 0.])\n",
      "tensor([ True,  True, False,  True])  :  tensor([1., 1., 0., 1.])\n",
      "tensor([False,  True, False])  :  tensor([0., 1., 0.])\n",
      "Average loss: 0.31218113871303405\n",
      "Accuracy: 1.0\n",
      "\n",
      "tensor([False,  True, False, False])  :  tensor([0., 1., 0., 0.])\n",
      "tensor([False,  True,  True, False])  :  tensor([0., 1., 1., 0.])\n",
      "tensor([ True,  True, False,  True])  :  tensor([1., 1., 0., 1.])\n",
      "tensor([False,  True, False])  :  tensor([0., 1., 0.])\n",
      "Average loss: 0.31217939035974873\n",
      "Accuracy: 1.0\n",
      "\n",
      "tensor([False,  True, False, False])  :  tensor([0., 1., 0., 0.])\n",
      "tensor([False,  True,  True, False])  :  tensor([0., 1., 1., 0.])\n",
      "tensor([ True,  True, False,  True])  :  tensor([1., 1., 0., 1.])\n",
      "tensor([False,  True, False])  :  tensor([0., 1., 0.])\n",
      "Average loss: 0.31218013735557787\n",
      "Accuracy: 1.0\n",
      "\n",
      "tensor([False,  True, False, False])  :  tensor([0., 1., 0., 0.])\n",
      "tensor([False,  True,  True, False])  :  tensor([0., 1., 1., 0.])\n",
      "tensor([ True,  True, False,  True])  :  tensor([1., 1., 0., 1.])\n",
      "tensor([False,  True, False])  :  tensor([0., 1., 0.])\n",
      "Average loss: 0.31217948569368065\n",
      "Accuracy: 1.0\n",
      "\n",
      "tensor([False,  True, False, False])  :  tensor([0., 1., 0., 0.])\n",
      "tensor([False,  True,  True, False])  :  tensor([0., 1., 1., 0.])\n",
      "tensor([ True,  True, False,  True])  :  tensor([1., 1., 0., 1.])\n",
      "tensor([False,  True, False])  :  tensor([0., 1., 0.])\n",
      "Average loss: 0.31217659293803685\n",
      "Accuracy: 1.0\n",
      "\n"
     ]
    },
    {
     "name": "stderr",
     "output_type": "stream",
     "text": [
      " 56%|████████████████████████████████████████████▊                                   | 112/200 [00:03<00:02, 30.35it/s]"
     ]
    },
    {
     "name": "stdout",
     "output_type": "stream",
     "text": [
      "tensor([False,  True, False, False])  :  tensor([0., 1., 0., 0.])\n",
      "tensor([False,  True,  True, False])  :  tensor([0., 1., 1., 0.])\n",
      "tensor([ True,  True, False,  True])  :  tensor([1., 1., 0., 1.])\n",
      "tensor([False,  True, False])  :  tensor([0., 1., 0.])\n",
      "Average loss: 0.3121751306539712\n",
      "Accuracy: 1.0\n",
      "\n",
      "tensor([False,  True, False, False])  :  tensor([0., 1., 0., 0.])\n",
      "tensor([False,  True,  True, False])  :  tensor([0., 1., 1., 0.])\n",
      "tensor([ True,  True, False,  True])  :  tensor([1., 1., 0., 1.])\n",
      "tensor([False,  True, False])  :  tensor([0., 1., 0.])\n",
      "Average loss: 0.3121740259875575\n",
      "Accuracy: 1.0\n",
      "\n",
      "tensor([False,  True, False, False])  :  tensor([0., 1., 0., 0.])\n",
      "tensor([False,  True,  True, False])  :  tensor([0., 1., 1., 0.])\n",
      "tensor([ True,  True, False,  True])  :  tensor([1., 1., 0., 1.])\n",
      "tensor([False,  True, False])  :  tensor([0., 1., 0.])\n",
      "Average loss: 0.3121715782414564\n",
      "Accuracy: 1.0\n",
      "\n",
      "tensor([False,  True, False, False])  :  tensor([0., 1., 0., 0.])\n",
      "tensor([False,  True,  True, False])  :  tensor([0., 1., 1., 0.])\n",
      "tensor([ True,  True, False,  True])  :  tensor([1., 1., 0., 1.])\n",
      "tensor([False,  True, False])  :  tensor([0., 1., 0.])\n",
      "Average loss: 0.3121717848490334\n",
      "Accuracy: 1.0\n",
      "\n",
      "tensor([False,  True, False, False])  :  tensor([0., 1., 0., 0.])\n",
      "tensor([False,  True,  True, False])  :  tensor([0., 1., 1., 0.])\n",
      "tensor([ True,  True, False,  True])  :  tensor([1., 1., 0., 1.])\n",
      "tensor([False,  True, False])  :  tensor([0., 1., 0.])\n",
      "Average loss: 0.3121711411013772\n",
      "Accuracy: 1.0\n",
      "\n",
      "tensor([False,  True, False, False])  :  tensor([0., 1., 0., 0.])\n",
      "tensor([False,  True,  True, False])  :  tensor([0., 1., 1., 0.])\n",
      "tensor([ True,  True, False,  True])  :  tensor([1., 1., 0., 1.])\n",
      "tensor([False,  True, False])  :  tensor([0., 1., 0.])\n",
      "Average loss: 0.3121691225179651\n",
      "Accuracy: 1.0\n",
      "\n",
      "tensor([False,  True, False, False])  :  tensor([0., 1., 0., 0.])\n",
      "tensor([False,  True,  True, False])  :  tensor([0., 1., 1., 0.])\n",
      "tensor([ True,  True, False,  True])  :  tensor([1., 1., 0., 1.])\n",
      "tensor([False,  True, False])  :  tensor([0., 1., 0.])\n",
      "Average loss: 0.3121672946728268\n",
      "Accuracy: 1.0\n",
      "\n"
     ]
    },
    {
     "name": "stderr",
     "output_type": "stream",
     "text": [
      " 60%|████████████████████████████████████████████████                                | 120/200 [00:04<00:02, 30.72it/s]"
     ]
    },
    {
     "name": "stdout",
     "output_type": "stream",
     "text": [
      "tensor([False,  True, False, False])  :  tensor([0., 1., 0., 0.])\n",
      "tensor([False,  True,  True, False])  :  tensor([0., 1., 1., 0.])\n",
      "tensor([ True,  True, False,  True])  :  tensor([1., 1., 0., 1.])\n",
      "tensor([False,  True, False])  :  tensor([0., 1., 0.])\n",
      "Average loss: 0.3121657767621097\n",
      "Accuracy: 1.0\n",
      "\n",
      "tensor([False,  True, False, False])  :  tensor([0., 1., 0., 0.])\n",
      "tensor([False,  True,  True, False])  :  tensor([0., 1., 1., 0.])\n",
      "tensor([ True,  True, False,  True])  :  tensor([1., 1., 0., 1.])\n",
      "tensor([False,  True, False])  :  tensor([0., 1., 0.])\n",
      "Average loss: 0.31216497410324945\n",
      "Accuracy: 1.0\n",
      "\n",
      "tensor([False,  True, False, False])  :  tensor([0., 1., 0., 0.])\n",
      "tensor([False,  True,  True, False])  :  tensor([0., 1., 1., 0.])\n",
      "tensor([ True,  True, False,  True])  :  tensor([1., 1., 0., 1.])\n",
      "tensor([False,  True, False])  :  tensor([0., 1., 0.])\n",
      "Average loss: 0.31216435420936556\n",
      "Accuracy: 1.0\n",
      "\n",
      "tensor([False,  True, False, False])  :  tensor([0., 1., 0., 0.])\n",
      "tensor([False,  True,  True, False])  :  tensor([0., 1., 1., 0.])\n",
      "tensor([ True,  True, False,  True])  :  tensor([1., 1., 0., 1.])\n",
      "tensor([False,  True, False])  :  tensor([0., 1., 0.])\n",
      "Average loss: 0.3121638455716493\n",
      "Accuracy: 1.0\n",
      "\n",
      "tensor([False,  True, False, False])  :  tensor([0., 1., 0., 0.])\n",
      "tensor([False,  True,  True, False])  :  tensor([0., 1., 1., 0.])\n",
      "tensor([ True,  True, False,  True])  :  tensor([1., 1., 0., 1.])\n",
      "tensor([False,  True, False])  :  tensor([0., 1., 0.])\n",
      "Average loss: 0.3121617872359972\n",
      "Accuracy: 1.0\n",
      "\n",
      "tensor([False,  True, False, False])  :  tensor([0., 1., 0., 0.])\n",
      "tensor([False,  True,  True, False])  :  tensor([0., 1., 1., 0.])\n",
      "tensor([ True,  True, False,  True])  :  tensor([1., 1., 0., 1.])\n",
      "tensor([False,  True, False])  :  tensor([0., 1., 0.])\n",
      "Average loss: 0.3121600388568974\n",
      "Accuracy: 1.0\n",
      "\n",
      "tensor([False,  True, False, False])  :  tensor([0., 1., 0., 0.])\n",
      "tensor([False,  True,  True, False])  :  tensor([0., 1., 1., 0.])\n",
      "tensor([ True,  True, False,  True])  :  tensor([1., 1., 0., 1.])\n",
      "tensor([False,  True, False])  :  tensor([0., 1., 0.])\n",
      "Average loss: 0.31215951433944916\n",
      "Accuracy: 1.0\n",
      "\n"
     ]
    },
    {
     "name": "stderr",
     "output_type": "stream",
     "text": [
      " 62%|█████████████████████████████████████████████████▌                              | 124/200 [00:04<00:02, 30.52it/s]"
     ]
    },
    {
     "name": "stdout",
     "output_type": "stream",
     "text": [
      "tensor([False,  True, False, False])  :  tensor([0., 1., 0., 0.])\n",
      "tensor([False,  True,  True, False])  :  tensor([0., 1., 1., 0.])\n",
      "tensor([ True,  True, False,  True])  :  tensor([1., 1., 0., 1.])\n",
      "tensor([False,  True, False])  :  tensor([0., 1., 0.])\n",
      "Average loss: 0.31215898187761015\n",
      "Accuracy: 1.0\n",
      "\n",
      "tensor([False,  True, False, False])  :  tensor([0., 1., 0., 0.])\n",
      "tensor([False,  True,  True, False])  :  tensor([0., 1., 1., 0.])\n",
      "tensor([ True,  True, False,  True])  :  tensor([1., 1., 0., 1.])\n",
      "tensor([False,  True, False])  :  tensor([0., 1., 0.])\n",
      "Average loss: 0.3121578533758717\n",
      "Accuracy: 1.0\n",
      "\n",
      "tensor([False,  True, False, False])  :  tensor([0., 1., 0., 0.])\n",
      "tensor([False,  True,  True, False])  :  tensor([0., 1., 1., 0.])\n",
      "tensor([ True,  True, False,  True])  :  tensor([1., 1., 0., 1.])\n",
      "tensor([False,  True, False])  :  tensor([0., 1., 0.])\n",
      "Average loss: 0.31216218456074785\n",
      "Accuracy: 1.0\n",
      "\n",
      "tensor([False,  True, False, False])  :  tensor([0., 1., 0., 0.])\n",
      "tensor([False,  True,  True, False])  :  tensor([0., 1., 1., 0.])\n",
      "tensor([ True,  True, False,  True])  :  tensor([1., 1., 0., 1.])\n",
      "tensor([False,  True, False])  :  tensor([0., 1., 0.])\n",
      "Average loss: 0.3121622242835656\n",
      "Accuracy: 1.0\n",
      "\n",
      "tensor([False,  True, False, False])  :  tensor([0., 1., 0., 0.])\n",
      "tensor([False,  True,  True, False])  :  tensor([0., 1., 1., 0.])\n",
      "tensor([ True,  True, False,  True])  :  tensor([1., 1., 0., 1.])\n",
      "tensor([False,  True, False])  :  tensor([0., 1., 0.])\n",
      "Average loss: 0.3121606269067797\n",
      "Accuracy: 1.0\n",
      "\n",
      "tensor([False,  True, False, False])  :  tensor([0., 1., 0., 0.])\n",
      "tensor([False,  True,  True, False])  :  tensor([0., 1., 1., 0.])\n",
      "tensor([ True,  True, False,  True])  :  tensor([1., 1., 0., 1.])\n",
      "tensor([False,  True, False])  :  tensor([0., 1., 0.])\n",
      "Average loss: 0.3121606269437204\n",
      "Accuracy: 1.0\n",
      "\n",
      "tensor([False,  True, False, False])  :  tensor([0., 1., 0., 0.])\n"
     ]
    },
    {
     "name": "stderr",
     "output_type": "stream",
     "text": [
      " 66%|████████████████████████████████████████████████████▊                           | 132/200 [00:04<00:02, 30.38it/s]"
     ]
    },
    {
     "name": "stdout",
     "output_type": "stream",
     "text": [
      "tensor([False,  True,  True, False])  :  tensor([0., 1., 1., 0.])\n",
      "tensor([ True,  True, False,  True])  :  tensor([1., 1., 0., 1.])\n",
      "tensor([False,  True, False])  :  tensor([0., 1., 0.])\n",
      "Average loss: 0.31216063491115165\n",
      "Accuracy: 1.0\n",
      "\n",
      "tensor([False,  True, False, False])  :  tensor([0., 1., 0., 0.])\n",
      "tensor([False,  True,  True, False])  :  tensor([0., 1., 1., 0.])\n",
      "tensor([ True,  True, False,  True])  :  tensor([1., 1., 0., 1.])\n",
      "tensor([False,  True, False])  :  tensor([0., 1., 0.])\n",
      "Average loss: 0.31215851299845476\n",
      "Accuracy: 1.0\n",
      "\n",
      "tensor([False,  True, False, False])  :  tensor([0., 1., 0., 0.])\n",
      "tensor([False,  True,  True, False])  :  tensor([0., 1., 1., 0.])\n",
      "tensor([ True,  True, False,  True])  :  tensor([1., 1., 0., 1.])\n",
      "tensor([False,  True, False])  :  tensor([0., 1., 0.])\n",
      "Average loss: 0.3121570586516858\n",
      "Accuracy: 1.0\n",
      "\n",
      "tensor([False,  True, False, False])  :  tensor([0., 1., 0., 0.])\n",
      "tensor([False,  True,  True, False])  :  tensor([0., 1., 1., 0.])\n",
      "tensor([ True,  True, False,  True])  :  tensor([1., 1., 0., 1.])\n",
      "tensor([False,  True, False])  :  tensor([0., 1., 0.])\n",
      "Average loss: 0.31215657387866336\n",
      "Accuracy: 1.0\n",
      "\n",
      "tensor([False,  True, False, False])  :  tensor([0., 1., 0., 0.])\n",
      "tensor([False,  True,  True, False])  :  tensor([0., 1., 1., 0.])\n",
      "tensor([ True,  True, False,  True])  :  tensor([1., 1., 0., 1.])\n",
      "tensor([False,  True, False])  :  tensor([0., 1., 0.])\n",
      "Average loss: 0.3121545393800185\n",
      "Accuracy: 1.0\n",
      "\n",
      "tensor([False,  True, False, False])  :  tensor([0., 1., 0., 0.])\n",
      "tensor([False,  True,  True, False])  :  tensor([0., 1., 1., 0.])\n",
      "tensor([ True,  True, False,  True])  :  tensor([1., 1., 0., 1.])\n",
      "tensor([False,  True, False])  :  tensor([0., 1., 0.])\n",
      "Average loss: 0.31215279892705894\n",
      "Accuracy: 1.0\n",
      "\n",
      "tensor([False,  True, False, False])  :  "
     ]
    },
    {
     "name": "stderr",
     "output_type": "stream",
     "text": [
      " 68%|██████████████████████████████████████████████████████▍                         | 136/200 [00:04<00:02, 30.77it/s]"
     ]
    },
    {
     "name": "stdout",
     "output_type": "stream",
     "text": [
      "tensor([0., 1., 0., 0.])\n",
      "tensor([False,  True,  True, False])  :  tensor([0., 1., 1., 0.])\n",
      "tensor([ True,  True, False,  True])  :  tensor([1., 1., 0., 1.])\n",
      "tensor([False,  True, False])  :  tensor([0., 1., 0.])\n",
      "Average loss: 0.3121524889875218\n",
      "Accuracy: 1.0\n",
      "\n",
      "tensor([False,  True, False, False])  :  tensor([0., 1., 0., 0.])\n",
      "tensor([False,  True,  True, False])  :  tensor([0., 1., 1., 0.])\n",
      "tensor([ True,  True, False,  True])  :  tensor([1., 1., 0., 1.])\n",
      "tensor([False,  True, False])  :  tensor([0., 1., 0.])\n",
      "Average loss: 0.3121526002512231\n",
      "Accuracy: 1.0\n",
      "\n",
      "tensor([False,  True, False, False])  :  tensor([0., 1., 0., 0.])\n",
      "tensor([False,  True,  True, False])  :  tensor([0., 1., 1., 0.])\n",
      "tensor([ True,  True, False,  True])  :  tensor([1., 1., 0., 1.])\n",
      "tensor([False,  True, False])  :  tensor([0., 1., 0.])\n",
      "Average loss: 0.3121523379893309\n",
      "Accuracy: 1.0\n",
      "\n",
      "tensor([False,  True, False, False])  :  tensor([0., 1., 0., 0.])\n",
      "tensor([False,  True,  True, False])  :  tensor([0., 1., 1., 0.])\n",
      "tensor([ True,  True, False,  True])  :  tensor([1., 1., 0., 1.])\n",
      "tensor([False,  True, False])  :  tensor([0., 1., 0.])\n",
      "Average loss: 0.312152441307929\n",
      "Accuracy: 1.0\n",
      "\n",
      "tensor([False,  True, False, False])  :  tensor([0., 1., 0., 0.])\n",
      "tensor([False,  True,  True, False])  :  tensor([0., 1., 1., 0.])\n",
      "tensor([ True,  True, False,  True])  :  tensor([1., 1., 0., 1.])\n",
      "tensor([False,  True, False])  :  tensor([0., 1., 0.])\n",
      "Average loss: 0.3121529817284833\n",
      "Accuracy: 1.0\n",
      "\n",
      "tensor([False,  True, False, False])  :  tensor([0., 1., 0., 0.])\n",
      "tensor([False,  True,  True, False])  :  tensor([0., 1., 1., 0.])\n",
      "tensor([ True,  True, False,  True])  :  tensor([1., 1., 0., 1.])\n",
      "tensor([False,  True, False])  :  tensor([0., 1., 0.])\n",
      "Average loss: 0.3121521075197355\n",
      "Accuracy: 1.0\n",
      "\n",
      "tensor([False,  True, False, False])  :  tensor([0., 1., 0., 0.])\n",
      "tensor([False,  True,  True, False])  :  tensor([0., 1., 1., 0.])\n",
      "tensor([ True,  True, False,  True])  :  tensor([1., 1., 0., 1.])\n",
      "tensor([False,  True, False])  :  tensor([0., 1., 0.])\n",
      "Average loss: 0.31215265588587804\n",
      "Accuracy: 1.0\n",
      "\n"
     ]
    },
    {
     "name": "stderr",
     "output_type": "stream",
     "text": [
      " 72%|█████████████████████████████████████████████████████████▌                      | 144/200 [00:04<00:01, 31.59it/s]"
     ]
    },
    {
     "name": "stdout",
     "output_type": "stream",
     "text": [
      "tensor([False,  True, False, False])  :  tensor([0., 1., 0., 0.])\n",
      "tensor([False,  True,  True, False])  :  tensor([0., 1., 1., 0.])\n",
      "tensor([ True,  True, False,  True])  :  tensor([1., 1., 0., 1.])\n",
      "tensor([False,  True, False])  :  tensor([0., 1., 0.])\n",
      "Average loss: 0.3121539433521548\n",
      "Accuracy: 1.0\n",
      "\n",
      "tensor([False,  True, False, False])  :  tensor([0., 1., 0., 0.])\n",
      "tensor([False,  True,  True, False])  :  tensor([0., 1., 1., 0.])\n",
      "tensor([ True,  True, False,  True])  :  tensor([1., 1., 0., 1.])\n",
      "tensor([False,  True, False])  :  tensor([0., 1., 0.])\n",
      "Average loss: 0.31215422945469223\n",
      "Accuracy: 1.0\n",
      "\n",
      "tensor([False,  True, False, False])  :  tensor([0., 1., 0., 0.])\n",
      "tensor([False,  True,  True, False])  :  tensor([0., 1., 1., 0.])\n",
      "tensor([ True,  True, False,  True])  :  tensor([1., 1., 0., 1.])\n",
      "tensor([False,  True, False])  :  tensor([0., 1., 0.])\n",
      "Average loss: 0.31215329961725424\n",
      "Accuracy: 1.0\n",
      "\n",
      "tensor([False,  True, False, False])  :  tensor([0., 1., 0., 0.])\n",
      "tensor([False,  True,  True, False])  :  tensor([0., 1., 1., 0.])\n",
      "tensor([ True,  True, False,  True])  :  tensor([1., 1., 0., 1.])\n",
      "tensor([False,  True, False])  :  tensor([0., 1., 0.])\n",
      "Average loss: 0.3121538241408037\n",
      "Accuracy: 1.0\n",
      "\n",
      "tensor([False,  True, False, False])  :  tensor([0., 1., 0., 0.])\n",
      "tensor([False,  True,  True, False])  :  tensor([0., 1., 1., 0.])\n",
      "tensor([ True,  True, False,  True])  :  tensor([1., 1., 0., 1.])\n",
      "tensor([False,  True, False])  :  tensor([0., 1., 0.])\n",
      "Average loss: 0.3121542850878768\n",
      "Accuracy: 1.0\n",
      "\n",
      "tensor([False,  True, False, False])  :  tensor([0., 1., 0., 0.])\n",
      "tensor([False,  True,  True, False])  :  tensor([0., 1., 1., 0.])\n",
      "tensor([ True,  True, False,  True])  :  tensor([1., 1., 0., 1.])\n",
      "tensor([False,  True, False])  :  tensor([0., 1., 0.])\n",
      "Average loss: 0.3121540705148012\n",
      "Accuracy: 1.0\n",
      "\n",
      "tensor([False,  True, False, False])  :  tensor([0., 1., 0., 0.])\n",
      "tensor([False,  True,  True, False])  :  tensor([0., 1., 1., 0.])\n",
      "tensor([ True,  True, False,  True])  :  tensor([1., 1., 0., 1.])\n",
      "tensor([False,  True, False])  :  tensor([0., 1., 0.])\n"
     ]
    },
    {
     "name": "stderr",
     "output_type": "stream",
     "text": [
      " 76%|████████████████████████████████████████████████████████████▊                   | 152/200 [00:05<00:01, 31.13it/s]"
     ]
    },
    {
     "name": "stdout",
     "output_type": "stream",
     "text": [
      "Average loss: 0.3121528386862034\n",
      "Accuracy: 1.0\n",
      "\n",
      "tensor([False,  True, False, False])  :  tensor([0., 1., 0., 0.])\n",
      "tensor([False,  True,  True, False])  :  tensor([0., 1., 1., 0.])\n",
      "tensor([ True,  True, False,  True])  :  tensor([1., 1., 0., 1.])\n",
      "tensor([False,  True, False])  :  tensor([0., 1., 0.])\n",
      "Average loss: 0.3121517578553115\n",
      "Accuracy: 1.0\n",
      "\n",
      "tensor([False,  True, False, False])  :  tensor([0., 1., 0., 0.])\n",
      "tensor([False,  True,  True, False])  :  tensor([0., 1., 1., 0.])\n",
      "tensor([ True,  True, False,  True])  :  tensor([1., 1., 0., 1.])\n",
      "tensor([False,  True, False])  :  tensor([0., 1., 0.])\n",
      "Average loss: 0.31215163070031243\n",
      "Accuracy: 1.0\n",
      "\n",
      "tensor([False,  True, False, False])  :  tensor([0., 1., 0., 0.])\n",
      "tensor([False,  True,  True, False])  :  tensor([0., 1., 1., 0.])\n",
      "tensor([ True,  True, False,  True])  :  tensor([1., 1., 0., 1.])\n",
      "tensor([False,  True, False])  :  tensor([0., 1., 0.])\n",
      "Average loss: 0.312150788288371\n",
      "Accuracy: 1.0\n",
      "\n",
      "tensor([False,  True, False, False])  :  tensor([0., 1., 0., 0.])\n",
      "tensor([False,  True,  True, False])  :  tensor([0., 1., 1., 0.])\n",
      "tensor([ True,  True, False,  True])  :  tensor([1., 1., 0., 1.])\n",
      "tensor([False,  True, False])  :  tensor([0., 1., 0.])\n",
      "Average loss: 0.31215061344771583\n",
      "Accuracy: 1.0\n",
      "\n",
      "tensor([False,  True, False, False])  :  tensor([0., 1., 0., 0.])\n",
      "tensor([False,  True,  True, False])  :  tensor([0., 1., 1., 0.])\n",
      "tensor([ True,  True, False,  True])  :  tensor([1., 1., 0., 1.])\n",
      "tensor([False,  True, False])  :  tensor([0., 1., 0.])\n",
      "Average loss: 0.31215147970406937\n",
      "Accuracy: 1.0\n",
      "\n",
      "tensor([False,  True, False, False])  :  tensor([0., 1., 0., 0.])\n",
      "tensor([False,  True,  True, False])  :  tensor([0., 1., 1., 0.])\n",
      "tensor([ True,  True, False,  True])  :  tensor([1., 1., 0., 1.])\n",
      "tensor([False,  True, False])  :  tensor([0., 1., 0.])\n",
      "Average loss: 0.3121514479155318\n",
      "Accuracy: 1.0\n",
      "\n"
     ]
    },
    {
     "name": "stderr",
     "output_type": "stream",
     "text": [
      " 78%|██████████████████████████████████████████████████████████████▍                 | 156/200 [00:05<00:01, 31.31it/s]"
     ]
    },
    {
     "name": "stdout",
     "output_type": "stream",
     "text": [
      "tensor([False,  True, False, False])  :  tensor([0., 1., 0., 0.])\n",
      "tensor([False,  True,  True, False])  :  tensor([0., 1., 1., 0.])\n",
      "tensor([ True,  True, False,  True])  :  tensor([1., 1., 0., 1.])\n",
      "tensor([False,  True, False])  :  tensor([0., 1., 0.])\n",
      "Average loss: 0.3121507803425402\n",
      "Accuracy: 1.0\n",
      "\n",
      "tensor([False,  True, False, False])  :  tensor([0., 1., 0., 0.])\n",
      "tensor([False,  True,  True, False])  :  tensor([0., 1., 1., 0.])\n",
      "tensor([ True,  True, False,  True])  :  tensor([1., 1., 0., 1.])\n",
      "tensor([False,  True, False])  :  tensor([0., 1., 0.])\n",
      "Average loss: 0.31215113797259925\n",
      "Accuracy: 1.0\n",
      "\n",
      "tensor([False,  True, False, False])  :  tensor([0., 1., 0., 0.])\n",
      "tensor([False,  True,  True, False])  :  tensor([0., 1., 1., 0.])\n",
      "tensor([ True,  True, False,  True])  :  tensor([1., 1., 0., 1.])\n",
      "tensor([False,  True, False])  :  tensor([0., 1., 0.])\n",
      "Average loss: 0.31215143997044\n",
      "Accuracy: 1.0\n",
      "\n",
      "tensor([False,  True, False, False])  :  tensor([0., 1., 0., 0.])\n",
      "tensor([False,  True,  True, False])  :  tensor([0., 1., 1., 0.])\n",
      "tensor([ True,  True, False,  True])  :  tensor([1., 1., 0., 1.])\n",
      "tensor([False,  True, False])  :  tensor([0., 1., 0.])\n",
      "Average loss: 0.3121508121312066\n",
      "Accuracy: 1.0\n",
      "\n",
      "tensor([False,  True, False, False])  :  tensor([0., 1., 0., 0.])\n",
      "tensor([False,  True,  True, False])  :  tensor([0., 1., 1., 0.])\n",
      "tensor([ True,  True, False,  True])  :  tensor([1., 1., 0., 1.])\n",
      "tensor([False,  True, False])  :  tensor([0., 1., 0.])\n",
      "Average loss: 0.312152401589492\n",
      "Accuracy: 1.0\n",
      "\n",
      "tensor([False,  True, False, False])  :  tensor([0., 1., 0., 0.])\n",
      "tensor([False,  True,  True, False])  :  tensor([0., 1., 1., 0.])\n",
      "tensor([ True,  True, False,  True])  :  tensor([1., 1., 0., 1.])\n",
      "tensor([False,  True, False])  :  tensor([0., 1., 0.])\n",
      "Average loss: 0.3121523221186976\n",
      "Accuracy: 1.0\n",
      "\n"
     ]
    },
    {
     "name": "stderr",
     "output_type": "stream",
     "text": [
      " 82%|█████████████████████████████████████████████████████████████████▌              | 164/200 [00:05<00:01, 31.35it/s]"
     ]
    },
    {
     "name": "stdout",
     "output_type": "stream",
     "text": [
      "tensor([False,  True, False, False])  :  tensor([0., 1., 0., 0.])\n",
      "tensor([False,  True,  True, False])  :  tensor([0., 1., 1., 0.])\n",
      "tensor([ True,  True, False,  True])  :  tensor([1., 1., 0., 1.])\n",
      "tensor([False,  True, False])  :  tensor([0., 1., 0.])\n",
      "Average loss: 0.31215164660036027\n",
      "Accuracy: 1.0\n",
      "\n",
      "tensor([False,  True, False, False])  :  tensor([0., 1., 0., 0.])\n",
      "tensor([False,  True,  True, False])  :  tensor([0., 1., 1., 0.])\n",
      "tensor([ True,  True, False,  True])  :  tensor([1., 1., 0., 1.])\n",
      "tensor([False,  True, False])  :  tensor([0., 1., 0.])\n",
      "Average loss: 0.31215132076248436\n",
      "Accuracy: 1.0\n",
      "\n",
      "tensor([False,  True, False, False])  :  tensor([0., 1., 0., 0.])\n",
      "tensor([False,  True,  True, False])  :  tensor([0., 1., 1., 0.])\n",
      "tensor([ True,  True, False,  True])  :  tensor([1., 1., 0., 1.])\n",
      "tensor([False,  True, False])  :  tensor([0., 1., 0.])\n",
      "Average loss: 0.312149866410122\n",
      "Accuracy: 1.0\n",
      "\n",
      "tensor([False,  True, False, False])  :  tensor([0., 1., 0., 0.])\n",
      "tensor([False,  True,  True, False])  :  tensor([0., 1., 1., 0.])\n",
      "tensor([ True,  True, False,  True])  :  tensor([1., 1., 0., 1.])\n",
      "tensor([False,  True, False])  :  tensor([0., 1., 0.])\n",
      "Average loss: 0.31214932599528233\n",
      "Accuracy: 1.0\n",
      "\n",
      "tensor([False,  True, False, False])  :  tensor([0., 1., 0., 0.])\n",
      "tensor([False,  True,  True, False])  :  tensor([0., 1., 1., 0.])\n",
      "tensor([ True,  True, False,  True])  :  tensor([1., 1., 0., 1.])\n",
      "tensor([False,  True, False])  :  tensor([0., 1., 0.])\n",
      "Average loss: 0.31214995383209043\n",
      "Accuracy: 1.0\n",
      "\n",
      "tensor([False,  True, False, False])  :  tensor([0., 1., 0., 0.])\n",
      "tensor([False,  True,  True, False])  :  tensor([0., 1., 1., 0.])\n",
      "tensor([ True,  True, False,  True])  :  tensor([1., 1., 0., 1.])\n",
      "tensor([False,  True, False])  :  tensor([0., 1., 0.])\n",
      "Average loss: 0.3121498107805792\n",
      "Accuracy: 1.0\n",
      "\n"
     ]
    },
    {
     "name": "stderr",
     "output_type": "stream",
     "text": [
      " 84%|███████████████████████████████████████████████████████████████████▏            | 168/200 [00:05<00:01, 31.47it/s]"
     ]
    },
    {
     "name": "stdout",
     "output_type": "stream",
     "text": [
      "tensor([False,  True, False, False])  :  tensor([0., 1., 0., 0.])\n",
      "tensor([False,  True,  True, False])  :  tensor([0., 1., 1., 0.])\n",
      "tensor([ True,  True, False,  True])  :  tensor([1., 1., 0., 1.])\n",
      "tensor([False,  True, False])  :  tensor([0., 1., 0.])\n",
      "Average loss: 0.31215026377660704\n",
      "Accuracy: 1.0\n",
      "\n",
      "tensor([False,  True, False, False])  :  tensor([0., 1., 0., 0.])\n",
      "tensor([False,  True,  True, False])  :  tensor([0., 1., 1., 0.])\n",
      "tensor([ True,  True, False,  True])  :  tensor([1., 1., 0., 1.])\n",
      "tensor([False,  True, False])  :  tensor([0., 1., 0.])\n",
      "Average loss: 0.31214933394499744\n",
      "Accuracy: 1.0\n",
      "\n",
      "tensor([False,  True, False, False])  :  tensor([0., 1., 0., 0.])\n",
      "tensor([False,  True,  True, False])  :  tensor([0., 1., 1., 0.])\n",
      "tensor([ True,  True, False,  True])  :  tensor([1., 1., 0., 1.])\n",
      "tensor([False,  True, False])  :  tensor([0., 1., 0.])\n",
      "Average loss: 0.3121485153739362\n",
      "Accuracy: 1.0\n",
      "\n",
      "tensor([False,  True, False, False])  :  tensor([0., 1., 0., 0.])\n",
      "tensor([False,  True,  True, False])  :  tensor([0., 1., 1., 0.])\n",
      "tensor([ True,  True, False,  True])  :  tensor([1., 1., 0., 1.])\n",
      "tensor([False,  True, False])  :  tensor([0., 1., 0.])\n",
      "Average loss: 0.312150700878063\n",
      "Accuracy: 1.0\n",
      "\n",
      "tensor([False,  True, False, False])  :  tensor([0., 1., 0., 0.])\n",
      "tensor([False,  True,  True, False])  :  tensor([0., 1., 1., 0.])\n",
      "tensor([ True,  True, False,  True])  :  tensor([1., 1., 0., 1.])\n",
      "tensor([False,  True, False])  :  tensor([0., 1., 0.])\n",
      "Average loss: 0.31215178170944\n",
      "Accuracy: 1.0\n",
      "\n",
      "tensor([False,  True, False, False])  :  tensor([0., 1., 0., 0.])\n",
      "tensor([False,  True,  True, False])  :  tensor([0., 1., 1., 0.])\n",
      "tensor([ True,  True, False,  True])  :  tensor([1., 1., 0., 1.])\n",
      "tensor([False,  True, False])  :  tensor([0., 1., 0.])\n",
      "Average loss: 0.3121506929317472\n",
      "Accuracy: 1.0\n",
      "\n"
     ]
    },
    {
     "name": "stderr",
     "output_type": "stream",
     "text": [
      " 88%|██████████████████████████████████████████████████████████████████████          | 175/200 [00:05<00:00, 28.91it/s]"
     ]
    },
    {
     "name": "stdout",
     "output_type": "stream",
     "text": [
      "tensor([False,  True, False, False])  :  tensor([0., 1., 0., 0.])\n",
      "tensor([False,  True,  True, False])  :  tensor([0., 1., 1., 0.])\n",
      "tensor([ True,  True, False,  True])  :  tensor([1., 1., 0., 1.])\n",
      "tensor([False,  True, False])  :  tensor([0., 1., 0.])\n",
      "Average loss: 0.3121491749990355\n",
      "Accuracy: 1.0\n",
      "\n",
      "tensor([False,  True, False, False])  :  tensor([0., 1., 0., 0.])\n",
      "tensor([False,  True,  True, False])  :  tensor([0., 1., 1., 0.])\n",
      "tensor([ True,  True, False,  True])  :  tensor([1., 1., 0., 1.])\n",
      "tensor([False,  True, False])  :  tensor([0., 1., 0.])\n",
      "Average loss: 0.31214976309868236\n",
      "Accuracy: 1.0\n",
      "\n",
      "tensor([False,  True, False, False])  :  tensor([0., 1., 0., 0.])\n",
      "tensor([False,  True,  True, False])  :  tensor([0., 1., 1., 0.])\n",
      "tensor([ True,  True, False,  True])  :  tensor([1., 1., 0., 1.])\n",
      "tensor([False,  True, False])  :  tensor([0., 1., 0.])\n",
      "Average loss: 0.3121522267583032\n",
      "Accuracy: 1.0\n",
      "\n",
      "tensor([False,  True, False, False])  :  tensor([0., 1., 0., 0.])\n",
      "tensor([False,  True,  True, False])  :  tensor([0., 1., 1., 0.])\n",
      "tensor([ True,  True, False,  True])  :  tensor([1., 1., 0., 1.])\n",
      "tensor([False,  True, False])  :  tensor([0., 1., 0.])\n",
      "Average loss: 0.3121517419747117\n",
      "Accuracy: 1.0\n",
      "\n",
      "tensor([False,  True, False, False])  :  tensor([0., 1., 0., 0.])\n",
      "tensor([False,  True,  True, False])  :  tensor([0., 1., 1., 0.])\n",
      "tensor([ True,  True, False,  True])  :  tensor([1., 1., 0., 1.])\n",
      "tensor([False,  True, False])  :  tensor([0., 1., 0.])\n",
      "Average loss: 0.3121523936525856\n",
      "Accuracy: 1.0\n",
      "\n",
      "tensor([False,  True, False, False])  :  tensor([0., 1., 0., 0.])\n",
      "tensor([False,  True,  True, False])  :  tensor([0., 1., 1., 0.])\n",
      "tensor([ True,  True, False,  True])  :  tensor([1., 1., 0., 1.])\n",
      "tensor([False,  True, False])  :  tensor([0., 1., 0.])\n",
      "Average loss: 0.3121493577877042\n",
      "Accuracy: 1.0\n",
      "\n",
      "tensor([False,  True, False, False])  :  tensor([0., 1., 0., 0.])\n",
      "tensor([False,  True,  True, False])  :  tensor([0., 1., 1., 0.])\n",
      "tensor([ True,  True, False,  True])  :  tensor([1., 1., 0., 1.])\n",
      "tensor([False,  True, False])  :  tensor([0., 1., 0.])\n",
      "Average loss: 0.3121525287554164\n",
      "Accuracy: 1.0\n",
      "\n"
     ]
    },
    {
     "name": "stderr",
     "output_type": "stream",
     "text": [
      " 92%|█████████████████████████████████████████████████████████████████████████▏      | 183/200 [00:06<00:00, 30.77it/s]"
     ]
    },
    {
     "name": "stdout",
     "output_type": "stream",
     "text": [
      "tensor([False,  True, False, False])  :  tensor([0., 1., 0., 0.])\n",
      "tensor([False,  True,  True, False])  :  tensor([0., 1., 1., 0.])\n",
      "tensor([ True,  True, False,  True])  :  tensor([1., 1., 0., 1.])\n",
      "tensor([False,  True, False])  :  tensor([0., 1., 0.])\n",
      "Average loss: 0.3121520678131939\n",
      "Accuracy: 1.0\n",
      "\n",
      "tensor([False,  True, False, False])  :  tensor([0., 1., 0., 0.])\n",
      "tensor([False,  True,  True, False])  :  tensor([0., 1., 1., 0.])\n",
      "tensor([ True,  True, False,  True])  :  tensor([1., 1., 0., 1.])\n",
      "tensor([False,  True, False])  :  tensor([0., 1., 0.])\n",
      "Average loss: 0.3121504386203583\n",
      "Accuracy: 1.0\n",
      "\n",
      "tensor([False,  True, False, False])  :  tensor([0., 1., 0., 0.])\n",
      "tensor([False,  True,  True, False])  :  tensor([0., 1., 1., 0.])\n",
      "tensor([ True,  True, False,  True])  :  tensor([1., 1., 0., 1.])\n",
      "tensor([False,  True, False])  :  tensor([0., 1., 0.])\n",
      "Average loss: 0.3121498107852517\n",
      "Accuracy: 1.0\n",
      "\n",
      "tensor([False,  True, False, False])  :  tensor([0., 1., 0., 0.])\n",
      "tensor([False,  True,  True, False])  :  tensor([0., 1., 1., 0.])\n",
      "tensor([ True,  True, False,  True])  :  tensor([1., 1., 0., 1.])\n",
      "tensor([False,  True, False])  :  tensor([0., 1., 0.])\n",
      "Average loss: 0.3121495326306672\n",
      "Accuracy: 1.0\n",
      "\n",
      "tensor([False,  True, False, False])  :  tensor([0., 1., 0., 0.])\n",
      "tensor([False,  True,  True, False])  :  tensor([0., 1., 1., 0.])\n",
      "tensor([ True,  True, False,  True])  :  tensor([1., 1., 0., 1.])\n",
      "tensor([False,  True, False])  :  tensor([0., 1., 0.])\n",
      "Average loss: 0.31214851537624405\n",
      "Accuracy: 1.0\n",
      "\n",
      "tensor([False,  True, False, False])  :  tensor([0., 1., 0., 0.])\n",
      "tensor([False,  True,  True, False])  :  tensor([0., 1., 1., 0.])\n",
      "tensor([ True,  True, False,  True])  :  tensor([1., 1., 0., 1.])\n",
      "tensor([False,  True, False])  :  tensor([0., 1., 0.])\n",
      "Average loss: 0.31215163865538215\n",
      "Accuracy: 1.0\n",
      "\n",
      "tensor([False,  True, False, False])  :  tensor([0., 1., 0., 0.])\n"
     ]
    },
    {
     "name": "stderr",
     "output_type": "stream",
     "text": [
      " 94%|██████████████████████████████████████████████████████████████████████████▊     | 187/200 [00:06<00:00, 30.02it/s]"
     ]
    },
    {
     "name": "stdout",
     "output_type": "stream",
     "text": [
      "tensor([False,  True,  True, False])  :  tensor([0., 1., 1., 0.])\n",
      "tensor([ True,  True, False,  True])  :  tensor([1., 1., 0., 1.])\n",
      "tensor([False,  True, False])  :  tensor([0., 1., 0.])\n",
      "Average loss: 0.31215663749910616\n",
      "Accuracy: 1.0\n",
      "\n",
      "tensor([False,  True, False, False])  :  tensor([0., 1., 0., 0.])\n",
      "tensor([False,  True,  True, False])  :  tensor([0., 1., 1., 0.])\n",
      "tensor([ True,  True, False,  True])  :  tensor([1., 1., 0., 1.])\n",
      "tensor([False,  True, False])  :  tensor([0., 1., 0.])\n",
      "Average loss: 0.3121602694106135\n",
      "Accuracy: 1.0\n",
      "\n",
      "tensor([False,  True, False, False])  :  tensor([0., 1., 0., 0.])\n",
      "tensor([False,  True,  True, False])  :  tensor([0., 1., 1., 0.])\n",
      "tensor([ True,  True, False,  True])  :  tensor([1., 1., 0., 1.])\n",
      "tensor([False,  True, False])  :  tensor([0., 1., 0.])\n",
      "Average loss: 0.312157924962105\n",
      "Accuracy: 1.0\n",
      "\n",
      "tensor([False,  True, False, False])  :  tensor([0., 1., 0., 0.])\n",
      "tensor([False,  True,  True, False])  :  tensor([0., 1., 1., 0.])\n",
      "tensor([ True,  True, False,  True])  :  tensor([1., 1., 0., 1.])\n",
      "tensor([False,  True, False])  :  tensor([0., 1., 0.])\n",
      "Average loss: 0.31215574740684054\n",
      "Accuracy: 1.0\n",
      "\n",
      "tensor([False,  True, False, False])  :  tensor([0., 1., 0., 0.])\n",
      "tensor([False,  True,  True, False])  :  tensor([0., 1., 1., 0.])\n",
      "tensor([ True,  True, False,  True])  :  tensor([1., 1., 0., 1.])\n",
      "tensor([False,  True, False])  :  tensor([0., 1., 0.])\n",
      "Average loss: 0.3121520837091604\n",
      "Accuracy: 1.0\n",
      "\n",
      "tensor([False,  True, False, False])  :  tensor([0., 1., 0., 0.])\n",
      "tensor([False,  True,  True, False])  :  tensor([0., 1., 1., 0.])\n",
      "tensor([ True,  True, False,  True])  :  tensor([1., 1., 0., 1.])\n",
      "tensor([False,  True, False])  :  tensor([0., 1., 0.])\n",
      "Average loss: 0.3121504227268171\n",
      "Accuracy: 1.0\n",
      "\n",
      "tensor([False,  True, False, False])  :  tensor([0., 1., 0., 0.])\n",
      "tensor([False,  True,  True, False])  :  tensor([0., 1., 1., 0.])\n",
      "tensor([ True,  True, False,  True])  :  tensor([1., 1., 0., 1.])\n",
      "tensor([False,  True, False])  :  tensor([0., 1., 0.])\n",
      "Average loss: 0.31215029557078916\n",
      "Accuracy: 1.0\n",
      "\n"
     ]
    },
    {
     "name": "stderr",
     "output_type": "stream",
     "text": [
      " 98%|██████████████████████████████████████████████████████████████████████████████  | 195/200 [00:06<00:00, 30.28it/s]"
     ]
    },
    {
     "name": "stdout",
     "output_type": "stream",
     "text": [
      "tensor([False,  True, False, False])  :  tensor([0., 1., 0., 0.])\n",
      "tensor([False,  True,  True, False])  :  tensor([0., 1., 1., 0.])\n",
      "tensor([ True,  True, False,  True])  :  tensor([1., 1., 0., 1.])\n",
      "tensor([False,  True, False])  :  tensor([0., 1., 0.])\n",
      "Average loss: 0.3121501684146987\n",
      "Accuracy: 1.0\n",
      "\n",
      "tensor([False,  True, False, False])  :  tensor([0., 1., 0., 0.])\n",
      "tensor([False,  True,  True, False])  :  tensor([0., 1., 1., 0.])\n",
      "tensor([ True,  True, False,  True])  :  tensor([1., 1., 0., 1.])\n",
      "tensor([False,  True, False])  :  tensor([0., 1., 0.])\n",
      "Average loss: 0.3121509949326821\n",
      "Accuracy: 1.0\n",
      "\n",
      "tensor([False,  True, False, False])  :  tensor([0., 1., 0., 0.])\n",
      "tensor([False,  True,  True, False])  :  tensor([0., 1., 1., 0.])\n",
      "tensor([ True,  True, False,  True])  :  tensor([1., 1., 0., 1.])\n",
      "tensor([False,  True, False])  :  tensor([0., 1., 0.])\n",
      "Average loss: 0.31215036709739363\n",
      "Accuracy: 1.0\n",
      "\n",
      "tensor([False,  True, False, False])  :  tensor([0., 1., 0., 0.])\n",
      "tensor([False,  True,  True, False])  :  tensor([0., 1., 1., 0.])\n",
      "tensor([ True,  True, False,  True])  :  tensor([1., 1., 0., 1.])\n",
      "tensor([False,  True, False])  :  tensor([0., 1., 0.])\n",
      "Average loss: 0.3121498425766409\n",
      "Accuracy: 1.0\n",
      "\n",
      "tensor([False,  True, False, False])  :  tensor([0., 1., 0., 0.])\n",
      "tensor([False,  True,  True, False])  :  tensor([0., 1., 1., 0.])\n",
      "tensor([ True,  True, False,  True])  :  tensor([1., 1., 0., 1.])\n",
      "tensor([False,  True, False])  :  tensor([0., 1., 0.])\n",
      "Average loss: 0.3121492783198221\n",
      "Accuracy: 1.0\n",
      "\n",
      "tensor([False,  True, False, False])  :  tensor([0., 1., 0., 0.])\n",
      "tensor([False,  True,  True, False])  :  tensor([0., 1., 1., 0.])\n",
      "tensor([ True,  True, False,  True])  :  tensor([1., 1., 0., 1.])\n",
      "tensor([False,  True, False])  :  tensor([0., 1., 0.])\n",
      "Average loss: 0.31214836438157173\n",
      "Accuracy: 1.0\n",
      "\n"
     ]
    },
    {
     "name": "stderr",
     "output_type": "stream",
     "text": [
      "100%|████████████████████████████████████████████████████████████████████████████████| 200/200 [00:06<00:00, 30.01it/s]"
     ]
    },
    {
     "name": "stdout",
     "output_type": "stream",
     "text": [
      "tensor([False,  True, False, False])  :  tensor([0., 1., 0., 0.])\n",
      "tensor([False,  True,  True, False])  :  tensor([0., 1., 1., 0.])\n",
      "tensor([ True,  True, False,  True])  :  tensor([1., 1., 0., 1.])\n",
      "tensor([False,  True, False])  :  tensor([0., 1., 0.])\n",
      "Average loss: 0.312148801482482\n",
      "Accuracy: 1.0\n",
      "\n",
      "tensor([False,  True, False, False])  :  tensor([0., 1., 0., 0.])\n",
      "tensor([False,  True,  True, False])  :  tensor([0., 1., 1., 0.])\n",
      "tensor([ True,  True, False,  True])  :  tensor([1., 1., 0., 1.])\n",
      "tensor([False,  True, False])  :  tensor([0., 1., 0.])\n",
      "Average loss: 0.31215029557266877\n",
      "Accuracy: 1.0\n",
      "\n",
      "tensor([False,  True, False, False])  :  tensor([0., 1., 0., 0.])\n",
      "tensor([False,  True,  True, False])  :  tensor([0., 1., 1., 0.])\n",
      "tensor([ True,  True, False,  True])  :  tensor([1., 1., 0., 1.])\n",
      "tensor([False,  True, False])  :  tensor([0., 1., 0.])\n",
      "Average loss: 0.31214899221801223\n",
      "Accuracy: 1.0\n",
      "\n",
      "tensor([False,  True, False, False])  :  tensor([0., 1., 0., 0.])\n",
      "tensor([False,  True,  True, False])  :  tensor([0., 1., 1., 0.])\n",
      "tensor([ True,  True, False,  True])  :  tensor([1., 1., 0., 1.])\n",
      "tensor([False,  True, False])  :  tensor([0., 1., 0.])\n",
      "Average loss: 0.3121490557963\n",
      "Accuracy: 1.0\n",
      "\n",
      "1.0  :  1.0\n"
     ]
    },
    {
     "name": "stderr",
     "output_type": "stream",
     "text": [
      "\n"
     ]
    }
   ],
   "source": [
    "num_epochs = 200\n",
    "\n",
    "train_losses, train_accs = [], []\n",
    "val_losses, val_accs = [], []\n",
    "\n",
    "best_val_acc = float('-inf')\n",
    "last_val_acc = float('-inf')\n",
    "best_model_weights = model.state_dict()\n",
    "best_epoch = -1\n",
    "\n",
    "for epoch in tqdm(range(num_epochs)):\n",
    "    train_loss, train_acc = train_loop(train_loader, model, loss_fn, optimizer, device)\n",
    "    train_losses.append(train_loss)\n",
    "    train_accs.append(train_acc)\n",
    "    \n",
    "    val_loss, val_acc = test_loop(val_loader, model, loss_fn, device)\n",
    "    val_losses.append(val_loss)\n",
    "    val_accs.append(val_acc)\n",
    "    \n",
    "    if val_acc > best_val_acc and val_acc == last_val_acc:\n",
    "        #print(val_acc)\n",
    "        best_val_acc = val_acc\n",
    "        best_model_weights = model.state_dict()\n",
    "        torch.save(best_model_weights, './models/best_model.pth')\n",
    "        best_epoch = epoch\n",
    "    \n",
    "    last_val_acc = val_acc\n",
    "    \n",
    "print(val_acc, ' : ', best_val_acc)\n",
    "if best_val_acc < val_acc:\n",
    "    best_epoch = epoch\n",
    "    torch.save(model.state_dict(), './models/best_model.pth')"
   ]
  },
  {
   "cell_type": "code",
   "execution_count": 25,
   "id": "82a6c45c",
   "metadata": {},
   "outputs": [
    {
     "name": "stdout",
     "output_type": "stream",
     "text": [
      "4\n"
     ]
    }
   ],
   "source": [
    "print(best_epoch)"
   ]
  },
  {
   "cell_type": "code",
   "execution_count": 26,
   "id": "e510cece",
   "metadata": {},
   "outputs": [
    {
     "data": {
      "text/plain": [
       "<matplotlib.legend.Legend at 0x198cf2055d0>"
      ]
     },
     "execution_count": 26,
     "metadata": {},
     "output_type": "execute_result"
    },
    {
     "data": {
      "image/png": "[encoded data removed]",
      "text/plain": [
       "<Figure size 640x480 with 1 Axes>"
      ]
     },
     "metadata": {},
     "output_type": "display_data"
    }
   ],
   "source": [
    "plt.plot(range(num_epochs), train_accs, label='train')\n",
    "plt.plot(range(num_epochs), val_accs, color='red', label='val')\n",
    "plt.legend()"
   ]
  },
  {
   "cell_type": "code",
   "execution_count": 27,
   "id": "6cd58f82",
   "metadata": {},
   "outputs": [
    {
     "data": {
      "text/plain": [
       "[<matplotlib.lines.Line2D at 0x198cf5453d0>]"
      ]
     },
     "execution_count": 27,
     "metadata": {},
     "output_type": "execute_result"
    },
    {
     "data": {
      "image/png": "[encoded data removed]",
      "text/plain": [
       "<Figure size 640x480 with 1 Axes>"
      ]
     },
     "metadata": {},
     "output_type": "display_data"
    }
   ],
   "source": [
    "plt.plot(range(num_epochs), train_losses)\n",
    "plt.plot(range(num_epochs), val_losses, color='red')"
   ]
  },
  {
   "cell_type": "code",
   "execution_count": 28,
   "id": "8559a3d1",
   "metadata": {},
   "outputs": [
    {
     "data": {
      "text/plain": [
       "<All keys matched successfully>"
      ]
     },
     "execution_count": 28,
     "metadata": {},
     "output_type": "execute_result"
    }
   ],
   "source": [
    "model.load_state_dict(torch.load('./models/best_model.pth'))"
   ]
  },
  {
   "cell_type": "code",
   "execution_count": 29,
   "id": "b13e11b9",
   "metadata": {},
   "outputs": [
    {
     "name": "stdout",
     "output_type": "stream",
     "text": [
      "tensor([False, False,  True,  True])  :  tensor([0., 0., 1., 1.])\n",
      "tensor([False,  True, False, False])  :  tensor([0., 1., 0., 0.])\n",
      "tensor([ True,  True, False,  True])  :  tensor([1., 1., 0., 1.])\n",
      "tensor([ True, False,  True,  True])  :  tensor([1., 0., 1., 1.])\n",
      "tensor([False, False, False,  True])  :  tensor([0., 0., 0., 1.])\n",
      "tensor([False, False,  True,  True])  :  tensor([0., 0., 1., 0.])\n",
      "tensor([ True,  True, False,  True])  :  tensor([1., 1., 0., 1.])\n",
      "tensor([ True, False])  :  tensor([1., 0.])\n",
      "Average loss: 0.5299187918504079\n",
      "Accuracy: 0.9666666666666667\n",
      "\n"
     ]
    }
   ],
   "source": [
    "test_loss, test_acc = test_loop(test_loader, model, loss_fn, device)"
   ]
  },
  {
   "cell_type": "code",
   "execution_count": 30,
   "id": "83602874",
   "metadata": {},
   "outputs": [
    {
     "name": "stdout",
     "output_type": "stream",
     "text": [
      "[29, 70, 43, 45, 17, 65, 93, 27, 75, 57, 0, 95, 13, 77, 5]\n"
     ]
    }
   ],
   "source": [
    "print(val_idx)"
   ]
  },
  {
   "cell_type": "code",
   "execution_count": 31,
   "id": "bec1433f",
   "metadata": {},
   "outputs": [
    {
     "name": "stdout",
     "output_type": "stream",
     "text": [
      "[38, 28, 71, 98, 20, 56, 23, 36, 58, 74, 41, 90, 82, 18, 79, 62, 35, 47, 14, 89, 2, 22, 61, 7, 101, 80, 42, 68, 63, 10]\n"
     ]
    }
   ],
   "source": [
    "print(test_idx)"
   ]
  },
  {
   "cell_type": "code",
   "execution_count": 32,
   "id": "adb08359",
   "metadata": {},
   "outputs": [
    {
     "name": "stdout",
     "output_type": "stream",
     "text": [
      "tensor([False, False, False, False])  :  tensor([0., 0., 0., 0.])\n",
      "tensor([False, False, False,  True])  :  tensor([0., 0., 0., 1.])\n",
      "tensor([True, True, True, True])  :  tensor([1., 1., 1., 1.])\n",
      "tensor([True, True])  :  tensor([1., 1.])\n",
      "Average loss: 0.545828810759953\n",
      "Accuracy: 1.0\n",
      "\n"
     ]
    }
   ],
   "source": [
    "other_test_loss, other_test_acc = test_loop(other_test_loader, model, loss_fn, device)"
   ]
  },
  {
   "cell_type": "code",
   "execution_count": 33,
   "id": "d7d000f0",
   "metadata": {},
   "outputs": [
    {
     "data": {
      "text/plain": [
       "[48, 49, 50, 51, 52, 53, 54, 103, 104, 105, 106, 107, 108, 109]"
      ]
     },
     "execution_count": 33,
     "metadata": {},
     "output_type": "execute_result"
    }
   ],
   "source": [
    "other_test_indices"
   ]
  },
  {
   "cell_type": "code",
   "execution_count": null,
   "id": "1206cfd6",
   "metadata": {},
   "outputs": [],
   "source": []
  }
 ],
 "metadata": {
  "kernelspec": {
   "display_name": "Python 3 (ipykernel)",
   "language": "python",
   "name": "python3"
  },
  "language_info": {
   "codemirror_mode": {
    "name": "ipython",
    "version": 3
   },
   "file_extension": ".py",
   "mimetype": "text/x-python",
   "name": "python",
   "nbconvert_exporter": "python",
   "pygments_lexer": "ipython3",
   "version": "3.11.6"
  }
 },
 "nbformat": 4,
 "nbformat_minor": 5
}
