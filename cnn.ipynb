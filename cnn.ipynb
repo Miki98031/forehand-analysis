{
 "cells": [
  {
   "cell_type": "code",
   "execution_count": 1,
   "id": "4dee3fa3",
   "metadata": {},
   "outputs": [
    {
     "name": "stderr",
     "output_type": "stream",
     "text": [
      "C:\\Users\\mihai\\anaconda3\\envs\\gpu_env\\Lib\\site-packages\\transformers\\utils\\generic.py:441: UserWarning: torch.utils._pytree._register_pytree_node is deprecated. Please use torch.utils._pytree.register_pytree_node instead.\n",
      "  _torch_pytree._register_pytree_node(\n"
     ]
    }
   ],
   "source": [
    "import torch\n",
    "from torch import nn\n",
    "from torch.nn import CrossEntropyLoss, BCEWithLogitsLoss\n",
    "from torch.optim import Adam\n",
    "from torch.utils.data import DataLoader, Subset\n",
    "from torchvision import datasets, transforms \n",
    "from PIL import Image \n",
    "import os\n",
    "from tqdm import tqdm\n",
    "import random\n",
    "import numpy as np\n",
    "from matplotlib import pyplot as plt\n",
    "from sklearn.model_selection import train_test_split"
   ]
  },
  {
   "cell_type": "code",
   "execution_count": 2,
   "id": "f7b9189e",
   "metadata": {},
   "outputs": [],
   "source": [
    "videos_path = r'C:\\Users\\mihai\\Desktop\\forehand-analysis\\images_datasets\\images_dataset_cnn'"
   ]
  },
  {
   "cell_type": "code",
   "execution_count": 3,
   "id": "2081e2fa",
   "metadata": {},
   "outputs": [
    {
     "data": {
      "text/plain": [
       "Dataset ImageFolder\n",
       "    Number of datapoints: 110\n",
       "    Root location: C:\\Users\\mihai\\Desktop\\forehand-analysis\\images_datasets\\images_dataset_cnn\n",
       "    StandardTransform\n",
       "Transform: Compose(\n",
       "               Grayscale(num_output_channels=1)\n",
       "               Resize(size=(385, 422), interpolation=bilinear, max_size=None, antialias=True)\n",
       "               ToTensor()\n",
       "           )"
      ]
     },
     "execution_count": 3,
     "metadata": {},
     "output_type": "execute_result"
    }
   ],
   "source": [
    "transform = transforms.Compose([\n",
    "    transforms.Grayscale(num_output_channels=1),\n",
    "    transforms.Resize((385, 422)),\n",
    "    transforms.ToTensor()\n",
    "])\n",
    "\n",
    "dataset = datasets.ImageFolder(root=videos_path, transform=transform)\n",
    "dataset"
   ]
  },
  {
   "cell_type": "code",
   "execution_count": 4,
   "id": "b88e1e94",
   "metadata": {},
   "outputs": [],
   "source": [
    "# img, label = dataset[124]\n",
    "# img_height = img.shape[1]\n",
    "# img_width = img.shape[2]\n",
    "# print(img.shape)\n",
    "# plt.imshow(img.numpy().reshape(img_height, img_width), cmap='gray')"
   ]
  },
  {
   "cell_type": "code",
   "execution_count": 5,
   "id": "8d22d246",
   "metadata": {},
   "outputs": [],
   "source": [
    "class ConvNet(nn.Module):\n",
    "    def __init__(self):\n",
    "        super().__init__()\n",
    "        \n",
    "        self.layer1 = nn.Conv2d(1, 16, 3) \n",
    "        self.layer2 = nn.Conv2d(16, 32, 3)\n",
    "        self.pool = nn.MaxPool2d(2)\n",
    "        self.flatten = nn.Flatten(start_dim=1)\n",
    "        self.activation = nn.ReLU()\n",
    "        self.layer3 = nn.Linear(312832, 128)\n",
    "        self.fc = nn.Linear(128, 1)\n",
    "        #self.dropout = nn.Dropout(p=0.2)\n",
    "\n",
    "    def forward(self, x):\n",
    "        #print(x.shape)\n",
    "        x = self.activation(self.layer1(x))\n",
    "        #print(x.shape)\n",
    "        x = self.pool(x)\n",
    "        #print(x.shape)\n",
    "        x = self.activation(self.layer2(x))\n",
    "        #print(x.shape)\n",
    "        x = self.pool(x)\n",
    "        #print(x.shape)\n",
    "        x = self.flatten(x)\n",
    "        #print(x.shape)\n",
    "        x = self.activation(self.layer3(x))\n",
    "        #print(x.shape)\n",
    "        x = self.fc(x)\n",
    "        return x.squeeze(1)"
   ]
  },
  {
   "cell_type": "code",
   "execution_count": 6,
   "id": "6d822775",
   "metadata": {},
   "outputs": [],
   "source": [
    "model = ConvNet()"
   ]
  },
  {
   "cell_type": "code",
   "execution_count": 7,
   "id": "fad4171b",
   "metadata": {},
   "outputs": [],
   "source": [
    "#model(img.reshape(1,1,img_height,img_width)) # dodajemo batch_size=1"
   ]
  },
  {
   "cell_type": "code",
   "execution_count": 8,
   "id": "ab108f5c",
   "metadata": {},
   "outputs": [
    {
     "data": {
      "text/plain": [
       "ConvNet(\n",
       "  (layer1): Conv2d(1, 16, kernel_size=(3, 3), stride=(1, 1))\n",
       "  (layer2): Conv2d(16, 32, kernel_size=(3, 3), stride=(1, 1))\n",
       "  (pool): MaxPool2d(kernel_size=2, stride=2, padding=0, dilation=1, ceil_mode=False)\n",
       "  (flatten): Flatten(start_dim=1, end_dim=-1)\n",
       "  (activation): ReLU()\n",
       "  (layer3): Linear(in_features=312832, out_features=128, bias=True)\n",
       "  (fc): Linear(in_features=128, out_features=1, bias=True)\n",
       ")"
      ]
     },
     "execution_count": 8,
     "metadata": {},
     "output_type": "execute_result"
    }
   ],
   "source": [
    "loss_fn = BCEWithLogitsLoss()\n",
    "optimizer = Adam(model.parameters())\n",
    "device = 'gpu' if torch.cuda.is_available() else 'cpu'\n",
    "model.to(device)"
   ]
  },
  {
   "cell_type": "code",
   "execution_count": 9,
   "id": "624407e9-2d10-41ad-a5de-fba8dd31e85d",
   "metadata": {},
   "outputs": [],
   "source": [
    "#other_test_indices = list(range(43, 53)) + list(range(101, 108)) + list(range(156, 163))"
   ]
  },
  {
   "cell_type": "code",
   "execution_count": 10,
   "id": "12731513",
   "metadata": {},
   "outputs": [],
   "source": [
    "other_test_indices = list(range(48, 55)) + list(range(103, 110))\n",
    "dataset_indices = [x for x in range(len(dataset)) if x not in other_test_indices]\n",
    "dataset_labels = [dataset.targets[i] for i in dataset_indices]\n",
    "\n",
    "#dataset_indices"
   ]
  },
  {
   "cell_type": "code",
   "execution_count": 11,
   "id": "f8d081e5",
   "metadata": {},
   "outputs": [],
   "source": [
    "random_state=42"
   ]
  },
  {
   "cell_type": "code",
   "execution_count": 12,
   "id": "aa4f427c",
   "metadata": {},
   "outputs": [
    {
     "data": {
      "text/plain": [
       "30"
      ]
     },
     "execution_count": 12,
     "metadata": {},
     "output_type": "execute_result"
    }
   ],
   "source": [
    "whole_train_idx, test_idx = train_test_split(dataset_indices, test_size=30, stratify=dataset_labels, random_state=random_state)\n",
    "test_dataset = Subset(dataset, test_idx)\n",
    "len(test_dataset)"
   ]
  },
  {
   "cell_type": "code",
   "execution_count": 13,
   "id": "29a81922",
   "metadata": {},
   "outputs": [
    {
     "data": {
      "text/plain": [
       "15"
      ]
     },
     "execution_count": 13,
     "metadata": {},
     "output_type": "execute_result"
    }
   ],
   "source": [
    "whole_train_dataset = Subset(dataset, whole_train_idx)\n",
    "wtd_labels = [dataset.targets[i] for i in whole_train_idx]\n",
    "#print(wtd_labels)\n",
    "train_idx, val_idx = train_test_split(whole_train_idx, test_size=15, stratify=wtd_labels, random_state=random_state)\n",
    "val_dataset = Subset(dataset, val_idx)\n",
    "len(val_dataset)"
   ]
  },
  {
   "cell_type": "code",
   "execution_count": 14,
   "id": "662d9294",
   "metadata": {},
   "outputs": [
    {
     "data": {
      "text/plain": [
       "51"
      ]
     },
     "execution_count": 14,
     "metadata": {},
     "output_type": "execute_result"
    }
   ],
   "source": [
    "train_dataset = Subset(dataset, train_idx)\n",
    "len(train_dataset)"
   ]
  },
  {
   "cell_type": "code",
   "execution_count": 15,
   "id": "43bd43e4",
   "metadata": {},
   "outputs": [
    {
     "data": {
      "text/plain": [
       "14"
      ]
     },
     "execution_count": 15,
     "metadata": {},
     "output_type": "execute_result"
    }
   ],
   "source": [
    "other_test_dataset = Subset(dataset, other_test_indices)\n",
    "len(other_test_dataset)"
   ]
  },
  {
   "cell_type": "code",
   "execution_count": 16,
   "id": "e008a0e7",
   "metadata": {},
   "outputs": [],
   "source": [
    "train_loader = DataLoader(train_dataset, batch_size=4, shuffle=True)\n",
    "val_loader = DataLoader(val_dataset, batch_size=4)\n",
    "test_loader = DataLoader(test_dataset, batch_size=4)\n",
    "other_test_loader = DataLoader(other_test_dataset, batch_size=4)"
   ]
  },
  {
   "cell_type": "code",
   "execution_count": 17,
   "id": "8cf94a97",
   "metadata": {},
   "outputs": [],
   "source": [
    "def train_loop(dataloader, model, loss_fn, optimizer, device):\n",
    "    model.train()\n",
    "    \n",
    "    total_loss = 0\n",
    "    num_same = 0\n",
    "    \n",
    "    for X, y in dataloader:\n",
    "        X, y = X.to(device), y.to(device, dtype=torch.float32) \n",
    "        \n",
    "        #forward pass\n",
    "        outputs = model(X)\n",
    "        loss = loss_fn(outputs, y)\n",
    "        total_loss += loss.item()\n",
    "        \n",
    "        if len(outputs.shape) == 1: # accuracy - dve klase\n",
    "            preds = outputs > 0\n",
    "            num_same += sum(preds == y).item()\n",
    "                \n",
    "        else: # accuracy - vise klasa\n",
    "            _, indices = torch.max(outputs, 1)\n",
    "            num_same += sum(indices == y).item()\n",
    "        \n",
    "        #backward pass\n",
    "        loss.backward()\n",
    "        optimizer.step()\n",
    "        optimizer.zero_grad()\n",
    "    \n",
    "    avg_loss = total_loss / len(dataloader.dataset)\n",
    "    acc = num_same / len(dataloader.dataset)\n",
    "    return avg_loss, acc"
   ]
  },
  {
   "cell_type": "code",
   "execution_count": 18,
   "id": "a40c9f02",
   "metadata": {},
   "outputs": [],
   "source": [
    "def test_loop(dataloader, model, loss_fn, device):\n",
    "    model.eval()\n",
    "    \n",
    "    with torch.no_grad():\n",
    "        total_loss = 0\n",
    "        num_same = 0\n",
    "        \n",
    "        for X, y in dataloader:\n",
    "            X, y = X.to(device), y.to(device, dtype=torch.float32) \n",
    "            \n",
    "            outputs = model(X)\n",
    "            loss = loss_fn(outputs, y)\n",
    "            total_loss += loss.item()\n",
    "\n",
    "            if len(outputs.shape) == 1: # accuracy - dve klase\n",
    "                preds = outputs > 0\n",
    "                print(outputs)\n",
    "                print(preds, \" : \", y)\n",
    "                num_same += sum(preds == y).item()\n",
    "                \n",
    "            else: # accuracy - vise klasa\n",
    "                _, indices = torch.max(outputs, 1)\n",
    "                print(outputs)\n",
    "                print(indices, \" : \", y)\n",
    "                num_same += sum(indices == y).item()\n",
    "        \n",
    "        avg_loss = total_loss / len(dataloader.dataset)\n",
    "        acc = num_same / len(dataloader.dataset)\n",
    "        print(f'Average loss: {avg_loss}')\n",
    "        print(f'Accuracy: {acc}')\n",
    "        print()\n",
    "        \n",
    "        return avg_loss, acc"
   ]
  },
  {
   "cell_type": "code",
   "execution_count": 19,
   "id": "df5e9c6e",
   "metadata": {},
   "outputs": [
    {
     "name": "stderr",
     "output_type": "stream",
     "text": [
      "  5%|████▏                                                                              | 1/20 [00:05<01:47,  5.64s/it]"
     ]
    },
    {
     "name": "stdout",
     "output_type": "stream",
     "text": [
      "tensor([3.0747, 3.1406, 3.0867, 3.0917])\n",
      "tensor([True, True, True, True])  :  tensor([0., 1., 0., 0.])\n",
      "tensor([3.1239, 3.1241, 3.0913, 3.0872])\n",
      "tensor([True, True, True, True])  :  tensor([0., 1., 1., 0.])\n",
      "tensor([3.1169, 3.1189, 3.0976, 3.1341])\n",
      "tensor([True, True, True, True])  :  tensor([1., 1., 0., 1.])\n",
      "tensor([3.0956, 3.1185, 3.0958])\n",
      "tensor([True, True, True])  :  tensor([0., 1., 0.])\n",
      "Average loss: 0.45862733125686644\n",
      "Accuracy: 0.4666666666666667\n",
      "\n",
      "tensor([0.0352, 0.4615, 0.1094, 0.1508])\n",
      "tensor([True, True, True, True])  :  tensor([0., 1., 0., 0.])\n",
      "tensor([0.3955, 0.2630, 0.2277, 0.1973])\n",
      "tensor([True, True, True, True])  :  tensor([0., 1., 1., 0.])\n",
      "tensor([0.3002, 0.3253, 0.1814, 0.3509])\n",
      "tensor([True, True, True, True])  :  tensor([1., 1., 0., 1.])\n",
      "tensor([0.1006, 0.3827, 0.2325])\n",
      "tensor([True, True, True])  :  tensor([0., 1., 0.])\n",
      "Average loss: 0.17961227496465046\n",
      "Accuracy: 0.4666666666666667\n",
      "\n"
     ]
    },
    {
     "name": "stderr",
     "output_type": "stream",
     "text": [
      " 15%|████████████▍                                                                      | 3/20 [00:15<01:29,  5.27s/it]"
     ]
    },
    {
     "name": "stdout",
     "output_type": "stream",
     "text": [
      "tensor([-1.0235,  0.4790, -0.8446, -0.6747])\n",
      "tensor([False,  True, False, False])  :  tensor([0., 1., 0., 0.])\n",
      "tensor([ 0.1263, -0.2795, -0.4567, -0.5384])\n",
      "tensor([ True, False, False, False])  :  tensor([0., 1., 1., 0.])\n",
      "tensor([-0.1645, -0.0546, -0.6063,  0.0082])\n",
      "tensor([False, False, False,  True])  :  tensor([1., 1., 0., 1.])\n",
      "tensor([-0.8311,  0.0576, -0.3760])\n",
      "tensor([False,  True, False])  :  tensor([0., 1., 0.])\n",
      "Average loss: 0.1542574922243754\n",
      "Accuracy: 0.6666666666666666\n",
      "\n",
      "tensor([-0.4056,  3.7889,  0.2714,  0.9140])\n",
      "tensor([False,  True,  True,  True])  :  tensor([0., 1., 0., 0.])\n",
      "tensor([3.2467, 2.3070, 1.7174, 1.3611])\n",
      "tensor([True, True, True, True])  :  tensor([0., 1., 1., 0.])\n",
      "tensor([2.6546, 2.7740, 1.0785, 2.8085])\n",
      "tensor([True, True, True, True])  :  tensor([1., 1., 0., 1.])\n",
      "tensor([0.2804, 3.1884, 1.8051])\n",
      "tensor([True, True, True])  :  tensor([0., 1., 0.])\n",
      "Average loss: 0.2183790405591329\n",
      "Accuracy: 0.5333333333333333\n",
      "\n"
     ]
    },
    {
     "name": "stderr",
     "output_type": "stream",
     "text": [
      " 25%|████████████████████▊                                                              | 5/20 [00:25<01:14,  5.00s/it]"
     ]
    },
    {
     "name": "stdout",
     "output_type": "stream",
     "text": [
      "tensor([-4.5695,  3.9952, -3.6750, -2.0354])\n",
      "tensor([False,  True, False, False])  :  tensor([0., 1., 0., 0.])\n",
      "tensor([ 1.7813, -0.6312, -0.4697, -0.8944])\n",
      "tensor([ True, False, False, False])  :  tensor([0., 1., 1., 0.])\n",
      "tensor([ 1.3491,  0.7678, -2.3228,  1.0080])\n",
      "tensor([ True,  True, False,  True])  :  tensor([1., 1., 0., 1.])\n",
      "tensor([-3.8298,  2.6626, -0.0685])\n",
      "tensor([False,  True, False])  :  tensor([0., 1., 0.])\n",
      "Average loss: 0.10805963029464086\n",
      "Accuracy: 0.8\n",
      "\n",
      "tensor([-7.3487,  6.1421, -5.8171, -3.6224])\n",
      "tensor([False,  True, False, False])  :  tensor([0., 1., 0., 0.])\n",
      "tensor([ 2.2530, -1.1054, -0.9505, -1.4445])\n",
      "tensor([ True, False, False, False])  :  tensor([0., 1., 1., 0.])\n",
      "tensor([ 1.7778,  0.6170, -3.8120,  1.1013])\n",
      "tensor([ True,  True, False,  True])  :  tensor([1., 1., 0., 1.])\n",
      "tensor([-6.3510,  3.9057, -0.8275])\n",
      "tensor([False,  True, False])  :  tensor([0., 1., 0.])\n",
      "Average loss: 0.11124131803711255\n",
      "Accuracy: 0.8\n",
      "\n"
     ]
    },
    {
     "name": "stderr",
     "output_type": "stream",
     "text": [
      " 30%|████████████████████████▉                                                          | 6/20 [00:30<01:09,  4.99s/it]"
     ]
    },
    {
     "name": "stdout",
     "output_type": "stream",
     "text": [
      "tensor([-8.5632,  8.2225, -6.6278, -3.9283])\n",
      "tensor([False,  True, False, False])  :  tensor([0., 1., 0., 0.])\n",
      "tensor([ 2.3405, -1.3121, -0.6445, -1.2189])\n",
      "tensor([ True, False, False, False])  :  tensor([0., 1., 1., 0.])\n",
      "tensor([ 2.2892,  0.8600, -3.9592,  1.3530])\n",
      "tensor([ True,  True, False,  True])  :  tensor([1., 1., 0., 1.])\n",
      "tensor([-7.5396,  4.9756, -0.9831])\n",
      "tensor([False,  True, False])  :  tensor([0., 1., 0.])\n",
      "Average loss: 0.10769138683875402\n",
      "Accuracy: 0.8\n",
      "\n"
     ]
    },
    {
     "name": "stderr",
     "output_type": "stream",
     "text": [
      " 40%|█████████████████████████████████▏                                                 | 8/20 [00:42<01:06,  5.52s/it]"
     ]
    },
    {
     "name": "stdout",
     "output_type": "stream",
     "text": [
      "tensor([-8.5387, 10.3352, -6.2917, -3.4522])\n",
      "tensor([False,  True, False, False])  :  tensor([0., 1., 0., 0.])\n",
      "tensor([ 3.7280,  0.0208,  0.4209, -0.3462])\n",
      "tensor([ True,  True,  True, False])  :  tensor([0., 1., 1., 0.])\n",
      "tensor([ 3.6583,  2.1129, -3.0831,  2.5748])\n",
      "tensor([ True,  True, False,  True])  :  tensor([1., 1., 0., 1.])\n",
      "tensor([-7.1559,  6.5447, -0.3483])\n",
      "tensor([False,  True, False])  :  tensor([0., 1., 0.])\n",
      "Average loss: 0.10800594861308734\n",
      "Accuracy: 0.9333333333333333\n",
      "\n",
      "tensor([-11.7252,   9.0626,  -9.0717,  -6.3181])\n",
      "tensor([False,  True, False, False])  :  tensor([0., 1., 0., 0.])\n",
      "tensor([ 1.9005, -2.1676, -1.8381, -2.9366])\n",
      "tensor([ True, False, False, False])  :  tensor([0., 1., 1., 0.])\n",
      "tensor([ 1.6189,  0.0911, -5.4928,  0.5671])\n",
      "tensor([ True,  True, False,  True])  :  tensor([1., 1., 0., 1.])\n"
     ]
    },
    {
     "name": "stderr",
     "output_type": "stream",
     "text": [
      " 45%|█████████████████████████████████████▎                                             | 9/20 [00:48<01:01,  5.58s/it]"
     ]
    },
    {
     "name": "stdout",
     "output_type": "stream",
     "text": [
      "tensor([-10.0024,   4.8980,  -3.0990])\n",
      "tensor([False,  True, False])  :  tensor([0., 1., 0.])\n",
      "Average loss: 0.128446055300689\n",
      "Accuracy: 0.8\n",
      "\n",
      "tensor([-11.2600,   9.3993,  -8.4675,  -5.7542])\n",
      "tensor([False,  True, False, False])  :  tensor([0., 1., 0., 0.])\n",
      "tensor([ 2.7838, -1.3860, -1.0412, -2.4033])\n",
      "tensor([ True, False, False, False])  :  tensor([0., 1., 1., 0.])\n",
      "tensor([ 2.3818,  0.8666, -4.8062,  1.3564])\n",
      "tensor([ True,  True, False,  True])  :  tensor([1., 1., 0., 1.])\n"
     ]
    },
    {
     "name": "stderr",
     "output_type": "stream",
     "text": [
      " 50%|█████████████████████████████████████████                                         | 10/20 [00:54<00:56,  5.66s/it]"
     ]
    },
    {
     "name": "stdout",
     "output_type": "stream",
     "text": [
      "tensor([-9.3703,  5.7295, -2.6433])\n",
      "tensor([False,  True, False])  :  tensor([0., 1., 0.])\n",
      "Average loss: 0.11098580223042517\n",
      "Accuracy: 0.8\n",
      "\n",
      "tensor([-10.8402,   9.8315,  -8.0141,  -5.2889])\n",
      "tensor([False,  True, False, False])  :  tensor([0., 1., 0., 0.])\n",
      "tensor([ 3.4149, -0.8157, -0.4141, -1.9675])\n",
      "tensor([ True, False, False, False])  :  tensor([0., 1., 1., 0.])\n",
      "tensor([ 3.0596,  1.4394, -4.3051,  1.9285])\n",
      "tensor([ True,  True, False,  True])  :  tensor([1., 1., 0., 1.])\n"
     ]
    },
    {
     "name": "stderr",
     "output_type": "stream",
     "text": [
      " 55%|█████████████████████████████████████████████                                     | 11/20 [00:59<00:51,  5.68s/it]"
     ]
    },
    {
     "name": "stdout",
     "output_type": "stream",
     "text": [
      "tensor([-8.8958,  6.3531, -2.2306])\n",
      "tensor([False,  True, False])  :  tensor([0., 1., 0.])\n",
      "Average loss: 0.10388812938084205\n",
      "Accuracy: 0.8\n",
      "\n",
      "tensor([-11.0725,  10.0527,  -8.1757,  -5.4287])\n",
      "tensor([False,  True, False, False])  :  tensor([0., 1., 0., 0.])\n",
      "tensor([ 3.5894, -0.8076, -0.3472, -2.0527])\n",
      "tensor([ True, False, False, False])  :  tensor([0., 1., 1., 0.])\n",
      "tensor([ 3.2407,  1.5001, -4.3905,  2.0180])\n",
      "tensor([ True,  True, False,  True])  :  tensor([1., 1., 0., 1.])\n"
     ]
    },
    {
     "name": "stderr",
     "output_type": "stream",
     "text": [
      " 60%|█████████████████████████████████████████████████▏                                | 12/20 [01:06<00:46,  5.86s/it]"
     ]
    },
    {
     "name": "stdout",
     "output_type": "stream",
     "text": [
      "tensor([-9.0830,  6.4991, -2.2396])\n",
      "tensor([False,  True, False])  :  tensor([0., 1., 0.])\n",
      "Average loss: 0.1052372304800277\n",
      "Accuracy: 0.8\n",
      "\n",
      "tensor([-11.4732,  10.2855,  -8.5029,  -5.7341])\n",
      "tensor([False,  True, False, False])  :  tensor([0., 1., 0., 0.])\n",
      "tensor([ 3.5956, -0.9742, -0.4815, -2.2804])\n",
      "tensor([ True, False, False, False])  :  tensor([0., 1., 1., 0.])\n",
      "tensor([ 3.2249,  1.4069, -4.6206,  1.9515])\n",
      "tensor([ True,  True, False,  True])  :  tensor([1., 1., 0., 1.])\n"
     ]
    },
    {
     "name": "stderr",
     "output_type": "stream",
     "text": [
      " 65%|█████████████████████████████████████████████████████▎                            | 13/20 [01:11<00:40,  5.83s/it]"
     ]
    },
    {
     "name": "stdout",
     "output_type": "stream",
     "text": [
      "tensor([-9.4398,  6.4928, -2.4519])\n",
      "tensor([False,  True, False])  :  tensor([0., 1., 0.])\n",
      "Average loss: 0.10822450234166657\n",
      "Accuracy: 0.8\n",
      "\n",
      "tensor([-11.8413,  10.6631,  -8.8164,  -6.0302])\n",
      "tensor([False,  True, False, False])  :  tensor([0., 1., 0., 0.])\n",
      "tensor([ 3.5840, -1.1298, -0.5967, -2.4980])\n",
      "tensor([ True, False, False, False])  :  tensor([0., 1., 1., 0.])\n",
      "tensor([ 3.2301,  1.3075, -4.8319,  1.8850])\n",
      "tensor([ True,  True, False,  True])  :  tensor([1., 1., 0., 1.])\n"
     ]
    },
    {
     "name": "stderr",
     "output_type": "stream",
     "text": [
      " 70%|█████████████████████████████████████████████████████████▍                        | 14/20 [01:17<00:35,  5.85s/it]"
     ]
    },
    {
     "name": "stdout",
     "output_type": "stream",
     "text": [
      "tensor([-9.7814,  6.5212, -2.6530])\n",
      "tensor([False,  True, False])  :  tensor([0., 1., 0.])\n",
      "Average loss: 0.11097297303300972\n",
      "Accuracy: 0.8\n",
      "\n",
      "tensor([-12.1028,  10.7614,  -9.0350,  -6.2445])\n",
      "tensor([False,  True, False, False])  :  tensor([0., 1., 0., 0.])\n",
      "tensor([ 3.5676, -1.2444, -0.6861, -2.6607])\n",
      "tensor([ True, False, False, False])  :  tensor([0., 1., 1., 0.])\n",
      "tensor([ 3.2329,  1.2202, -4.9754,  1.8303])\n",
      "tensor([ True,  True, False,  True])  :  tensor([1., 1., 0., 1.])\n"
     ]
    },
    {
     "name": "stderr",
     "output_type": "stream",
     "text": [
      " 75%|█████████████████████████████████████████████████████████████▌                    | 15/20 [01:23<00:29,  5.93s/it]"
     ]
    },
    {
     "name": "stdout",
     "output_type": "stream",
     "text": [
      "tensor([-10.0298,   6.5350,  -2.7059])\n",
      "tensor([False,  True, False])  :  tensor([0., 1., 0.])\n",
      "Average loss: 0.11329561158393821\n",
      "Accuracy: 0.8\n",
      "\n",
      "tensor([-12.4511,  10.6418,  -9.3625,  -6.5728])\n",
      "tensor([False,  True, False, False])  :  tensor([0., 1., 0., 0.])\n",
      "tensor([ 3.3778, -1.4904, -0.9174, -2.9628])\n",
      "tensor([ True, False, False, False])  :  tensor([0., 1., 1., 0.])\n",
      "tensor([ 3.0588,  0.9667, -5.2543,  1.6240])\n",
      "tensor([ True,  True, False,  True])  :  tensor([1., 1., 0., 1.])\n"
     ]
    },
    {
     "name": "stderr",
     "output_type": "stream",
     "text": [
      " 80%|█████████████████████████████████████████████████████████████████▌                | 16/20 [01:29<00:23,  5.85s/it]"
     ]
    },
    {
     "name": "stdout",
     "output_type": "stream",
     "text": [
      "tensor([-10.3773,   6.3653,  -2.9602])\n",
      "tensor([False,  True, False])  :  tensor([0., 1., 0.])\n",
      "Average loss: 0.1172226657702898\n",
      "Accuracy: 0.8\n",
      "\n",
      "tensor([-12.4993,  10.7957,  -9.3835,  -6.5934])\n",
      "tensor([False,  True, False, False])  :  tensor([0., 1., 0., 0.])\n",
      "tensor([ 3.4910, -1.4368, -0.8411, -2.9559])\n",
      "tensor([ True, False, False, False])  :  tensor([0., 1., 1., 0.])\n",
      "tensor([ 3.1791,  1.0218, -5.2225,  1.7090])\n",
      "tensor([ True,  True, False,  True])  :  tensor([1., 1., 0., 1.])\n"
     ]
    },
    {
     "name": "stderr",
     "output_type": "stream",
     "text": [
      " 85%|█████████████████████████████████████████████████████████████████████▋            | 17/20 [01:35<00:17,  5.78s/it]"
     ]
    },
    {
     "name": "stdout",
     "output_type": "stream",
     "text": [
      "tensor([-10.4174,   6.4958,  -2.9672])\n",
      "tensor([False,  True, False])  :  tensor([0., 1., 0.])\n",
      "Average loss: 0.11686465897946618\n",
      "Accuracy: 0.8\n",
      "\n",
      "tensor([-12.4299,  11.0840,  -9.2719,  -6.4918])\n",
      "tensor([False,  True, False, False])  :  tensor([0., 1., 0., 0.])\n",
      "tensor([ 3.7525, -1.2487, -0.6217, -2.8253])\n",
      "tensor([ True, False, False, False])  :  tensor([0., 1., 1., 0.])\n",
      "tensor([ 3.4521,  1.2292, -5.0668,  1.9265])\n",
      "tensor([ True,  True, False,  True])  :  tensor([1., 1., 0., 1.])\n"
     ]
    },
    {
     "name": "stderr",
     "output_type": "stream",
     "text": [
      " 90%|█████████████████████████████████████████████████████████████████████████▊        | 18/20 [01:41<00:11,  5.99s/it]"
     ]
    },
    {
     "name": "stdout",
     "output_type": "stream",
     "text": [
      "tensor([-10.3198,   6.7663,  -2.8527])\n",
      "tensor([False,  True, False])  :  tensor([0., 1., 0.])\n",
      "Average loss: 0.11489776460609089\n",
      "Accuracy: 0.8\n",
      "\n",
      "tensor([-12.8427,  10.8867,  -9.6603,  -6.8830])\n",
      "tensor([False,  True, False, False])  :  tensor([0., 1., 0., 0.])\n",
      "tensor([ 3.4818, -1.5675, -0.9158, -3.1889])\n",
      "tensor([ True, False, False, False])  :  tensor([0., 1., 1., 0.])\n",
      "tensor([ 3.1959,  0.8877, -5.4043,  1.6509])\n",
      "tensor([ True,  True, False,  True])  :  tensor([1., 1., 0., 1.])\n"
     ]
    },
    {
     "name": "stderr",
     "output_type": "stream",
     "text": [
      " 95%|█████████████████████████████████████████████████████████████████████████████▉    | 19/20 [01:47<00:05,  5.95s/it]"
     ]
    },
    {
     "name": "stdout",
     "output_type": "stream",
     "text": [
      "tensor([-10.7368,   6.5182,  -3.2121])\n",
      "tensor([False,  True, False])  :  tensor([0., 1., 0.])\n",
      "Average loss: 0.11970641552082574\n",
      "Accuracy: 0.8\n",
      "\n",
      "tensor([-12.6588,  11.2472,  -9.4537,  -6.6597])\n",
      "tensor([False,  True, False, False])  :  tensor([0., 1., 0., 0.])\n",
      "tensor([ 3.8439, -1.2737, -0.5826, -2.9589])\n",
      "tensor([ True, False, False, False])  :  tensor([0., 1., 1., 0.])\n",
      "tensor([ 3.5578,  1.1629, -5.1583,  1.9625])\n",
      "tensor([ True,  True, False,  True])  :  tensor([1., 1., 0., 1.])\n"
     ]
    },
    {
     "name": "stderr",
     "output_type": "stream",
     "text": [
      "100%|██████████████████████████████████████████████████████████████████████████████████| 20/20 [01:53<00:00,  5.66s/it]"
     ]
    },
    {
     "name": "stdout",
     "output_type": "stream",
     "text": [
      "tensor([-10.5531,   6.8750,  -2.9305])\n",
      "tensor([False,  True, False])  :  tensor([0., 1., 0.])\n",
      "Average loss: 0.11619634588132613\n",
      "Accuracy: 0.8\n",
      "\n",
      "0.8  :  0.8\n"
     ]
    },
    {
     "name": "stderr",
     "output_type": "stream",
     "text": [
      "\n"
     ]
    }
   ],
   "source": [
    "num_epochs = 20\n",
    "train_losses, train_accs = [], []\n",
    "val_losses, val_accs = [], []\n",
    "\n",
    "best_val_acc = float('-inf')\n",
    "last_val_acc = float('-inf')\n",
    "best_model_weights = model.state_dict()\n",
    "best_epoch = -1\n",
    "\n",
    "for epoch in tqdm(range(num_epochs)):\n",
    "    train_loss, train_acc = train_loop(train_loader, model, loss_fn, optimizer, device)\n",
    "    train_losses.append(train_loss)\n",
    "    train_accs.append(train_acc)\n",
    "    \n",
    "    val_loss, val_acc = test_loop(val_loader, model, loss_fn, device)\n",
    "    val_losses.append(val_loss)\n",
    "    val_accs.append(val_acc)\n",
    "    \n",
    "    if val_acc > best_val_acc and val_acc == last_val_acc:\n",
    "        #print(val_acc)\n",
    "        best_val_acc = val_acc\n",
    "        best_model_weights = model.state_dict()\n",
    "        torch.save(best_model_weights, './models/best_model_cnn.pth')\n",
    "        best_epoch = epoch\n",
    "\n",
    "    last_val_acc = val_acc\n",
    "    \n",
    "print(val_acc, ' : ', best_val_acc)\n",
    "if best_val_acc < val_acc:\n",
    "    best_epoch = epoch\n",
    "    torch.save(model.state_dict(), './models/best_model_cnn.pth')"
   ]
  },
  {
   "cell_type": "code",
   "execution_count": null,
   "id": "5e9f34bc",
   "metadata": {},
   "outputs": [],
   "source": []
  },
  {
   "cell_type": "markdown",
   "id": "ec767770",
   "metadata": {},
   "source": [
    "### Images dataset"
   ]
  },
  {
   "cell_type": "code",
   "execution_count": 20,
   "id": "0d105f0d-e0d1-458e-811e-68934efe200a",
   "metadata": {},
   "outputs": [
    {
     "name": "stdout",
     "output_type": "stream",
     "text": [
      "5\n"
     ]
    }
   ],
   "source": [
    "print(best_epoch)"
   ]
  },
  {
   "cell_type": "code",
   "execution_count": 21,
   "id": "0c882285",
   "metadata": {},
   "outputs": [
    {
     "data": {
      "text/plain": [
       "[<matplotlib.lines.Line2D at 0x1415f02c790>]"
      ]
     },
     "execution_count": 21,
     "metadata": {},
     "output_type": "execute_result"
    },
    {
     "data": {
      "image/png": "[encoded data removed]",
      "text/plain": [
       "<Figure size 640x480 with 1 Axes>"
      ]
     },
     "metadata": {},
     "output_type": "display_data"
    }
   ],
   "source": [
    "plt.plot(range(num_epochs), train_losses)\n",
    "plt.plot(range(num_epochs), val_losses, color='red')"
   ]
  },
  {
   "cell_type": "code",
   "execution_count": 22,
   "id": "d512b398",
   "metadata": {},
   "outputs": [
    {
     "data": {
      "text/plain": [
       "<matplotlib.legend.Legend at 0x1415ef2b210>"
      ]
     },
     "execution_count": 22,
     "metadata": {},
     "output_type": "execute_result"
    },
    {
     "data": {
      "image/png": "[encoded data removed]",
      "text/plain": [
       "<Figure size 640x480 with 1 Axes>"
      ]
     },
     "metadata": {},
     "output_type": "display_data"
    }
   ],
   "source": [
    "plt.plot(range(num_epochs), train_accs, label='train')\n",
    "plt.plot(range(num_epochs), val_accs, color='red', label='val')\n",
    "plt.legend()"
   ]
  },
  {
   "cell_type": "code",
   "execution_count": 23,
   "id": "ff599832",
   "metadata": {},
   "outputs": [
    {
     "data": {
      "text/plain": [
       "<All keys matched successfully>"
      ]
     },
     "execution_count": 23,
     "metadata": {},
     "output_type": "execute_result"
    }
   ],
   "source": [
    "model.load_state_dict(torch.load('./models/best_model_cnn.pth'))"
   ]
  },
  {
   "cell_type": "code",
   "execution_count": 24,
   "id": "3239bbdc",
   "metadata": {
    "scrolled": true
   },
   "outputs": [
    {
     "name": "stdout",
     "output_type": "stream",
     "text": [
      "tensor([-6.4865, -5.2111,  5.4693,  3.6239])\n",
      "tensor([False, False,  True,  True])  :  tensor([0., 0., 1., 1.])\n",
      "tensor([-0.9682,  0.5036, -2.8225, -3.8657])\n",
      "tensor([False,  True, False, False])  :  tensor([0., 1., 0., 0.])\n",
      "tensor([-1.3510,  2.0369, -5.5649,  5.8857])\n",
      "tensor([False,  True, False,  True])  :  tensor([1., 1., 0., 1.])\n",
      "tensor([ 4.2197, -0.6072,  5.4419,  0.1704])\n",
      "tensor([ True, False,  True,  True])  :  tensor([1., 0., 1., 1.])\n",
      "tensor([-2.8109, -6.5312, -2.1669, -0.2291])\n",
      "tensor([False, False, False, False])  :  tensor([0., 0., 0., 1.])\n",
      "tensor([-6.8244, -3.5087, -0.6302, -7.5361])\n",
      "tensor([False, False, False, False])  :  tensor([0., 0., 1., 0.])\n",
      "tensor([ 3.2582,  4.1562, -5.7709,  0.8988])\n",
      "tensor([ True,  True, False,  True])  :  tensor([1., 1., 0., 1.])\n",
      "tensor([ 1.6536, -2.5045])\n",
      "tensor([ True, False])  :  tensor([1., 0.])\n",
      "Average loss: 0.05552116775264342\n",
      "Accuracy: 0.9\n",
      "\n"
     ]
    }
   ],
   "source": [
    "test_loss, test_acc = test_loop(test_loader, model, loss_fn, device)"
   ]
  },
  {
   "cell_type": "code",
   "execution_count": 25,
   "id": "5cf72178",
   "metadata": {
    "scrolled": true
   },
   "outputs": [
    {
     "data": {
      "text/plain": [
       "[38,\n",
       " 28,\n",
       " 71,\n",
       " 98,\n",
       " 20,\n",
       " 56,\n",
       " 23,\n",
       " 36,\n",
       " 58,\n",
       " 74,\n",
       " 41,\n",
       " 90,\n",
       " 82,\n",
       " 18,\n",
       " 79,\n",
       " 62,\n",
       " 35,\n",
       " 47,\n",
       " 14,\n",
       " 89,\n",
       " 2,\n",
       " 22,\n",
       " 61,\n",
       " 7,\n",
       " 101,\n",
       " 80,\n",
       " 42,\n",
       " 68,\n",
       " 63,\n",
       " 10]"
      ]
     },
     "execution_count": 25,
     "metadata": {},
     "output_type": "execute_result"
    }
   ],
   "source": [
    "test_idx"
   ]
  },
  {
   "cell_type": "code",
   "execution_count": 26,
   "id": "51b497e1",
   "metadata": {},
   "outputs": [
    {
     "name": "stdout",
     "output_type": "stream",
     "text": [
      "tensor([-3.6796, -5.1218, -3.4854, -4.3299])\n",
      "tensor([False, False, False, False])  :  tensor([0., 0., 0., 0.])\n",
      "tensor([-5.7074,  1.8740, -0.6807,  2.7843])\n",
      "tensor([False,  True, False,  True])  :  tensor([0., 0., 0., 1.])\n",
      "tensor([-1.2731,  3.4969,  5.6177,  3.4735])\n",
      "tensor([False,  True,  True,  True])  :  tensor([1., 1., 1., 1.])\n",
      "tensor([2.2274, 2.2708])\n",
      "tensor([True, True])  :  tensor([1., 1.])\n",
      "Average loss: 0.08123278192111424\n",
      "Accuracy: 0.8571428571428571\n",
      "\n"
     ]
    }
   ],
   "source": [
    "other_test_loss, other_test_acc = test_loop(other_test_loader, model, loss_fn, device)"
   ]
  },
  {
   "cell_type": "code",
   "execution_count": 27,
   "id": "8f069a33",
   "metadata": {},
   "outputs": [
    {
     "data": {
      "text/plain": [
       "[48, 49, 50, 51, 52, 53, 54, 103, 104, 105, 106, 107, 108, 109]"
      ]
     },
     "execution_count": 27,
     "metadata": {},
     "output_type": "execute_result"
    }
   ],
   "source": [
    "other_test_indices"
   ]
  },
  {
   "cell_type": "code",
   "execution_count": null,
   "id": "6e2893a0",
   "metadata": {},
   "outputs": [],
   "source": []
  }
 ],
 "metadata": {
  "kernelspec": {
   "display_name": "Python 3 (ipykernel)",
   "language": "python",
   "name": "python3"
  },
  "language_info": {
   "codemirror_mode": {
    "name": "ipython",
    "version": 3
   },
   "file_extension": ".py",
   "mimetype": "text/x-python",
   "name": "python",
   "nbconvert_exporter": "python",
   "pygments_lexer": "ipython3",
   "version": "3.11.6"
  }
 },
 "nbformat": 4,
 "nbformat_minor": 5
}
