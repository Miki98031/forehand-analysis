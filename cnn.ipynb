{
 "cells": [
  {
   "cell_type": "code",
   "execution_count": 1,
   "id": "4dee3fa3",
   "metadata": {},
   "outputs": [],
   "source": [
    "from matplotlib import pyplot as plt\n",
    "from torch import nn\n",
    "import torch\n",
    "from torch.nn import BCEWithLogitsLoss\n",
    "from torch.optim import Adam\n",
    "from torch.utils.data import DataLoader\n",
    "import torchvision.transforms as transforms \n",
    "from torchvision import datasets\n",
    "from PIL import Image \n",
    "import os\n",
    "import torch.nn.functional as F\n",
    "from tqdm import tqdm"
   ]
  },
  {
   "cell_type": "code",
   "execution_count": 2,
   "id": "f7b9189e",
   "metadata": {},
   "outputs": [],
   "source": [
    "train_videos_path = r'C:\\Users\\mihai\\Desktop\\forehand-analysis\\images_dataset\\train'\n",
    "test_videos_path = r'C:\\Users\\mihai\\Desktop\\forehand-analysis\\images_dataset\\test'"
   ]
  },
  {
   "cell_type": "code",
   "execution_count": 3,
   "id": "2081e2fa",
   "metadata": {},
   "outputs": [],
   "source": [
    "transform = transforms.Compose([\n",
    "    transforms.Grayscale(num_output_channels=1),\n",
    "    transforms.Resize((391, 422)),\n",
    "    transforms.ToTensor()\n",
    "])\n",
    "\n",
    "train_dataset = datasets.ImageFolder(root=train_videos_path, transform=transform)\n",
    "train_loader = DataLoader(train_dataset, batch_size=1, shuffle=True)\n",
    "\n",
    "test_dataset = datasets.ImageFolder(root=test_videos_path, transform=transform)\n",
    "test_loader = DataLoader(test_dataset, batch_size=1, shuffle=True)"
   ]
  },
  {
   "cell_type": "code",
   "execution_count": 4,
   "id": "108ab6dd",
   "metadata": {},
   "outputs": [
    {
     "data": {
      "text/plain": [
       "Dataset ImageFolder\n",
       "    Number of datapoints: 14\n",
       "    Root location: C:\\Users\\mihai\\Desktop\\forehand-analysis\\images_dataset\\train\n",
       "    StandardTransform\n",
       "Transform: Compose(\n",
       "               Grayscale(num_output_channels=1)\n",
       "               Resize(size=(391, 422), interpolation=bilinear, max_size=None, antialias=None)\n",
       "               ToTensor()\n",
       "           )"
      ]
     },
     "execution_count": 4,
     "metadata": {},
     "output_type": "execute_result"
    }
   ],
   "source": [
    "train_dataset"
   ]
  },
  {
   "cell_type": "code",
   "execution_count": 5,
   "id": "3638e448",
   "metadata": {},
   "outputs": [
    {
     "name": "stdout",
     "output_type": "stream",
     "text": [
      "torch.Size([1, 391, 422])\n"
     ]
    },
    {
     "data": {
      "text/plain": [
       "<matplotlib.image.AxesImage at 0x1d6a883bc48>"
      ]
     },
     "execution_count": 5,
     "metadata": {},
     "output_type": "execute_result"
    },
    {
     "data": {
      "image/png": "[encoded data removed]",
      "text/plain": [
       "<Figure size 640x480 with 1 Axes>"
      ]
     },
     "metadata": {},
     "output_type": "display_data"
    }
   ],
   "source": [
    "img, label = train_dataset[0]\n",
    "img_height = img.shape[1]\n",
    "img_width = img.shape[2]\n",
    "print(img.shape)\n",
    "plt.imshow(img.numpy().reshape(img_height, img_width), cmap='gray')"
   ]
  },
  {
   "cell_type": "code",
   "execution_count": 6,
   "id": "b83f5494",
   "metadata": {},
   "outputs": [],
   "source": [
    "class ConvNet(nn.Module):\n",
    "    def __init__(self):\n",
    "        super().__init__()\n",
    "        self.layer1 = nn.Conv2d(1, 16, 3) \n",
    "        self.layer2 = nn.Conv2d(16, 32, 3)\n",
    "        self.pool = nn.MaxPool2d(2)\n",
    "        self.flatten = nn.Flatten(start_dim=1)\n",
    "        self.layer3 = nn.Linear(319488, 128)\n",
    "        self.fc = nn.Linear(128, 1)\n",
    "\n",
    "    def forward(self, x):\n",
    "        #print(x.shape)\n",
    "        x = F.relu(self.layer1(x))\n",
    "        #print(x.shape)\n",
    "        x = self.pool(x)\n",
    "        #print(x.shape)\n",
    "        x = F.relu(self.layer2(x))\n",
    "        #print(x.shape)\n",
    "        x = self.pool(x)\n",
    "        #print(x.shape)\n",
    "        x = self.flatten(x)\n",
    "        #print(x.shape)\n",
    "        x = F.relu(self.layer3(x))\n",
    "        return self.fc(x)"
   ]
  },
  {
   "cell_type": "code",
   "execution_count": 7,
   "id": "28e91d76",
   "metadata": {},
   "outputs": [],
   "source": [
    "model = ConvNet()"
   ]
  },
  {
   "cell_type": "code",
   "execution_count": 8,
   "id": "9341d274",
   "metadata": {},
   "outputs": [
    {
     "data": {
      "text/plain": [
       "tensor([[0.0888]], grad_fn=<AddmmBackward0>)"
      ]
     },
     "execution_count": 8,
     "metadata": {},
     "output_type": "execute_result"
    }
   ],
   "source": [
    "model(img.reshape(1,1,img_height,img_width)) # dodajemo batch_size=1"
   ]
  },
  {
   "cell_type": "code",
   "execution_count": 9,
   "id": "77d02f06",
   "metadata": {},
   "outputs": [
    {
     "data": {
      "text/plain": [
       "ConvNet(\n",
       "  (layer1): Conv2d(1, 16, kernel_size=(3, 3), stride=(1, 1))\n",
       "  (layer2): Conv2d(16, 32, kernel_size=(3, 3), stride=(1, 1))\n",
       "  (pool): MaxPool2d(kernel_size=2, stride=2, padding=0, dilation=1, ceil_mode=False)\n",
       "  (flatten): Flatten(start_dim=1, end_dim=-1)\n",
       "  (layer3): Linear(in_features=319488, out_features=128, bias=True)\n",
       "  (fc): Linear(in_features=128, out_features=1, bias=True)\n",
       ")"
      ]
     },
     "execution_count": 9,
     "metadata": {},
     "output_type": "execute_result"
    }
   ],
   "source": [
    "loss_fn = nn.BCEWithLogitsLoss()\n",
    "optimizer = Adam(model.parameters())\n",
    "device = 'gpu' if torch.cuda.is_available() else 'cpu'\n",
    "model.to(device)"
   ]
  },
  {
   "cell_type": "code",
   "execution_count": 10,
   "id": "a9876882",
   "metadata": {},
   "outputs": [],
   "source": [
    "def train_loop(dataloader, model, loss_fn, optimizer, device):\n",
    "    model.train() \n",
    "    for X, y in dataloader:\n",
    "        X, y = X.to(device), y.to(device)\n",
    "        y = y.view(-1, 1).float()\n",
    "        #print('y: ', y, ' : ', y.shape)\n",
    "        preds = model(X)\n",
    "        loss = loss_fn(preds, y)\n",
    "\n",
    "        loss.backward()\n",
    "        optimizer.step()\n",
    "        optimizer.zero_grad()"
   ]
  },
  {
   "cell_type": "code",
   "execution_count": 11,
   "id": "18e4146a",
   "metadata": {},
   "outputs": [],
   "source": [
    "def test_loop(dataloader, model, loss_fn, device):\n",
    "    model.eval() \n",
    "    with torch.no_grad():\n",
    "        total_loss = 0\n",
    "        num_same = 0\n",
    "        for X, y in dataloader:\n",
    "            X, y = X.to(device), y.to(device)\n",
    "            y = y.view(-1, 1).float()\n",
    "            outputs = model(X)\n",
    "            loss = loss_fn(outputs, y)\n",
    "            total_loss += loss.item()\n",
    "\n",
    "            print(outputs)\n",
    "\n",
    "            if len(outputs.shape) == 2: # accuracy - dve klase\n",
    "                preds = outputs > 0 # (izlazi > 0 -> klasa 1, izlazi <= 0 -> klasa 0)\n",
    "                print(preds)\n",
    "                num_same += sum(preds == y).item()\n",
    "            else: # accuracy - vise klasa\n",
    "                _, indices = torch.max(outputs, 1) # maks po dimenziji 1 jer je outputs.shape = (batch_size, num_classes)\n",
    "                num_same += sum(indices == y).item()\n",
    "        print(f'Average loss: {total_loss / len(dataloader.dataset)}')\n",
    "        print(f'Accuracy: {num_same / len(dataloader.dataset)}')"
   ]
  },
  {
   "cell_type": "code",
   "execution_count": 12,
   "id": "ba3fa4fa",
   "metadata": {
    "scrolled": false
   },
   "outputs": [
    {
     "name": "stderr",
     "output_type": "stream",
     "text": [
      " 10%|████████▎                                                                          | 1/10 [00:02<00:26,  3.00s/it]"
     ]
    },
    {
     "name": "stdout",
     "output_type": "stream",
     "text": [
      "tensor([[1.5111]])\n",
      "tensor([[True]])\n",
      "tensor([[1.5020]])\n",
      "tensor([[True]])\n",
      "tensor([[1.4899]])\n",
      "tensor([[True]])\n",
      "tensor([[1.4957]])\n",
      "tensor([[True]])\n",
      "tensor([[1.4893]])\n",
      "tensor([[True]])\n",
      "tensor([[1.5096]])\n",
      "tensor([[True]])\n",
      "Average loss: 0.9531569431225458\n",
      "Accuracy: 0.5\n"
     ]
    },
    {
     "name": "stderr",
     "output_type": "stream",
     "text": [
      "\r",
      " 20%|████████████████▌                                                                  | 2/10 [00:06<00:25,  3.24s/it]"
     ]
    },
    {
     "name": "stdout",
     "output_type": "stream",
     "text": [
      "tensor([[0.7229]])\n",
      "tensor([[True]])\n",
      "tensor([[0.7788]])\n",
      "tensor([[True]])\n",
      "tensor([[0.7745]])\n",
      "tensor([[True]])\n",
      "tensor([[0.7559]])\n",
      "tensor([[True]])\n",
      "tensor([[0.6929]])\n",
      "tensor([[True]])\n",
      "tensor([[0.6524]])\n",
      "tensor([[True]])\n",
      "Average loss: 0.7613197962443033\n",
      "Accuracy: 0.5\n"
     ]
    },
    {
     "name": "stderr",
     "output_type": "stream",
     "text": [
      "\r",
      " 30%|████████████████████████▉                                                          | 3/10 [00:10<00:25,  3.64s/it]"
     ]
    },
    {
     "name": "stdout",
     "output_type": "stream",
     "text": [
      "tensor([[0.8369]])\n",
      "tensor([[True]])\n",
      "tensor([[1.0827]])\n",
      "tensor([[True]])\n",
      "tensor([[0.9879]])\n",
      "tensor([[True]])\n",
      "tensor([[0.5626]])\n",
      "tensor([[True]])\n",
      "tensor([[0.3820]])\n",
      "tensor([[True]])\n",
      "tensor([[1.0469]])\n",
      "tensor([[True]])\n",
      "Average loss: 0.7919385880231857\n",
      "Accuracy: 0.5\n"
     ]
    },
    {
     "name": "stderr",
     "output_type": "stream",
     "text": [
      "\r",
      " 40%|█████████████████████████████████▏                                                 | 4/10 [00:14<00:23,  3.83s/it]"
     ]
    },
    {
     "name": "stdout",
     "output_type": "stream",
     "text": [
      "tensor([[1.6031]])\n",
      "tensor([[True]])\n",
      "tensor([[1.7498]])\n",
      "tensor([[True]])\n",
      "tensor([[1.2246]])\n",
      "tensor([[True]])\n",
      "tensor([[0.3316]])\n",
      "tensor([[True]])\n",
      "tensor([[1.8539]])\n",
      "tensor([[True]])\n",
      "tensor([[-0.1893]])\n",
      "tensor([[False]])\n",
      "Average loss: 0.9157487874229749\n",
      "Accuracy: 0.6666666666666666\n"
     ]
    },
    {
     "name": "stderr",
     "output_type": "stream",
     "text": [
      "\r",
      " 50%|█████████████████████████████████████████▌                                         | 5/10 [00:18<00:19,  3.92s/it]"
     ]
    },
    {
     "name": "stdout",
     "output_type": "stream",
     "text": [
      "tensor([[1.2306]])\n",
      "tensor([[True]])\n",
      "tensor([[0.7912]])\n",
      "tensor([[True]])\n",
      "tensor([[-2.8395]])\n",
      "tensor([[False]])\n",
      "tensor([[-0.4917]])\n",
      "tensor([[False]])\n",
      "tensor([[0.6375]])\n",
      "tensor([[True]])\n",
      "tensor([[-2.4615]])\n",
      "tensor([[False]])\n",
      "Average loss: 1.107565265148878\n",
      "Accuracy: 0.3333333333333333\n"
     ]
    },
    {
     "name": "stderr",
     "output_type": "stream",
     "text": [
      "\r",
      " 60%|█████████████████████████████████████████████████▊                                 | 6/10 [00:22<00:15,  3.98s/it]"
     ]
    },
    {
     "name": "stdout",
     "output_type": "stream",
     "text": [
      "tensor([[2.8960]])\n",
      "tensor([[True]])\n",
      "tensor([[-3.6987]])\n",
      "tensor([[False]])\n",
      "tensor([[-2.7588]])\n",
      "tensor([[False]])\n",
      "tensor([[3.8752]])\n",
      "tensor([[True]])\n",
      "tensor([[3.4452]])\n",
      "tensor([[True]])\n",
      "tensor([[1.3589]])\n",
      "tensor([[True]])\n",
      "Average loss: 1.749920935370028\n",
      "Accuracy: 0.5\n"
     ]
    },
    {
     "name": "stderr",
     "output_type": "stream",
     "text": [
      "\r",
      " 70%|██████████████████████████████████████████████████████████                         | 7/10 [00:26<00:12,  4.03s/it]"
     ]
    },
    {
     "name": "stdout",
     "output_type": "stream",
     "text": [
      "tensor([[6.3428]])\n",
      "tensor([[True]])\n",
      "tensor([[-2.2326]])\n",
      "tensor([[False]])\n",
      "tensor([[-3.1147]])\n",
      "tensor([[False]])\n",
      "tensor([[4.9609]])\n",
      "tensor([[True]])\n",
      "tensor([[5.5210]])\n",
      "tensor([[True]])\n",
      "tensor([[3.0014]])\n",
      "tensor([[True]])\n",
      "Average loss: 2.3838295033201575\n",
      "Accuracy: 0.5\n"
     ]
    },
    {
     "name": "stderr",
     "output_type": "stream",
     "text": [
      "\r",
      " 80%|██████████████████████████████████████████████████████████████████▍                | 8/10 [00:31<00:08,  4.06s/it]"
     ]
    },
    {
     "name": "stdout",
     "output_type": "stream",
     "text": [
      "tensor([[4.8361]])\n",
      "tensor([[True]])\n",
      "tensor([[3.6135]])\n",
      "tensor([[True]])\n",
      "tensor([[1.0263]])\n",
      "tensor([[True]])\n",
      "tensor([[3.2478]])\n",
      "tensor([[True]])\n",
      "tensor([[-4.6789]])\n",
      "tensor([[False]])\n",
      "tensor([[-5.5467]])\n",
      "tensor([[False]])\n",
      "Average loss: 2.253426222402292\n",
      "Accuracy: 0.5\n"
     ]
    },
    {
     "name": "stderr",
     "output_type": "stream",
     "text": [
      "\r",
      " 90%|██████████████████████████████████████████████████████████████████████████▋        | 9/10 [00:35<00:04,  4.08s/it]"
     ]
    },
    {
     "name": "stdout",
     "output_type": "stream",
     "text": [
      "tensor([[0.3419]])\n",
      "tensor([[True]])\n",
      "tensor([[2.6367]])\n",
      "tensor([[True]])\n",
      "tensor([[4.3292]])\n",
      "tensor([[True]])\n",
      "tensor([[-6.5397]])\n",
      "tensor([[False]])\n",
      "tensor([[2.9534]])\n",
      "tensor([[True]])\n",
      "tensor([[-5.6598]])\n",
      "tensor([[False]])\n",
      "Average loss: 2.2695255465999558\n",
      "Accuracy: 0.5\n"
     ]
    },
    {
     "name": "stderr",
     "output_type": "stream",
     "text": [
      "100%|██████████████████████████████████████████████████████████████████████████████████| 10/10 [00:39<00:00,  3.94s/it]"
     ]
    },
    {
     "name": "stdout",
     "output_type": "stream",
     "text": [
      "tensor([[3.0049]])\n",
      "tensor([[True]])\n",
      "tensor([[3.3175]])\n",
      "tensor([[True]])\n",
      "tensor([[0.6699]])\n",
      "tensor([[True]])\n",
      "tensor([[-5.5723]])\n",
      "tensor([[False]])\n",
      "tensor([[-6.4784]])\n",
      "tensor([[False]])\n",
      "tensor([[4.7882]])\n",
      "tensor([[True]])\n",
      "Average loss: 2.364808045056028\n",
      "Accuracy: 0.5\n"
     ]
    },
    {
     "name": "stderr",
     "output_type": "stream",
     "text": [
      "\n"
     ]
    }
   ],
   "source": [
    "num_epochs = 10\n",
    "for epoch in tqdm(range(num_epochs)):\n",
    "    train_loop(train_loader, model, loss_fn, optimizer, device)\n",
    "    test_loop(test_loader, model, loss_fn, device)"
   ]
  },
  {
   "cell_type": "code",
   "execution_count": null,
   "id": "c53558f1",
   "metadata": {},
   "outputs": [],
   "source": []
  },
  {
   "cell_type": "code",
   "execution_count": null,
   "id": "e8c11f75",
   "metadata": {},
   "outputs": [],
   "source": []
  }
 ],
 "metadata": {
  "kernelspec": {
   "display_name": "Python 3 (ipykernel)",
   "language": "python",
   "name": "python3"
  },
  "language_info": {
   "codemirror_mode": {
    "name": "ipython",
    "version": 3
   },
   "file_extension": ".py",
   "mimetype": "text/x-python",
   "name": "python",
   "nbconvert_exporter": "python",
   "pygments_lexer": "ipython3",
   "version": "3.7.12"
  }
 },
 "nbformat": 4,
 "nbformat_minor": 5
}
